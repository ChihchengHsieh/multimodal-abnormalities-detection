{
 "cells": [
  {
   "cell_type": "markdown",
   "metadata": {},
   "source": [
    "## Try out our model here.\n",
    "\n",
    "We test our mutli-modal Faster R-CNN with MIMIC dataset here."
   ]
  },
  {
   "cell_type": "code",
   "execution_count": 32,
   "metadata": {},
   "outputs": [],
   "source": [
    "import pandas as pd\n",
    "import numpy as np\n",
    "\n",
    "import utils.print as print_f\n",
    "\n",
    "from utils.coco_eval import get_eval_params_dict\n",
    "from utils.engine import xami_train_one_epoch, xami_evaluate, get_iou_types\n",
    "from utils.plot import plot_losses, plot_train_val_ap_ars, get_ap_ar_for_train_val\n",
    "from utils.save import get_data_from_metric_logger\n",
    "from utils.coco_utils import get_cocos\n",
    "\n",
    "from models.setup import ModelSetup\n",
    "from models.build import create_model_from_setup\n",
    "from models.train import TrainingInfo\n",
    "from utils.save import check_best, end_train\n",
    "from data.load import get_datasets, get_dataloaders\n",
    "\n",
    "from IPython.display import clear_output\n",
    "from utils.eval import get_ar_ap\n",
    "from utils.train import get_optimiser, get_lr_scheduler, print_params_setup\n",
    "from utils.init import reproducibility, clean_memory_get_device\n",
    "from data.constants import DEFAULT_REFLACX_LABEL_COLS, XAMI_MIMIC_PATH\n",
    "from  datetime import datetime\n",
    "import torch.optim as optim\n",
    "from collections import OrderedDict\n",
    "\n",
    "## Suppress the assignement warning from pandas.r\n",
    "pd.options.mode.chained_assignment = None  # default='warn'\n",
    "\n",
    "## Supress user warning\n",
    "import warnings\n",
    "warnings.filterwarnings(\"ignore\", category=UserWarning)\n",
    "\n",
    "%matplotlib inline"
   ]
  },
  {
   "cell_type": "code",
   "execution_count": 33,
   "metadata": {},
   "outputs": [
    {
     "name": "stdout",
     "output_type": "stream",
     "text": [
      "This notebook will running on device: [CUDA]\n"
     ]
    }
   ],
   "source": [
    "device = clean_memory_get_device()\n",
    "reproducibility()"
   ]
  },
  {
   "cell_type": "markdown",
   "metadata": {},
   "source": [
    "### Define your MIMIC folde path here."
   ]
  },
  {
   "cell_type": "code",
   "execution_count": 34,
   "metadata": {},
   "outputs": [],
   "source": [
    "use_iobb = True\n",
    "io_type_str = \"IoBB\" if use_iobb else \"IoU\"\n",
    "labels_cols = DEFAULT_REFLACX_LABEL_COLS\n",
    "iou_thrs = np.array([0.5])\n",
    "\n",
    "\n",
    "model_setup =   ModelSetup(\n",
    "        name=\"CXR_Clinical\",\n",
    "        use_clinical=True,\n",
    "        use_custom_model=True,\n",
    "        use_early_stop_model=True,\n",
    "        best_ar_val_model_path=None,\n",
    "        best_ap_val_model_path=None,\n",
    "        final_model_path=None,\n",
    "        backbone=\"resnet50\",\n",
    "        using_fpn=True,\n",
    "        optimiser=\"sgd\",\n",
    "        lr=1e-3,\n",
    "        # lr=1e-4,\n",
    "        # weight_decay=0.001,\n",
    "        weight_decay=0,\n",
    "        pretrained=True,\n",
    "        record_training_performance=True,\n",
    "        dataset_mode=\"unified\",\n",
    "        image_size=512, \n",
    "        batch_size=4,\n",
    "        warmup_epochs=0,\n",
    "        # lr_scheduler=\"ReduceLROnPlateau\",\n",
    "        lr_scheduler=None,\n",
    "        reduceLROnPlateau_factor=0.1,\n",
    "        reduceLROnPlateau_patience=10,\n",
    "        reduceLROnPlateau_full_stop=False,\n",
    "        multiStepLR_milestones=[100],\n",
    "        multiStepLR_gamma=0.1,\n",
    "        mask_hidden_layers=256,\n",
    "        use_mask=False,\n",
    "        clinical_expand_dropout_rate=0,\n",
    "        clinical_conv_dropout_rate=0,\n",
    "        clinical_num_len=9,\n",
    "        fuse_conv_channels=32,\n",
    "        fuse_dropout_rate=0,\n",
    "        fuse_depth=0,\n",
    "        fusion_residule=False,\n",
    "\n",
    "        # if it still have overfitting issue, then we don't need to increase the model size (we should rather to decrease it.)\n",
    "        fusion_strategy=\"add\",\n",
    "\n",
    "        clinical_input_channels=64,\n",
    "\n",
    "        clinical_expand_conv_channels= 64,\n",
    "\n",
    "        representation_size=128, # 32\n",
    "\n",
    "        box_head_dropout_rate=0,\n",
    "\n",
    "        clinical_conv_channels=256,\n",
    "\n",
    "        backbone_out_channels=16,\n",
    "\n",
    "        gt_in_train_till=50,\n",
    "    )\n"
   ]
  },
  {
   "cell_type": "markdown",
   "metadata": {},
   "source": [
    "# Initiate datasets and dataloaders\n",
    "The batch size is also defined in this section. For testing purpose, we only set it as 2."
   ]
  },
  {
   "cell_type": "code",
   "execution_count": 35,
   "metadata": {},
   "outputs": [],
   "source": [
    "dataset_params_dict = {\n",
    "    \"XAMI_MIMIC_PATH\": XAMI_MIMIC_PATH,\n",
    "    \"with_clinical\": model_setup.use_clinical,\n",
    "    \"dataset_mode\": model_setup.dataset_mode,\n",
    "    \"bbox_to_mask\": model_setup.use_mask,\n",
    "    \"labels_cols\": DEFAULT_REFLACX_LABEL_COLS,\n",
    "}\n",
    "\n",
    "detect_eval_dataset, train_dataset, val_dataset, test_dataset = get_datasets(\n",
    "    dataset_params_dict=dataset_params_dict\n",
    ")\n",
    "\n",
    "train_dataloader, val_dataloader, test_dataloader = get_dataloaders(\n",
    "    train_dataset, val_dataset, test_dataset, batch_size=4\n",
    ")"
   ]
  },
  {
   "cell_type": "code",
   "execution_count": 36,
   "metadata": {},
   "outputs": [
    {
     "name": "stdout",
     "output_type": "stream",
     "text": [
      "We used to have 590, after unifying, we will have 590.\n"
     ]
    }
   ],
   "source": [
    "print(f\"We used to have {len(detect_eval_dataset.df.dicom_id)}, after unifying, we will have {len(detect_eval_dataset.df.dicom_id.unique())}.\")"
   ]
  },
  {
   "cell_type": "markdown",
   "metadata": {},
   "source": [
    "## Example instance from dataset\n",
    "We show what's inside a single instance. It will provide:\n",
    "\n",
    "- Images\n",
    "- Clinical data\n",
    "- Targets (Dictionary)\n",
    "\n",
    "And, inside the target, there're:\n",
    "\n",
    "- boxes (bounding boxes of abnormality)\n",
    "- lable (disease index (Note: the class **0** means the background))\n",
    "- image_id (idx to get that image)\n",
    "- area (the areas that bouding boxes contain)\n",
    "- iscrowd (if it's a place with multiple bouding boxes, we assume all the the bouding boxes are not crowd.)"
   ]
  },
  {
   "cell_type": "code",
   "execution_count": 37,
   "metadata": {},
   "outputs": [
    {
     "data": {
      "text/plain": [
       "(tensor([[[0.5608, 0.5608, 0.5569,  ..., 0.0000, 0.0000, 0.0000],\n",
       "          [0.5569, 0.5647, 0.5647,  ..., 0.0000, 0.0000, 0.0000],\n",
       "          [0.5490, 0.5569, 0.5608,  ..., 0.0000, 0.0000, 0.0000],\n",
       "          ...,\n",
       "          [0.7686, 0.7686, 0.7647,  ..., 1.0000, 1.0000, 1.0000],\n",
       "          [0.7608, 0.7647, 0.7608,  ..., 1.0000, 1.0000, 1.0000],\n",
       "          [0.7529, 0.7569, 0.7569,  ..., 1.0000, 1.0000, 1.0000]],\n",
       " \n",
       "         [[0.5608, 0.5608, 0.5569,  ..., 0.0000, 0.0000, 0.0000],\n",
       "          [0.5569, 0.5647, 0.5647,  ..., 0.0000, 0.0000, 0.0000],\n",
       "          [0.5490, 0.5569, 0.5608,  ..., 0.0000, 0.0000, 0.0000],\n",
       "          ...,\n",
       "          [0.7686, 0.7686, 0.7647,  ..., 1.0000, 1.0000, 1.0000],\n",
       "          [0.7608, 0.7647, 0.7608,  ..., 1.0000, 1.0000, 1.0000],\n",
       "          [0.7529, 0.7569, 0.7569,  ..., 1.0000, 1.0000, 1.0000]],\n",
       " \n",
       "         [[0.5608, 0.5608, 0.5569,  ..., 0.0000, 0.0000, 0.0000],\n",
       "          [0.5569, 0.5647, 0.5647,  ..., 0.0000, 0.0000, 0.0000],\n",
       "          [0.5490, 0.5569, 0.5608,  ..., 0.0000, 0.0000, 0.0000],\n",
       "          ...,\n",
       "          [0.7686, 0.7686, 0.7647,  ..., 1.0000, 1.0000, 1.0000],\n",
       "          [0.7608, 0.7647, 0.7608,  ..., 1.0000, 1.0000, 1.0000],\n",
       "          [0.7529, 0.7569, 0.7569,  ..., 1.0000, 1.0000, 1.0000]]]),\n",
       " tensor([ 69.0000,  98.1000,  90.0000,  18.0000,  99.0000, 184.0000,  75.0000,\n",
       "          13.0000,   3.0000]),\n",
       " tensor([0], dtype=torch.int32),\n",
       " {'boxes': tensor([[ 734., 1204., 2211., 2175.],\n",
       "          [ 831., 1204., 2223., 2310.],\n",
       "          [ 692., 1364., 2257., 2261.],\n",
       "          [ 887., 1081., 2248., 2344.]], dtype=torch.float64),\n",
       "  'labels': tensor([1, 1, 1, 1]),\n",
       "  'image_id': tensor([0]),\n",
       "  'area': tensor([1434167., 1539552., 1403805., 1718943.], dtype=torch.float64),\n",
       "  'iscrowd': tensor([0, 0, 0, 0]),\n",
       "  'dicom_id': '34cedb74-d0996b40-6d218312-a9174bea-d48dc033',\n",
       "  'image_path': 'D:\\\\XAMI-MIMIC\\\\patient_18111516\\\\CXR-JPG\\\\s55032240\\\\34cedb74-d0996b40-6d218312-a9174bea-d48dc033.jpg'})"
      ]
     },
     "execution_count": 37,
     "metadata": {},
     "output_type": "execute_result"
    }
   ],
   "source": [
    "train_dataset[0]"
   ]
  },
  {
   "cell_type": "markdown",
   "metadata": {},
   "source": [
    "## Define Model.\n",
    "\n",
    "We define he models here. Two backbone examples are in the below code section. The MobileNet is a light weight network, and ResNet is heavier, but usually perform better. In our case, the calculation is not the most important factor; therefore, we chose ResNet with feature pyramid networks (FPN) backbone."
   ]
  },
  {
   "cell_type": "code",
   "execution_count": 38,
   "metadata": {},
   "outputs": [
    {
     "name": "stdout",
     "output_type": "stream",
     "text": [
      "Load custom model\n",
      "Using ResNet as backbone\n",
      "Using pretrained backbone. resnet50\n",
      "Using ResNet as clinical backbone\n",
      "Not using pretrained MaksRCNN model.\n"
     ]
    },
    {
     "data": {
      "text/plain": [
       "MultimodalMaskRCNN(\n",
       "  (transform): GeneralizedRCNNTransform(\n",
       "      Normalize(mean=[0.485, 0.456, 0.406], std=[0.229, 0.224, 0.225])\n",
       "      Resize(min_size=(800,), max_size=1333, mode='bilinear')\n",
       "  )\n",
       "  (backbone): BackboneWithFPN(\n",
       "    (body): IntermediateLayerGetter(\n",
       "      (conv1): Conv2d(3, 64, kernel_size=(7, 7), stride=(2, 2), padding=(3, 3), bias=False)\n",
       "      (bn1): FrozenBatchNorm2d(64, eps=1e-05)\n",
       "      (relu): ReLU(inplace=True)\n",
       "      (maxpool): MaxPool2d(kernel_size=3, stride=2, padding=1, dilation=1, ceil_mode=False)\n",
       "      (layer1): Sequential(\n",
       "        (0): Bottleneck(\n",
       "          (conv1): Conv2d(64, 64, kernel_size=(1, 1), stride=(1, 1), bias=False)\n",
       "          (bn1): FrozenBatchNorm2d(64, eps=1e-05)\n",
       "          (conv2): Conv2d(64, 64, kernel_size=(3, 3), stride=(1, 1), padding=(1, 1), bias=False)\n",
       "          (bn2): FrozenBatchNorm2d(64, eps=1e-05)\n",
       "          (conv3): Conv2d(64, 256, kernel_size=(1, 1), stride=(1, 1), bias=False)\n",
       "          (bn3): FrozenBatchNorm2d(256, eps=1e-05)\n",
       "          (relu): ReLU(inplace=True)\n",
       "          (downsample): Sequential(\n",
       "            (0): Conv2d(64, 256, kernel_size=(1, 1), stride=(1, 1), bias=False)\n",
       "            (1): FrozenBatchNorm2d(256, eps=1e-05)\n",
       "          )\n",
       "        )\n",
       "        (1): Bottleneck(\n",
       "          (conv1): Conv2d(256, 64, kernel_size=(1, 1), stride=(1, 1), bias=False)\n",
       "          (bn1): FrozenBatchNorm2d(64, eps=1e-05)\n",
       "          (conv2): Conv2d(64, 64, kernel_size=(3, 3), stride=(1, 1), padding=(1, 1), bias=False)\n",
       "          (bn2): FrozenBatchNorm2d(64, eps=1e-05)\n",
       "          (conv3): Conv2d(64, 256, kernel_size=(1, 1), stride=(1, 1), bias=False)\n",
       "          (bn3): FrozenBatchNorm2d(256, eps=1e-05)\n",
       "          (relu): ReLU(inplace=True)\n",
       "        )\n",
       "        (2): Bottleneck(\n",
       "          (conv1): Conv2d(256, 64, kernel_size=(1, 1), stride=(1, 1), bias=False)\n",
       "          (bn1): FrozenBatchNorm2d(64, eps=1e-05)\n",
       "          (conv2): Conv2d(64, 64, kernel_size=(3, 3), stride=(1, 1), padding=(1, 1), bias=False)\n",
       "          (bn2): FrozenBatchNorm2d(64, eps=1e-05)\n",
       "          (conv3): Conv2d(64, 256, kernel_size=(1, 1), stride=(1, 1), bias=False)\n",
       "          (bn3): FrozenBatchNorm2d(256, eps=1e-05)\n",
       "          (relu): ReLU(inplace=True)\n",
       "        )\n",
       "      )\n",
       "      (layer2): Sequential(\n",
       "        (0): Bottleneck(\n",
       "          (conv1): Conv2d(256, 128, kernel_size=(1, 1), stride=(1, 1), bias=False)\n",
       "          (bn1): FrozenBatchNorm2d(128, eps=1e-05)\n",
       "          (conv2): Conv2d(128, 128, kernel_size=(3, 3), stride=(2, 2), padding=(1, 1), bias=False)\n",
       "          (bn2): FrozenBatchNorm2d(128, eps=1e-05)\n",
       "          (conv3): Conv2d(128, 512, kernel_size=(1, 1), stride=(1, 1), bias=False)\n",
       "          (bn3): FrozenBatchNorm2d(512, eps=1e-05)\n",
       "          (relu): ReLU(inplace=True)\n",
       "          (downsample): Sequential(\n",
       "            (0): Conv2d(256, 512, kernel_size=(1, 1), stride=(2, 2), bias=False)\n",
       "            (1): FrozenBatchNorm2d(512, eps=1e-05)\n",
       "          )\n",
       "        )\n",
       "        (1): Bottleneck(\n",
       "          (conv1): Conv2d(512, 128, kernel_size=(1, 1), stride=(1, 1), bias=False)\n",
       "          (bn1): FrozenBatchNorm2d(128, eps=1e-05)\n",
       "          (conv2): Conv2d(128, 128, kernel_size=(3, 3), stride=(1, 1), padding=(1, 1), bias=False)\n",
       "          (bn2): FrozenBatchNorm2d(128, eps=1e-05)\n",
       "          (conv3): Conv2d(128, 512, kernel_size=(1, 1), stride=(1, 1), bias=False)\n",
       "          (bn3): FrozenBatchNorm2d(512, eps=1e-05)\n",
       "          (relu): ReLU(inplace=True)\n",
       "        )\n",
       "        (2): Bottleneck(\n",
       "          (conv1): Conv2d(512, 128, kernel_size=(1, 1), stride=(1, 1), bias=False)\n",
       "          (bn1): FrozenBatchNorm2d(128, eps=1e-05)\n",
       "          (conv2): Conv2d(128, 128, kernel_size=(3, 3), stride=(1, 1), padding=(1, 1), bias=False)\n",
       "          (bn2): FrozenBatchNorm2d(128, eps=1e-05)\n",
       "          (conv3): Conv2d(128, 512, kernel_size=(1, 1), stride=(1, 1), bias=False)\n",
       "          (bn3): FrozenBatchNorm2d(512, eps=1e-05)\n",
       "          (relu): ReLU(inplace=True)\n",
       "        )\n",
       "        (3): Bottleneck(\n",
       "          (conv1): Conv2d(512, 128, kernel_size=(1, 1), stride=(1, 1), bias=False)\n",
       "          (bn1): FrozenBatchNorm2d(128, eps=1e-05)\n",
       "          (conv2): Conv2d(128, 128, kernel_size=(3, 3), stride=(1, 1), padding=(1, 1), bias=False)\n",
       "          (bn2): FrozenBatchNorm2d(128, eps=1e-05)\n",
       "          (conv3): Conv2d(128, 512, kernel_size=(1, 1), stride=(1, 1), bias=False)\n",
       "          (bn3): FrozenBatchNorm2d(512, eps=1e-05)\n",
       "          (relu): ReLU(inplace=True)\n",
       "        )\n",
       "      )\n",
       "      (layer3): Sequential(\n",
       "        (0): Bottleneck(\n",
       "          (conv1): Conv2d(512, 256, kernel_size=(1, 1), stride=(1, 1), bias=False)\n",
       "          (bn1): FrozenBatchNorm2d(256, eps=1e-05)\n",
       "          (conv2): Conv2d(256, 256, kernel_size=(3, 3), stride=(2, 2), padding=(1, 1), bias=False)\n",
       "          (bn2): FrozenBatchNorm2d(256, eps=1e-05)\n",
       "          (conv3): Conv2d(256, 1024, kernel_size=(1, 1), stride=(1, 1), bias=False)\n",
       "          (bn3): FrozenBatchNorm2d(1024, eps=1e-05)\n",
       "          (relu): ReLU(inplace=True)\n",
       "          (downsample): Sequential(\n",
       "            (0): Conv2d(512, 1024, kernel_size=(1, 1), stride=(2, 2), bias=False)\n",
       "            (1): FrozenBatchNorm2d(1024, eps=1e-05)\n",
       "          )\n",
       "        )\n",
       "        (1): Bottleneck(\n",
       "          (conv1): Conv2d(1024, 256, kernel_size=(1, 1), stride=(1, 1), bias=False)\n",
       "          (bn1): FrozenBatchNorm2d(256, eps=1e-05)\n",
       "          (conv2): Conv2d(256, 256, kernel_size=(3, 3), stride=(1, 1), padding=(1, 1), bias=False)\n",
       "          (bn2): FrozenBatchNorm2d(256, eps=1e-05)\n",
       "          (conv3): Conv2d(256, 1024, kernel_size=(1, 1), stride=(1, 1), bias=False)\n",
       "          (bn3): FrozenBatchNorm2d(1024, eps=1e-05)\n",
       "          (relu): ReLU(inplace=True)\n",
       "        )\n",
       "        (2): Bottleneck(\n",
       "          (conv1): Conv2d(1024, 256, kernel_size=(1, 1), stride=(1, 1), bias=False)\n",
       "          (bn1): FrozenBatchNorm2d(256, eps=1e-05)\n",
       "          (conv2): Conv2d(256, 256, kernel_size=(3, 3), stride=(1, 1), padding=(1, 1), bias=False)\n",
       "          (bn2): FrozenBatchNorm2d(256, eps=1e-05)\n",
       "          (conv3): Conv2d(256, 1024, kernel_size=(1, 1), stride=(1, 1), bias=False)\n",
       "          (bn3): FrozenBatchNorm2d(1024, eps=1e-05)\n",
       "          (relu): ReLU(inplace=True)\n",
       "        )\n",
       "        (3): Bottleneck(\n",
       "          (conv1): Conv2d(1024, 256, kernel_size=(1, 1), stride=(1, 1), bias=False)\n",
       "          (bn1): FrozenBatchNorm2d(256, eps=1e-05)\n",
       "          (conv2): Conv2d(256, 256, kernel_size=(3, 3), stride=(1, 1), padding=(1, 1), bias=False)\n",
       "          (bn2): FrozenBatchNorm2d(256, eps=1e-05)\n",
       "          (conv3): Conv2d(256, 1024, kernel_size=(1, 1), stride=(1, 1), bias=False)\n",
       "          (bn3): FrozenBatchNorm2d(1024, eps=1e-05)\n",
       "          (relu): ReLU(inplace=True)\n",
       "        )\n",
       "        (4): Bottleneck(\n",
       "          (conv1): Conv2d(1024, 256, kernel_size=(1, 1), stride=(1, 1), bias=False)\n",
       "          (bn1): FrozenBatchNorm2d(256, eps=1e-05)\n",
       "          (conv2): Conv2d(256, 256, kernel_size=(3, 3), stride=(1, 1), padding=(1, 1), bias=False)\n",
       "          (bn2): FrozenBatchNorm2d(256, eps=1e-05)\n",
       "          (conv3): Conv2d(256, 1024, kernel_size=(1, 1), stride=(1, 1), bias=False)\n",
       "          (bn3): FrozenBatchNorm2d(1024, eps=1e-05)\n",
       "          (relu): ReLU(inplace=True)\n",
       "        )\n",
       "        (5): Bottleneck(\n",
       "          (conv1): Conv2d(1024, 256, kernel_size=(1, 1), stride=(1, 1), bias=False)\n",
       "          (bn1): FrozenBatchNorm2d(256, eps=1e-05)\n",
       "          (conv2): Conv2d(256, 256, kernel_size=(3, 3), stride=(1, 1), padding=(1, 1), bias=False)\n",
       "          (bn2): FrozenBatchNorm2d(256, eps=1e-05)\n",
       "          (conv3): Conv2d(256, 1024, kernel_size=(1, 1), stride=(1, 1), bias=False)\n",
       "          (bn3): FrozenBatchNorm2d(1024, eps=1e-05)\n",
       "          (relu): ReLU(inplace=True)\n",
       "        )\n",
       "      )\n",
       "      (layer4): Sequential(\n",
       "        (0): Bottleneck(\n",
       "          (conv1): Conv2d(1024, 512, kernel_size=(1, 1), stride=(1, 1), bias=False)\n",
       "          (bn1): FrozenBatchNorm2d(512, eps=1e-05)\n",
       "          (conv2): Conv2d(512, 512, kernel_size=(3, 3), stride=(2, 2), padding=(1, 1), bias=False)\n",
       "          (bn2): FrozenBatchNorm2d(512, eps=1e-05)\n",
       "          (conv3): Conv2d(512, 2048, kernel_size=(1, 1), stride=(1, 1), bias=False)\n",
       "          (bn3): FrozenBatchNorm2d(2048, eps=1e-05)\n",
       "          (relu): ReLU(inplace=True)\n",
       "          (downsample): Sequential(\n",
       "            (0): Conv2d(1024, 2048, kernel_size=(1, 1), stride=(2, 2), bias=False)\n",
       "            (1): FrozenBatchNorm2d(2048, eps=1e-05)\n",
       "          )\n",
       "        )\n",
       "        (1): Bottleneck(\n",
       "          (conv1): Conv2d(2048, 512, kernel_size=(1, 1), stride=(1, 1), bias=False)\n",
       "          (bn1): FrozenBatchNorm2d(512, eps=1e-05)\n",
       "          (conv2): Conv2d(512, 512, kernel_size=(3, 3), stride=(1, 1), padding=(1, 1), bias=False)\n",
       "          (bn2): FrozenBatchNorm2d(512, eps=1e-05)\n",
       "          (conv3): Conv2d(512, 2048, kernel_size=(1, 1), stride=(1, 1), bias=False)\n",
       "          (bn3): FrozenBatchNorm2d(2048, eps=1e-05)\n",
       "          (relu): ReLU(inplace=True)\n",
       "        )\n",
       "        (2): Bottleneck(\n",
       "          (conv1): Conv2d(2048, 512, kernel_size=(1, 1), stride=(1, 1), bias=False)\n",
       "          (bn1): FrozenBatchNorm2d(512, eps=1e-05)\n",
       "          (conv2): Conv2d(512, 512, kernel_size=(3, 3), stride=(1, 1), padding=(1, 1), bias=False)\n",
       "          (bn2): FrozenBatchNorm2d(512, eps=1e-05)\n",
       "          (conv3): Conv2d(512, 2048, kernel_size=(1, 1), stride=(1, 1), bias=False)\n",
       "          (bn3): FrozenBatchNorm2d(2048, eps=1e-05)\n",
       "          (relu): ReLU(inplace=True)\n",
       "        )\n",
       "      )\n",
       "    )\n",
       "    (fpn): FeaturePyramidNetwork(\n",
       "      (inner_blocks): ModuleList(\n",
       "        (0): Conv2d(256, 256, kernel_size=(1, 1), stride=(1, 1))\n",
       "        (1): Conv2d(512, 256, kernel_size=(1, 1), stride=(1, 1))\n",
       "        (2): Conv2d(1024, 256, kernel_size=(1, 1), stride=(1, 1))\n",
       "        (3): Conv2d(2048, 256, kernel_size=(1, 1), stride=(1, 1))\n",
       "      )\n",
       "      (layer_blocks): ModuleList(\n",
       "        (0): Conv2d(256, 256, kernel_size=(3, 3), stride=(1, 1), padding=(1, 1))\n",
       "        (1): Conv2d(256, 256, kernel_size=(3, 3), stride=(1, 1), padding=(1, 1))\n",
       "        (2): Conv2d(256, 256, kernel_size=(3, 3), stride=(1, 1), padding=(1, 1))\n",
       "        (3): Conv2d(256, 256, kernel_size=(3, 3), stride=(1, 1), padding=(1, 1))\n",
       "      )\n",
       "      (extra_blocks): LastLevelMaxPool()\n",
       "    )\n",
       "  )\n",
       "  (rpn): XAMIRegionProposalNetwork(\n",
       "    (anchor_generator): AnchorGenerator()\n",
       "    (head): RPNHead(\n",
       "      (conv): Conv2d(256, 256, kernel_size=(3, 3), stride=(1, 1), padding=(1, 1))\n",
       "      (cls_logits): Conv2d(256, 3, kernel_size=(1, 1), stride=(1, 1))\n",
       "      (bbox_pred): Conv2d(256, 12, kernel_size=(1, 1), stride=(1, 1))\n",
       "    )\n",
       "  )\n",
       "  (roi_heads): XAMIRoIHeads(\n",
       "    (box_roi_pool): MultiScaleRoIAlign(featmap_names=['0', '1', '2', '3'], output_size=(7, 7), sampling_ratio=2)\n",
       "    (box_head): XAMITwoMLPHead(\n",
       "      (fc6): Sequential(\n",
       "        (0): Linear(in_features=12608, out_features=128, bias=True)\n",
       "        (1): Dropout2d(p=0, inplace=False)\n",
       "      )\n",
       "      (fc7): Sequential(\n",
       "        (0): Linear(in_features=128, out_features=128, bias=True)\n",
       "        (1): Dropout2d(p=0, inplace=False)\n",
       "      )\n",
       "    )\n",
       "    (box_predictor): FastRCNNPredictor(\n",
       "      (cls_score): Linear(in_features=128, out_features=6, bias=True)\n",
       "      (bbox_pred): Linear(in_features=128, out_features=24, bias=True)\n",
       "    )\n",
       "  )\n",
       "  (clinical_convs): BackboneWithFPN(\n",
       "    (body): IntermediateLayerGetter(\n",
       "      (conv1): Conv2d(3, 64, kernel_size=(7, 7), stride=(2, 2), padding=(3, 3), bias=False)\n",
       "      (bn1): FrozenBatchNorm2d(64, eps=1e-05)\n",
       "      (relu): ReLU(inplace=True)\n",
       "      (maxpool): MaxPool2d(kernel_size=3, stride=2, padding=1, dilation=1, ceil_mode=False)\n",
       "      (layer1): Sequential(\n",
       "        (0): Bottleneck(\n",
       "          (conv1): Conv2d(64, 64, kernel_size=(1, 1), stride=(1, 1), bias=False)\n",
       "          (bn1): FrozenBatchNorm2d(64, eps=1e-05)\n",
       "          (conv2): Conv2d(64, 64, kernel_size=(3, 3), stride=(1, 1), padding=(1, 1), bias=False)\n",
       "          (bn2): FrozenBatchNorm2d(64, eps=1e-05)\n",
       "          (conv3): Conv2d(64, 256, kernel_size=(1, 1), stride=(1, 1), bias=False)\n",
       "          (bn3): FrozenBatchNorm2d(256, eps=1e-05)\n",
       "          (relu): ReLU(inplace=True)\n",
       "          (downsample): Sequential(\n",
       "            (0): Conv2d(64, 256, kernel_size=(1, 1), stride=(1, 1), bias=False)\n",
       "            (1): FrozenBatchNorm2d(256, eps=1e-05)\n",
       "          )\n",
       "        )\n",
       "        (1): Bottleneck(\n",
       "          (conv1): Conv2d(256, 64, kernel_size=(1, 1), stride=(1, 1), bias=False)\n",
       "          (bn1): FrozenBatchNorm2d(64, eps=1e-05)\n",
       "          (conv2): Conv2d(64, 64, kernel_size=(3, 3), stride=(1, 1), padding=(1, 1), bias=False)\n",
       "          (bn2): FrozenBatchNorm2d(64, eps=1e-05)\n",
       "          (conv3): Conv2d(64, 256, kernel_size=(1, 1), stride=(1, 1), bias=False)\n",
       "          (bn3): FrozenBatchNorm2d(256, eps=1e-05)\n",
       "          (relu): ReLU(inplace=True)\n",
       "        )\n",
       "        (2): Bottleneck(\n",
       "          (conv1): Conv2d(256, 64, kernel_size=(1, 1), stride=(1, 1), bias=False)\n",
       "          (bn1): FrozenBatchNorm2d(64, eps=1e-05)\n",
       "          (conv2): Conv2d(64, 64, kernel_size=(3, 3), stride=(1, 1), padding=(1, 1), bias=False)\n",
       "          (bn2): FrozenBatchNorm2d(64, eps=1e-05)\n",
       "          (conv3): Conv2d(64, 256, kernel_size=(1, 1), stride=(1, 1), bias=False)\n",
       "          (bn3): FrozenBatchNorm2d(256, eps=1e-05)\n",
       "          (relu): ReLU(inplace=True)\n",
       "        )\n",
       "      )\n",
       "      (layer2): Sequential(\n",
       "        (0): Bottleneck(\n",
       "          (conv1): Conv2d(256, 128, kernel_size=(1, 1), stride=(1, 1), bias=False)\n",
       "          (bn1): FrozenBatchNorm2d(128, eps=1e-05)\n",
       "          (conv2): Conv2d(128, 128, kernel_size=(3, 3), stride=(2, 2), padding=(1, 1), bias=False)\n",
       "          (bn2): FrozenBatchNorm2d(128, eps=1e-05)\n",
       "          (conv3): Conv2d(128, 512, kernel_size=(1, 1), stride=(1, 1), bias=False)\n",
       "          (bn3): FrozenBatchNorm2d(512, eps=1e-05)\n",
       "          (relu): ReLU(inplace=True)\n",
       "          (downsample): Sequential(\n",
       "            (0): Conv2d(256, 512, kernel_size=(1, 1), stride=(2, 2), bias=False)\n",
       "            (1): FrozenBatchNorm2d(512, eps=1e-05)\n",
       "          )\n",
       "        )\n",
       "        (1): Bottleneck(\n",
       "          (conv1): Conv2d(512, 128, kernel_size=(1, 1), stride=(1, 1), bias=False)\n",
       "          (bn1): FrozenBatchNorm2d(128, eps=1e-05)\n",
       "          (conv2): Conv2d(128, 128, kernel_size=(3, 3), stride=(1, 1), padding=(1, 1), bias=False)\n",
       "          (bn2): FrozenBatchNorm2d(128, eps=1e-05)\n",
       "          (conv3): Conv2d(128, 512, kernel_size=(1, 1), stride=(1, 1), bias=False)\n",
       "          (bn3): FrozenBatchNorm2d(512, eps=1e-05)\n",
       "          (relu): ReLU(inplace=True)\n",
       "        )\n",
       "        (2): Bottleneck(\n",
       "          (conv1): Conv2d(512, 128, kernel_size=(1, 1), stride=(1, 1), bias=False)\n",
       "          (bn1): FrozenBatchNorm2d(128, eps=1e-05)\n",
       "          (conv2): Conv2d(128, 128, kernel_size=(3, 3), stride=(1, 1), padding=(1, 1), bias=False)\n",
       "          (bn2): FrozenBatchNorm2d(128, eps=1e-05)\n",
       "          (conv3): Conv2d(128, 512, kernel_size=(1, 1), stride=(1, 1), bias=False)\n",
       "          (bn3): FrozenBatchNorm2d(512, eps=1e-05)\n",
       "          (relu): ReLU(inplace=True)\n",
       "        )\n",
       "        (3): Bottleneck(\n",
       "          (conv1): Conv2d(512, 128, kernel_size=(1, 1), stride=(1, 1), bias=False)\n",
       "          (bn1): FrozenBatchNorm2d(128, eps=1e-05)\n",
       "          (conv2): Conv2d(128, 128, kernel_size=(3, 3), stride=(1, 1), padding=(1, 1), bias=False)\n",
       "          (bn2): FrozenBatchNorm2d(128, eps=1e-05)\n",
       "          (conv3): Conv2d(128, 512, kernel_size=(1, 1), stride=(1, 1), bias=False)\n",
       "          (bn3): FrozenBatchNorm2d(512, eps=1e-05)\n",
       "          (relu): ReLU(inplace=True)\n",
       "        )\n",
       "      )\n",
       "      (layer3): Sequential(\n",
       "        (0): Bottleneck(\n",
       "          (conv1): Conv2d(512, 256, kernel_size=(1, 1), stride=(1, 1), bias=False)\n",
       "          (bn1): FrozenBatchNorm2d(256, eps=1e-05)\n",
       "          (conv2): Conv2d(256, 256, kernel_size=(3, 3), stride=(2, 2), padding=(1, 1), bias=False)\n",
       "          (bn2): FrozenBatchNorm2d(256, eps=1e-05)\n",
       "          (conv3): Conv2d(256, 1024, kernel_size=(1, 1), stride=(1, 1), bias=False)\n",
       "          (bn3): FrozenBatchNorm2d(1024, eps=1e-05)\n",
       "          (relu): ReLU(inplace=True)\n",
       "          (downsample): Sequential(\n",
       "            (0): Conv2d(512, 1024, kernel_size=(1, 1), stride=(2, 2), bias=False)\n",
       "            (1): FrozenBatchNorm2d(1024, eps=1e-05)\n",
       "          )\n",
       "        )\n",
       "        (1): Bottleneck(\n",
       "          (conv1): Conv2d(1024, 256, kernel_size=(1, 1), stride=(1, 1), bias=False)\n",
       "          (bn1): FrozenBatchNorm2d(256, eps=1e-05)\n",
       "          (conv2): Conv2d(256, 256, kernel_size=(3, 3), stride=(1, 1), padding=(1, 1), bias=False)\n",
       "          (bn2): FrozenBatchNorm2d(256, eps=1e-05)\n",
       "          (conv3): Conv2d(256, 1024, kernel_size=(1, 1), stride=(1, 1), bias=False)\n",
       "          (bn3): FrozenBatchNorm2d(1024, eps=1e-05)\n",
       "          (relu): ReLU(inplace=True)\n",
       "        )\n",
       "        (2): Bottleneck(\n",
       "          (conv1): Conv2d(1024, 256, kernel_size=(1, 1), stride=(1, 1), bias=False)\n",
       "          (bn1): FrozenBatchNorm2d(256, eps=1e-05)\n",
       "          (conv2): Conv2d(256, 256, kernel_size=(3, 3), stride=(1, 1), padding=(1, 1), bias=False)\n",
       "          (bn2): FrozenBatchNorm2d(256, eps=1e-05)\n",
       "          (conv3): Conv2d(256, 1024, kernel_size=(1, 1), stride=(1, 1), bias=False)\n",
       "          (bn3): FrozenBatchNorm2d(1024, eps=1e-05)\n",
       "          (relu): ReLU(inplace=True)\n",
       "        )\n",
       "        (3): Bottleneck(\n",
       "          (conv1): Conv2d(1024, 256, kernel_size=(1, 1), stride=(1, 1), bias=False)\n",
       "          (bn1): FrozenBatchNorm2d(256, eps=1e-05)\n",
       "          (conv2): Conv2d(256, 256, kernel_size=(3, 3), stride=(1, 1), padding=(1, 1), bias=False)\n",
       "          (bn2): FrozenBatchNorm2d(256, eps=1e-05)\n",
       "          (conv3): Conv2d(256, 1024, kernel_size=(1, 1), stride=(1, 1), bias=False)\n",
       "          (bn3): FrozenBatchNorm2d(1024, eps=1e-05)\n",
       "          (relu): ReLU(inplace=True)\n",
       "        )\n",
       "        (4): Bottleneck(\n",
       "          (conv1): Conv2d(1024, 256, kernel_size=(1, 1), stride=(1, 1), bias=False)\n",
       "          (bn1): FrozenBatchNorm2d(256, eps=1e-05)\n",
       "          (conv2): Conv2d(256, 256, kernel_size=(3, 3), stride=(1, 1), padding=(1, 1), bias=False)\n",
       "          (bn2): FrozenBatchNorm2d(256, eps=1e-05)\n",
       "          (conv3): Conv2d(256, 1024, kernel_size=(1, 1), stride=(1, 1), bias=False)\n",
       "          (bn3): FrozenBatchNorm2d(1024, eps=1e-05)\n",
       "          (relu): ReLU(inplace=True)\n",
       "        )\n",
       "        (5): Bottleneck(\n",
       "          (conv1): Conv2d(1024, 256, kernel_size=(1, 1), stride=(1, 1), bias=False)\n",
       "          (bn1): FrozenBatchNorm2d(256, eps=1e-05)\n",
       "          (conv2): Conv2d(256, 256, kernel_size=(3, 3), stride=(1, 1), padding=(1, 1), bias=False)\n",
       "          (bn2): FrozenBatchNorm2d(256, eps=1e-05)\n",
       "          (conv3): Conv2d(256, 1024, kernel_size=(1, 1), stride=(1, 1), bias=False)\n",
       "          (bn3): FrozenBatchNorm2d(1024, eps=1e-05)\n",
       "          (relu): ReLU(inplace=True)\n",
       "        )\n",
       "      )\n",
       "      (layer4): Sequential(\n",
       "        (0): Bottleneck(\n",
       "          (conv1): Conv2d(1024, 512, kernel_size=(1, 1), stride=(1, 1), bias=False)\n",
       "          (bn1): FrozenBatchNorm2d(512, eps=1e-05)\n",
       "          (conv2): Conv2d(512, 512, kernel_size=(3, 3), stride=(2, 2), padding=(1, 1), bias=False)\n",
       "          (bn2): FrozenBatchNorm2d(512, eps=1e-05)\n",
       "          (conv3): Conv2d(512, 2048, kernel_size=(1, 1), stride=(1, 1), bias=False)\n",
       "          (bn3): FrozenBatchNorm2d(2048, eps=1e-05)\n",
       "          (relu): ReLU(inplace=True)\n",
       "          (downsample): Sequential(\n",
       "            (0): Conv2d(1024, 2048, kernel_size=(1, 1), stride=(2, 2), bias=False)\n",
       "            (1): FrozenBatchNorm2d(2048, eps=1e-05)\n",
       "          )\n",
       "        )\n",
       "        (1): Bottleneck(\n",
       "          (conv1): Conv2d(2048, 512, kernel_size=(1, 1), stride=(1, 1), bias=False)\n",
       "          (bn1): FrozenBatchNorm2d(512, eps=1e-05)\n",
       "          (conv2): Conv2d(512, 512, kernel_size=(3, 3), stride=(1, 1), padding=(1, 1), bias=False)\n",
       "          (bn2): FrozenBatchNorm2d(512, eps=1e-05)\n",
       "          (conv3): Conv2d(512, 2048, kernel_size=(1, 1), stride=(1, 1), bias=False)\n",
       "          (bn3): FrozenBatchNorm2d(2048, eps=1e-05)\n",
       "          (relu): ReLU(inplace=True)\n",
       "        )\n",
       "        (2): Bottleneck(\n",
       "          (conv1): Conv2d(2048, 512, kernel_size=(1, 1), stride=(1, 1), bias=False)\n",
       "          (bn1): FrozenBatchNorm2d(512, eps=1e-05)\n",
       "          (conv2): Conv2d(512, 512, kernel_size=(3, 3), stride=(1, 1), padding=(1, 1), bias=False)\n",
       "          (bn2): FrozenBatchNorm2d(512, eps=1e-05)\n",
       "          (conv3): Conv2d(512, 2048, kernel_size=(1, 1), stride=(1, 1), bias=False)\n",
       "          (bn3): FrozenBatchNorm2d(2048, eps=1e-05)\n",
       "          (relu): ReLU(inplace=True)\n",
       "        )\n",
       "      )\n",
       "    )\n",
       "    (fpn): FeaturePyramidNetwork(\n",
       "      (inner_blocks): ModuleList(\n",
       "        (0): Conv2d(256, 256, kernel_size=(1, 1), stride=(1, 1))\n",
       "        (1): Conv2d(512, 256, kernel_size=(1, 1), stride=(1, 1))\n",
       "        (2): Conv2d(1024, 256, kernel_size=(1, 1), stride=(1, 1))\n",
       "        (3): Conv2d(2048, 256, kernel_size=(1, 1), stride=(1, 1))\n",
       "      )\n",
       "      (layer_blocks): ModuleList(\n",
       "        (0): Conv2d(256, 256, kernel_size=(3, 3), stride=(1, 1), padding=(1, 1))\n",
       "        (1): Conv2d(256, 256, kernel_size=(3, 3), stride=(1, 1), padding=(1, 1))\n",
       "        (2): Conv2d(256, 256, kernel_size=(3, 3), stride=(1, 1), padding=(1, 1))\n",
       "        (3): Conv2d(256, 256, kernel_size=(3, 3), stride=(1, 1), padding=(1, 1))\n",
       "      )\n",
       "      (extra_blocks): LastLevelMaxPool()\n",
       "    )\n",
       "  )\n",
       "  (gender_emb_layer): Embedding(2, 55)\n",
       "  (clinical_expand_conv): Sequential(\n",
       "    (0): ConvTranspose2d(64, 64, kernel_size=(2, 2), stride=(2, 2))\n",
       "    (1): BatchNorm2d(64, eps=1e-05, momentum=0.1, affine=True, track_running_stats=True)\n",
       "    (2): ReLU()\n",
       "    (3): Conv2d(64, 64, kernel_size=(3, 3), stride=(1, 1), padding=(1, 1))\n",
       "    (4): BatchNorm2d(64, eps=1e-05, momentum=0.1, affine=True, track_running_stats=True)\n",
       "    (5): ReLU()\n",
       "    (6): ConvTranspose2d(64, 64, kernel_size=(2, 2), stride=(2, 2))\n",
       "    (7): BatchNorm2d(64, eps=1e-05, momentum=0.1, affine=True, track_running_stats=True)\n",
       "    (8): ReLU()\n",
       "    (9): Conv2d(64, 64, kernel_size=(3, 3), stride=(1, 1), padding=(1, 1))\n",
       "    (10): BatchNorm2d(64, eps=1e-05, momentum=0.1, affine=True, track_running_stats=True)\n",
       "    (11): ReLU()\n",
       "    (12): ConvTranspose2d(64, 64, kernel_size=(2, 2), stride=(2, 2))\n",
       "    (13): BatchNorm2d(64, eps=1e-05, momentum=0.1, affine=True, track_running_stats=True)\n",
       "    (14): ReLU()\n",
       "    (15): Conv2d(64, 64, kernel_size=(3, 3), stride=(1, 1), padding=(1, 1))\n",
       "    (16): BatchNorm2d(64, eps=1e-05, momentum=0.1, affine=True, track_running_stats=True)\n",
       "    (17): ReLU()\n",
       "    (18): ConvTranspose2d(64, 64, kernel_size=(2, 2), stride=(2, 2))\n",
       "    (19): BatchNorm2d(64, eps=1e-05, momentum=0.1, affine=True, track_running_stats=True)\n",
       "    (20): ReLU()\n",
       "    (21): Conv2d(64, 64, kernel_size=(3, 3), stride=(1, 1), padding=(1, 1))\n",
       "    (22): BatchNorm2d(64, eps=1e-05, momentum=0.1, affine=True, track_running_stats=True)\n",
       "    (23): ReLU()\n",
       "    (24): ConvTranspose2d(64, 64, kernel_size=(2, 2), stride=(2, 2))\n",
       "    (25): BatchNorm2d(64, eps=1e-05, momentum=0.1, affine=True, track_running_stats=True)\n",
       "    (26): ReLU()\n",
       "    (27): Conv2d(64, 64, kernel_size=(3, 3), stride=(1, 1), padding=(1, 1))\n",
       "    (28): BatchNorm2d(64, eps=1e-05, momentum=0.1, affine=True, track_running_stats=True)\n",
       "    (29): ReLU()\n",
       "    (30): ConvTranspose2d(64, 64, kernel_size=(2, 2), stride=(2, 2))\n",
       "    (31): BatchNorm2d(64, eps=1e-05, momentum=0.1, affine=True, track_running_stats=True)\n",
       "    (32): ReLU()\n",
       "    (33): Conv2d(64, 64, kernel_size=(3, 3), stride=(1, 1), padding=(1, 1))\n",
       "    (34): BatchNorm2d(64, eps=1e-05, momentum=0.1, affine=True, track_running_stats=True)\n",
       "    (35): ReLU()\n",
       "    (36): ConvTranspose2d(64, 64, kernel_size=(2, 2), stride=(2, 2))\n",
       "    (37): BatchNorm2d(64, eps=1e-05, momentum=0.1, affine=True, track_running_stats=True)\n",
       "    (38): ReLU()\n",
       "    (39): Conv2d(64, 64, kernel_size=(3, 3), stride=(1, 1), padding=(1, 1))\n",
       "    (40): BatchNorm2d(64, eps=1e-05, momentum=0.1, affine=True, track_running_stats=True)\n",
       "    (41): ReLU()\n",
       "    (42): ConvTranspose2d(64, 64, kernel_size=(2, 2), stride=(2, 2))\n",
       "    (43): BatchNorm2d(64, eps=1e-05, momentum=0.1, affine=True, track_running_stats=True)\n",
       "    (44): ReLU()\n",
       "    (45): Conv2d(64, 64, kernel_size=(3, 3), stride=(1, 1), padding=(1, 1))\n",
       "    (46): BatchNorm2d(64, eps=1e-05, momentum=0.1, affine=True, track_running_stats=True)\n",
       "    (47): ReLU()\n",
       "    (48): ConvTranspose2d(64, 64, kernel_size=(2, 2), stride=(2, 2))\n",
       "    (49): BatchNorm2d(64, eps=1e-05, momentum=0.1, affine=True, track_running_stats=True)\n",
       "    (50): ReLU()\n",
       "    (51): Conv2d(64, 3, kernel_size=(3, 3), stride=(1, 1), padding=(1, 1))\n",
       "    (52): BatchNorm2d(3, eps=1e-05, momentum=0.1, affine=True, track_running_stats=True)\n",
       "  )\n",
       ")"
      ]
     },
     "execution_count": 38,
     "metadata": {},
     "output_type": "execute_result"
    }
   ],
   "source": [
    "model = create_model_from_setup(\n",
    "    labels_cols,\n",
    "    model_setup,\n",
    "    rpn_nms_thresh=0.3,\n",
    "    box_detections_per_img=10,\n",
    "    box_nms_thresh=0.2,\n",
    "    rpn_score_thresh=0.0,\n",
    "    box_score_thresh=0.05,\n",
    "    # image_size=model_setup.image_size,\n",
    "    # clinical_conv_channels=64,\n",
    ")\n",
    "\n",
    "model.to(device)\n",
    "model.train()\n"
   ]
  },
  {
   "cell_type": "code",
   "execution_count": 39,
   "metadata": {},
   "outputs": [],
   "source": [
    "# from utils.train import print_params_setup\n",
    "# print_params_setup(model)"
   ]
  },
  {
   "cell_type": "markdown",
   "metadata": {},
   "source": [
    "## Prepare data to feed\n",
    "\n",
    "We prepare three main data to test the model:\n",
    "\n",
    "- CXR image\n",
    "- Clinical data\n",
    "- Target\n",
    "\n",
    "And, for each data, we adjust the format to what the model expect."
   ]
  },
  {
   "cell_type": "code",
   "execution_count": 40,
   "metadata": {},
   "outputs": [],
   "source": [
    "data = next(iter(train_dataloader))\n",
    "data = train_dataset.prepare_input_from_data(data, device)"
   ]
  },
  {
   "cell_type": "markdown",
   "metadata": {},
   "source": [
    "# Test Feedforawrd (Training)"
   ]
  },
  {
   "cell_type": "code",
   "execution_count": 41,
   "metadata": {},
   "outputs": [],
   "source": [
    "# labels = [gt_label[idxs] for gt_label, idxs in zip(gt_labels, mask_matched_idxs)]\n",
    "# import torch"
   ]
  },
  {
   "cell_type": "code",
   "execution_count": 42,
   "metadata": {},
   "outputs": [
    {
     "data": {
      "text/plain": [
       "tensor([2, 1, 3, 3], device='cuda:0')"
      ]
     },
     "execution_count": 42,
     "metadata": {},
     "output_type": "execute_result"
    }
   ],
   "source": [
    "data[-1][0]['labels']"
   ]
  },
  {
   "cell_type": "code",
   "execution_count": 43,
   "metadata": {},
   "outputs": [],
   "source": [
    "# images, targets = data\n",
    "# images, targets = model.transform(images, targets)"
   ]
  },
  {
   "cell_type": "code",
   "execution_count": 44,
   "metadata": {},
   "outputs": [],
   "source": [
    "model.train()\n",
    "loss_dict, outputs = model(*data[:-1], targets=data[-1])"
   ]
  },
  {
   "cell_type": "code",
   "execution_count": 45,
   "metadata": {},
   "outputs": [
    {
     "data": {
      "text/plain": [
       "[torch.Size([472, 4]),\n",
       " torch.Size([411, 4]),\n",
       " torch.Size([437, 4]),\n",
       " torch.Size([442, 4])]"
      ]
     },
     "execution_count": 45,
     "metadata": {},
     "output_type": "execute_result"
    }
   ],
   "source": [
    "[p.shape for p in model.roi_heads.proposals]"
   ]
  },
  {
   "cell_type": "code",
   "execution_count": 46,
   "metadata": {},
   "outputs": [
    {
     "data": {
      "text/plain": [
       "4"
      ]
     },
     "execution_count": 46,
     "metadata": {},
     "output_type": "execute_result"
    }
   ],
   "source": [
    "len(outputs)"
   ]
  },
  {
   "cell_type": "code",
   "execution_count": 47,
   "metadata": {},
   "outputs": [],
   "source": [
    "import torch\n",
    "\n",
    "f_clinical_data = torch.randn(4, 64)"
   ]
  },
  {
   "cell_type": "code",
   "execution_count": 48,
   "metadata": {},
   "outputs": [
    {
     "data": {
      "text/plain": [
       "torch.Size([1762, 64])"
      ]
     },
     "execution_count": 48,
     "metadata": {},
     "output_type": "execute_result"
    }
   ],
   "source": [
    "torch.concat([f_clinical_data[i].repeat(p.shape[0], 1) for i, p in enumerate(model.roi_heads.proposals)], axis=0).shape"
   ]
  },
  {
   "cell_type": "code",
   "execution_count": null,
   "metadata": {},
   "outputs": [],
   "source": []
  },
  {
   "cell_type": "code",
   "execution_count": 49,
   "metadata": {},
   "outputs": [
    {
     "data": {
      "text/plain": [
       "4"
      ]
     },
     "execution_count": 49,
     "metadata": {},
     "output_type": "execute_result"
    }
   ],
   "source": [
    "len(model.roi_heads.pred_boxes)"
   ]
  },
  {
   "cell_type": "code",
   "execution_count": 50,
   "metadata": {},
   "outputs": [
    {
     "data": {
      "text/plain": [
       "torch.Size([1762, 128])"
      ]
     },
     "execution_count": 50,
     "metadata": {},
     "output_type": "execute_result"
    }
   ],
   "source": [
    "model.roi_heads.head_out.shape"
   ]
  },
  {
   "cell_type": "code",
   "execution_count": 51,
   "metadata": {},
   "outputs": [
    {
     "data": {
      "text/plain": [
       "tensor([[[[-1.5807e+00, -8.1208e-01, -8.7276e-01,  ..., -7.6924e-01,\n",
       "           -2.8922e-01,  5.6094e-01],\n",
       "          [-1.6409e+00, -9.2595e-01, -1.0593e+00,  ..., -6.0094e-01,\n",
       "           -2.0629e-01,  5.4258e-01],\n",
       "          [-1.6641e+00, -1.0060e+00, -1.0673e+00,  ..., -5.4746e-01,\n",
       "           -2.2616e-01,  4.6571e-01],\n",
       "          ...,\n",
       "          [-1.5301e+00, -8.2996e-01, -5.6490e-01,  ..., -5.1849e-01,\n",
       "           -6.1227e-02,  8.8286e-01],\n",
       "          [-1.6655e+00, -8.3758e-01, -5.4293e-01,  ..., -4.0153e-01,\n",
       "           -6.5609e-02,  6.7216e-01],\n",
       "          [-1.2125e+00, -4.0748e-01, -2.7191e-01,  ...,  3.1971e-02,\n",
       "            4.3191e-02,  7.1303e-01]],\n",
       "\n",
       "         [[ 1.2257e+00,  1.5283e+00,  1.2250e+00,  ...,  1.1240e+00,\n",
       "            1.3083e+00,  1.7230e+00],\n",
       "          [ 1.1727e+00,  1.5417e+00,  1.3335e+00,  ...,  9.8297e-01,\n",
       "            1.3541e+00,  1.6718e+00],\n",
       "          [ 1.1940e+00,  1.5465e+00,  1.3681e+00,  ...,  1.0641e+00,\n",
       "            1.2731e+00,  1.5643e+00],\n",
       "          ...,\n",
       "          [ 1.2291e+00,  1.1803e+00,  1.0603e+00,  ...,  1.2890e+00,\n",
       "            1.3869e+00,  1.3978e+00],\n",
       "          [ 1.0284e+00,  9.5920e-01,  9.5809e-01,  ...,  1.0596e+00,\n",
       "            1.4787e+00,  1.4882e+00],\n",
       "          [ 5.4017e-01,  9.6684e-01,  1.0098e+00,  ...,  4.6162e-01,\n",
       "            1.1341e+00,  1.2806e+00]],\n",
       "\n",
       "         [[ 5.7635e-01,  4.4400e-01,  5.0312e-01,  ...,  2.7802e-01,\n",
       "            8.6732e-02, -1.3674e-01],\n",
       "          [ 7.5898e-01,  4.4707e-01,  4.4833e-01,  ...,  3.1131e-01,\n",
       "            3.0837e-02, -9.7907e-02],\n",
       "          [ 8.0986e-01,  4.0541e-01,  4.4377e-01,  ...,  3.4522e-01,\n",
       "           -2.1291e-03, -1.8689e-01],\n",
       "          ...,\n",
       "          [ 6.6691e-01,  7.1913e-01,  7.2655e-01,  ...,  6.1139e-01,\n",
       "            5.5440e-01,  3.9734e-01],\n",
       "          [ 4.9406e-01,  4.0855e-01,  4.2106e-01,  ...,  5.0447e-02,\n",
       "            2.2715e-01,  1.8283e-01],\n",
       "          [ 4.3608e-01,  1.2120e-01,  1.3929e-01,  ..., -3.1518e-01,\n",
       "           -2.2539e-02, -7.6961e-02]],\n",
       "\n",
       "         ...,\n",
       "\n",
       "         [[ 1.5855e+00,  1.6298e+00,  1.3643e+00,  ...,  1.2276e+00,\n",
       "            1.9220e+00,  1.9721e+00],\n",
       "          [ 1.5080e+00,  1.6794e+00,  1.3979e+00,  ...,  1.3735e+00,\n",
       "            1.9164e+00,  1.8403e+00],\n",
       "          [ 1.3944e+00,  1.6988e+00,  1.4675e+00,  ...,  1.4707e+00,\n",
       "            1.8341e+00,  1.7095e+00],\n",
       "          ...,\n",
       "          [ 1.1226e+00,  1.2956e+00,  1.3257e+00,  ...,  1.4312e+00,\n",
       "            1.7989e+00,  1.4408e+00],\n",
       "          [ 1.3530e+00,  1.5018e+00,  1.5848e+00,  ...,  1.5258e+00,\n",
       "            1.9133e+00,  1.5543e+00],\n",
       "          [ 1.0159e+00,  1.0702e+00,  1.1790e+00,  ...,  8.3570e-01,\n",
       "            1.4039e+00,  1.3501e+00]],\n",
       "\n",
       "         [[-6.3487e-01, -9.5942e-01, -4.3430e-01,  ..., -8.1333e-01,\n",
       "           -1.1711e+00, -6.8311e-01],\n",
       "          [-6.9358e-01, -9.6017e-01, -5.3322e-01,  ..., -7.1203e-01,\n",
       "           -1.1071e+00, -7.5804e-01],\n",
       "          [-7.3487e-01, -8.6051e-01, -6.2513e-01,  ..., -7.2420e-01,\n",
       "           -1.1441e+00, -7.4391e-01],\n",
       "          ...,\n",
       "          [-7.6299e-01, -7.4996e-01, -7.0348e-01,  ..., -8.1362e-01,\n",
       "           -1.1526e+00, -8.5358e-01],\n",
       "          [-5.6250e-01, -7.2627e-01, -6.0349e-01,  ..., -6.7918e-01,\n",
       "           -5.9973e-01, -4.0988e-01],\n",
       "          [-1.1280e-01, -2.6493e-01, -1.6670e-01,  ..., -1.1959e-01,\n",
       "            1.0362e-02, -1.0331e-01]],\n",
       "\n",
       "         [[-2.6570e+00, -2.2536e+00, -2.0698e+00,  ..., -2.0808e+00,\n",
       "           -2.1917e+00, -1.9530e+00],\n",
       "          [-2.7364e+00, -2.1855e+00, -2.1164e+00,  ..., -2.1115e+00,\n",
       "           -2.3438e+00, -1.7177e+00],\n",
       "          [-2.7636e+00, -2.1855e+00, -2.1464e+00,  ..., -2.1129e+00,\n",
       "           -2.3157e+00, -1.6422e+00],\n",
       "          ...,\n",
       "          [-2.9097e+00, -2.2741e+00, -2.2448e+00,  ..., -2.3312e+00,\n",
       "           -2.4401e+00, -2.0034e+00],\n",
       "          [-2.5513e+00, -2.1541e+00, -2.0981e+00,  ..., -2.2257e+00,\n",
       "           -2.4252e+00, -2.0462e+00],\n",
       "          [-1.9258e+00, -1.8289e+00, -1.8497e+00,  ..., -1.9818e+00,\n",
       "           -2.1980e+00, -1.8889e+00]]],\n",
       "\n",
       "\n",
       "        [[[ 1.8427e-01,  4.1843e-01, -5.1732e-02,  ...,  6.4166e-01,\n",
       "            5.9127e-01,  6.1415e-01],\n",
       "          [ 2.4287e-01,  5.7065e-01,  3.3924e-01,  ...,  6.8679e-01,\n",
       "            7.0245e-01,  6.6093e-01],\n",
       "          [-7.2201e-03,  3.4499e-01,  2.9389e-01,  ...,  5.0119e-01,\n",
       "            6.5174e-01,  6.8028e-01],\n",
       "          ...,\n",
       "          [-1.6111e-01, -4.6918e-01, -7.7030e-01,  ..., -1.6482e-02,\n",
       "           -1.9089e-01, -1.9742e-01],\n",
       "          [ 4.0215e-01, -3.5716e-02, -4.8548e-01,  ...,  9.9653e-02,\n",
       "           -1.0311e-01, -3.1463e-01],\n",
       "          [ 1.7166e-01, -1.2524e-01, -6.4760e-01,  ..., -2.9647e-01,\n",
       "           -3.3950e-01, -3.3327e-01]],\n",
       "\n",
       "         [[ 1.4466e+00,  1.2680e+00,  8.5973e-01,  ...,  1.1788e+00,\n",
       "            1.1637e+00,  1.0869e+00],\n",
       "          [ 1.3893e+00,  1.3454e+00,  8.2488e-01,  ...,  1.1266e+00,\n",
       "            8.5409e-01,  8.9577e-01],\n",
       "          [ 1.7162e+00,  1.3571e+00,  7.3363e-01,  ...,  9.7931e-01,\n",
       "            6.3731e-01,  8.3999e-01],\n",
       "          ...,\n",
       "          [ 1.7995e+00,  1.3210e+00,  1.0286e+00,  ...,  9.2070e-01,\n",
       "            8.1388e-01,  7.2644e-01],\n",
       "          [ 9.8511e-01,  5.9199e-01,  3.1947e-01,  ...,  4.4947e-01,\n",
       "            3.9804e-01,  3.3109e-01],\n",
       "          [ 1.1934e+00,  1.2188e+00,  1.0654e+00,  ...,  1.0676e+00,\n",
       "            9.9001e-01,  8.7380e-01]],\n",
       "\n",
       "         [[-5.6199e-01, -6.7679e-01, -6.7740e-01,  ..., -3.5598e-01,\n",
       "           -5.8766e-01, -7.5852e-01],\n",
       "          [-5.9122e-01, -8.5109e-01, -5.6876e-01,  ..., -3.9689e-01,\n",
       "           -7.2283e-01, -9.6067e-01],\n",
       "          [-5.5980e-01, -9.6147e-01, -5.7863e-01,  ..., -5.0814e-01,\n",
       "           -7.7839e-01, -9.0890e-01],\n",
       "          ...,\n",
       "          [-2.1402e-01, -3.2363e-01, -8.7631e-01,  ..., -2.4933e-01,\n",
       "           -3.8800e-01, -6.6497e-01],\n",
       "          [-6.6645e-01, -7.0002e-01, -6.7700e-01,  ..., -2.3139e-02,\n",
       "           -1.2299e-01, -3.1448e-01],\n",
       "          [-1.0602e+00, -1.2013e+00, -6.9164e-01,  ...,  1.3289e-01,\n",
       "            1.9358e-01,  2.8764e-01]],\n",
       "\n",
       "         ...,\n",
       "\n",
       "         [[ 1.4436e+00,  1.8565e+00,  1.6396e+00,  ...,  2.2808e+00,\n",
       "            1.7327e+00,  1.2888e+00],\n",
       "          [ 1.3147e+00,  1.4044e+00,  1.6558e+00,  ...,  2.3498e+00,\n",
       "            1.9794e+00,  1.6364e+00],\n",
       "          [ 8.9958e-01,  1.2445e+00,  1.6413e+00,  ...,  1.8861e+00,\n",
       "            1.7832e+00,  1.6649e+00],\n",
       "          ...,\n",
       "          [ 1.0558e+00,  1.3274e+00,  1.4909e+00,  ...,  1.0559e+00,\n",
       "            1.1095e+00,  1.1094e+00],\n",
       "          [ 3.2983e-01,  5.6893e-01,  8.6841e-01,  ...,  7.3009e-01,\n",
       "            9.5204e-01,  1.0674e+00],\n",
       "          [ 5.2437e-01,  5.1722e-01,  6.2702e-01,  ...,  7.3872e-01,\n",
       "            5.7434e-01,  7.2911e-01]],\n",
       "\n",
       "         [[-8.8885e-01, -9.6972e-01, -9.3938e-01,  ..., -6.7175e-01,\n",
       "           -1.9507e-01, -1.4478e-03],\n",
       "          [-9.5573e-01, -9.9822e-01, -1.2794e+00,  ..., -8.2652e-01,\n",
       "           -2.5302e-01, -2.8431e-01],\n",
       "          [-7.4014e-01, -1.0117e+00, -1.1122e+00,  ..., -7.8968e-01,\n",
       "           -3.2745e-01, -3.4298e-01],\n",
       "          ...,\n",
       "          [-4.9960e-01, -1.0099e+00, -3.7793e-01,  ..., -2.3738e-01,\n",
       "           -3.1201e-01, -3.1400e-01],\n",
       "          [-8.5376e-01, -1.0962e+00, -4.2366e-01,  ..., -6.9280e-01,\n",
       "           -1.0450e+00, -9.1869e-01],\n",
       "          [-1.4538e+00, -1.3117e+00, -1.0125e+00,  ..., -1.5613e+00,\n",
       "           -1.5952e+00, -1.6715e+00]],\n",
       "\n",
       "         [[-1.2912e+00, -1.0835e+00, -1.0228e+00,  ..., -2.3599e-01,\n",
       "           -1.8643e-01, -2.3226e-01],\n",
       "          [-1.5370e+00, -1.3040e+00, -5.7258e-01,  ..., -6.8166e-01,\n",
       "           -4.8401e-01, -4.5573e-01],\n",
       "          [-1.5279e+00, -1.1716e+00, -6.0804e-01,  ..., -9.0100e-01,\n",
       "           -7.1207e-01, -5.4650e-01],\n",
       "          ...,\n",
       "          [-1.1446e+00, -7.6404e-01, -1.2987e+00,  ..., -5.8453e-01,\n",
       "           -4.4009e-01, -2.8338e-01],\n",
       "          [-1.2915e+00, -1.2141e+00, -1.6380e+00,  ..., -1.1713e+00,\n",
       "           -9.5735e-01, -7.0130e-01],\n",
       "          [-2.0589e+00, -2.1263e+00, -2.1822e+00,  ..., -1.8204e+00,\n",
       "           -1.4636e+00, -1.4244e+00]]],\n",
       "\n",
       "\n",
       "        [[[ 1.8159e-01,  2.7782e-01,  1.9454e-01,  ..., -5.6370e-01,\n",
       "           -1.3405e-01, -1.3610e+00],\n",
       "          [ 2.7101e-01,  1.4012e-01,  2.0837e-01,  ..., -5.5637e-01,\n",
       "           -2.9536e-01, -1.4206e+00],\n",
       "          [ 1.8280e-01,  2.3154e-01,  2.2430e-01,  ..., -4.5668e-01,\n",
       "           -4.6501e-01, -1.3615e+00],\n",
       "          ...,\n",
       "          [ 4.0006e-01,  7.2785e-01,  6.3636e-01,  ...,  4.3948e-01,\n",
       "            4.1511e-01, -4.8515e-01],\n",
       "          [ 6.2989e-02,  3.0618e-01,  3.5875e-01,  ...,  3.4492e-01,\n",
       "            5.2452e-01, -9.2606e-02],\n",
       "          [-9.6546e-04,  1.2393e-01,  4.0290e-01,  ...,  2.7605e-01,\n",
       "            5.4280e-01, -5.7046e-02]],\n",
       "\n",
       "         [[ 1.0745e+00,  1.4361e+00,  1.7059e+00,  ...,  1.3786e+00,\n",
       "            1.1730e+00,  7.5424e-01],\n",
       "          [ 1.3411e+00,  1.5113e+00,  1.6282e+00,  ...,  1.3327e+00,\n",
       "            1.0797e+00,  6.4860e-01],\n",
       "          [ 1.1360e+00,  1.4558e+00,  1.7023e+00,  ...,  1.3260e+00,\n",
       "            9.8029e-01,  7.0362e-01],\n",
       "          ...,\n",
       "          [ 1.1911e+00,  1.6383e+00,  1.8545e+00,  ...,  1.3196e+00,\n",
       "            9.0527e-01,  9.1360e-01],\n",
       "          [ 1.4480e+00,  1.4855e+00,  1.3943e+00,  ...,  1.1089e+00,\n",
       "            7.0392e-01,  6.8130e-01],\n",
       "          [ 1.2488e+00,  1.2104e+00,  1.4151e+00,  ...,  9.6876e-01,\n",
       "            7.8846e-01,  5.9835e-01]],\n",
       "\n",
       "         [[ 3.0497e-01,  4.8813e-01,  9.0088e-02,  ..., -2.6795e-01,\n",
       "            1.1393e-01,  2.9604e-01],\n",
       "          [ 1.7881e-01,  5.6344e-01,  3.6251e-02,  ..., -3.1598e-01,\n",
       "            5.2339e-02,  4.7094e-01],\n",
       "          [ 3.0750e-01,  4.3888e-01,  1.4585e-01,  ..., -2.2344e-01,\n",
       "           -1.5824e-01,  5.0620e-01],\n",
       "          ...,\n",
       "          [ 2.3079e-01,  1.1913e-01, -2.4803e-01,  ..., -4.8358e-01,\n",
       "           -3.3204e-01, -3.0555e-01],\n",
       "          [ 2.8869e-02, -1.6923e-01, -4.4158e-01,  ..., -6.7029e-01,\n",
       "           -5.3816e-01, -4.5390e-01],\n",
       "          [ 1.5064e-01, -1.7271e-01, -3.3485e-01,  ..., -7.6465e-01,\n",
       "           -3.7769e-01, -3.8733e-01]],\n",
       "\n",
       "         ...,\n",
       "\n",
       "         [[ 1.1823e+00,  1.3032e+00,  8.2182e-01,  ...,  6.9931e-01,\n",
       "            7.4221e-01,  4.4745e-01],\n",
       "          [ 1.0110e+00,  1.2204e+00,  9.4903e-01,  ...,  6.6422e-01,\n",
       "            7.2694e-01,  6.3718e-01],\n",
       "          [ 1.0608e+00,  1.2495e+00,  9.1491e-01,  ...,  5.7649e-01,\n",
       "            5.7579e-01,  7.7300e-01],\n",
       "          ...,\n",
       "          [ 1.1793e+00,  1.3315e+00,  1.0556e+00,  ...,  1.1888e+00,\n",
       "            6.7300e-01,  7.1039e-01],\n",
       "          [ 1.0501e+00,  1.2659e+00,  1.1078e+00,  ...,  9.1890e-01,\n",
       "            4.7598e-01,  6.0374e-01],\n",
       "          [ 1.2660e+00,  1.1927e+00,  1.1314e+00,  ...,  7.6067e-01,\n",
       "            6.6370e-01,  4.5223e-01]],\n",
       "\n",
       "         [[-9.0375e-01, -1.3204e+00, -1.3305e+00,  ..., -1.1287e+00,\n",
       "           -6.9203e-01, -4.7205e-01],\n",
       "          [-7.5575e-01, -1.3276e+00, -1.2703e+00,  ..., -1.4014e+00,\n",
       "           -7.8703e-01, -5.1275e-01],\n",
       "          [-7.3818e-01, -1.2645e+00, -1.2206e+00,  ..., -1.3378e+00,\n",
       "           -7.6626e-01, -5.1286e-01],\n",
       "          ...,\n",
       "          [-5.6639e-01, -1.2237e+00, -1.2059e+00,  ..., -1.8198e+00,\n",
       "           -1.5194e+00, -1.3499e+00],\n",
       "          [-3.9097e-01, -9.5961e-01, -1.0417e+00,  ..., -1.2617e+00,\n",
       "           -1.1595e+00, -1.0348e+00],\n",
       "          [-2.9478e-01, -8.8334e-01, -7.9309e-01,  ..., -1.0911e+00,\n",
       "           -9.2575e-01, -9.4695e-01]],\n",
       "\n",
       "         [[-2.2631e+00, -2.0827e+00, -2.3090e+00,  ..., -2.0603e+00,\n",
       "           -1.8025e+00, -1.6447e+00],\n",
       "          [-2.2671e+00, -2.0560e+00, -2.1134e+00,  ..., -1.8959e+00,\n",
       "           -1.8496e+00, -1.6296e+00],\n",
       "          [-2.2119e+00, -2.1174e+00, -2.1876e+00,  ..., -1.8663e+00,\n",
       "           -1.8496e+00, -1.6478e+00],\n",
       "          ...,\n",
       "          [-2.0097e+00, -1.9905e+00, -1.9438e+00,  ..., -2.4240e+00,\n",
       "           -1.9065e+00, -1.5646e+00],\n",
       "          [-1.6126e+00, -1.1657e+00, -1.3464e+00,  ..., -1.8429e+00,\n",
       "           -1.5848e+00, -1.3197e+00],\n",
       "          [-1.4650e+00, -1.0860e+00, -1.3010e+00,  ..., -1.6053e+00,\n",
       "           -1.4263e+00, -1.4522e+00]]],\n",
       "\n",
       "\n",
       "        ...,\n",
       "\n",
       "\n",
       "        [[[ 5.4857e-01,  3.3294e-01, -8.4967e-02,  ..., -2.1944e-01,\n",
       "            2.0707e-01,  2.2108e-01],\n",
       "          [ 3.3922e-01,  4.1089e-02, -5.3727e-01,  ...,  3.9761e-01,\n",
       "            1.0032e+00,  1.1400e+00],\n",
       "          [ 3.7645e-02, -3.9324e-01, -4.6315e-01,  ...,  2.1046e-01,\n",
       "            5.0737e-01,  6.0302e-01],\n",
       "          ...,\n",
       "          [ 1.2898e-01, -5.7646e-02,  1.3648e-01,  ...,  3.8856e-01,\n",
       "            3.2015e-01,  4.9278e-01],\n",
       "          [-7.6088e-02, -4.5363e-01, -3.7210e-01,  ...,  7.7551e-02,\n",
       "            4.9108e-01,  3.9148e-01],\n",
       "          [ 2.0442e-01,  1.2135e-01,  2.1352e-01,  ...,  4.2716e-01,\n",
       "            5.5469e-01,  9.8907e-01]],\n",
       "\n",
       "         [[ 3.2315e-01,  5.1399e-02,  4.9524e-01,  ...,  1.8675e+00,\n",
       "            2.3622e+00,  2.4043e+00],\n",
       "          [ 5.4309e-01,  3.6551e-01,  6.2725e-01,  ...,  1.6471e+00,\n",
       "            2.4804e+00,  2.9143e+00],\n",
       "          [ 1.5424e-01,  1.9884e-01,  6.1853e-01,  ...,  1.3362e+00,\n",
       "            1.5979e+00,  1.8377e+00],\n",
       "          ...,\n",
       "          [-2.1733e-01,  1.4629e-01,  6.2665e-01,  ...,  1.0972e+00,\n",
       "            1.1005e+00,  1.0685e+00],\n",
       "          [-1.0302e-01,  3.5183e-01,  8.1575e-01,  ...,  1.5500e+00,\n",
       "            1.1766e+00,  1.2182e+00],\n",
       "          [ 3.9534e-01,  2.9086e-01,  3.6033e-01,  ...,  9.8361e-01,\n",
       "            9.3433e-01,  1.0322e+00]],\n",
       "\n",
       "         [[-1.8543e-01, -2.0022e-01, -3.0418e-01,  ..., -7.5542e-01,\n",
       "           -1.2636e+00, -1.0930e+00],\n",
       "          [ 3.4297e-02, -4.1216e-01, -7.1635e-01,  ..., -3.9056e-01,\n",
       "           -1.7035e-01, -2.1113e-01],\n",
       "          [-4.5732e-01, -7.3914e-01, -5.5685e-01,  ...,  4.6197e-01,\n",
       "            6.5377e-01,  2.2712e-01],\n",
       "          ...,\n",
       "          [-5.5048e-01, -4.0905e-01, -2.6479e-01,  ...,  3.7428e-01,\n",
       "            9.4420e-02,  2.7427e-01],\n",
       "          [-4.1827e-01,  1.3247e-02,  2.5807e-01,  ..., -1.4978e-01,\n",
       "           -2.9006e-01, -3.1026e-01],\n",
       "          [-2.7320e-01, -2.9464e-01,  8.1495e-03,  ..., -2.2482e-01,\n",
       "           -1.7890e-01, -3.9235e-01]],\n",
       "\n",
       "         ...,\n",
       "\n",
       "         [[ 7.5997e-01,  8.1793e-01,  6.3399e-01,  ..., -1.7700e-01,\n",
       "           -5.9162e-01, -6.2447e-01],\n",
       "          [ 5.5960e-01,  9.4749e-01,  9.2337e-01,  ...,  8.3815e-01,\n",
       "            5.6371e-01, -3.2733e-03],\n",
       "          [ 7.4117e-01,  1.1153e+00,  6.4461e-01,  ...,  1.2159e+00,\n",
       "            1.4706e+00,  9.2645e-01],\n",
       "          ...,\n",
       "          [ 7.2933e-01,  7.4522e-01,  7.5270e-01,  ...,  1.3928e+00,\n",
       "            1.4562e+00,  1.0641e+00],\n",
       "          [ 9.8277e-01,  7.4198e-01,  5.4806e-01,  ...,  3.3027e-01,\n",
       "            6.4667e-01,  8.8886e-01],\n",
       "          [ 7.6487e-01,  6.0435e-01,  4.0248e-01,  ..., -3.6702e-01,\n",
       "           -1.2915e-01,  5.0063e-01]],\n",
       "\n",
       "         [[-1.0646e-01,  2.4960e-02,  5.4898e-02,  ..., -5.0397e-01,\n",
       "           -9.0730e-01, -9.7009e-01],\n",
       "          [ 8.3584e-01,  3.1598e-01, -6.9532e-02,  ..., -1.1158e+00,\n",
       "           -1.3405e+00, -1.3836e+00],\n",
       "          [ 7.9957e-01,  1.5053e-01,  1.8265e-01,  ..., -5.5101e-01,\n",
       "           -1.2083e+00, -1.2969e+00],\n",
       "          ...,\n",
       "          [-1.1156e-01, -1.1120e-01, -1.4565e-01,  ..., -1.0187e+00,\n",
       "           -5.7009e-01, -3.8075e-01],\n",
       "          [-2.0393e-01, -1.9274e-01, -5.1470e-01,  ..., -8.1190e-01,\n",
       "           -6.6652e-01, -4.3019e-01],\n",
       "          [-2.6931e-01, -6.1928e-01, -1.0447e+00,  ..., -1.0669e+00,\n",
       "           -5.1311e-01,  2.4934e-01]],\n",
       "\n",
       "         [[-8.9898e-01, -8.1700e-01, -4.3983e-01,  ..., -4.6731e-02,\n",
       "            3.0703e-02, -5.9289e-02],\n",
       "          [-5.0250e-01, -3.5716e-01, -2.1092e-01,  ...,  1.3717e-01,\n",
       "            7.8989e-02, -3.5797e-01],\n",
       "          [-6.7507e-01, -5.3908e-01, -2.2322e-02,  ...,  7.3429e-01,\n",
       "            5.0378e-01, -4.6967e-02],\n",
       "          ...,\n",
       "          [-1.2410e+00, -9.3481e-01, -4.9115e-01,  ..., -1.1853e-01,\n",
       "           -5.7036e-01, -8.6264e-01],\n",
       "          [-1.3516e+00, -1.2486e+00, -1.1408e+00,  ..., -8.7590e-01,\n",
       "           -1.0125e+00, -1.1167e+00],\n",
       "          [-1.0630e+00, -1.4911e+00, -1.7724e+00,  ..., -1.3117e+00,\n",
       "           -1.0736e+00, -7.3719e-01]]],\n",
       "\n",
       "\n",
       "        [[[ 8.0552e-01,  6.7316e-01,  7.7698e-01,  ...,  5.8686e-01,\n",
       "            5.0947e-01,  5.9958e-01],\n",
       "          [ 7.4314e-01,  8.5700e-01,  8.1118e-01,  ...,  9.5256e-01,\n",
       "            7.2250e-01,  1.0045e+00],\n",
       "          [ 1.2044e+00,  1.1888e+00,  1.3022e+00,  ...,  7.7345e-01,\n",
       "            8.3735e-01,  9.1933e-01],\n",
       "          ...,\n",
       "          [ 1.2618e+00,  1.3049e+00,  1.4047e+00,  ...,  9.5083e-01,\n",
       "            8.3277e-01,  7.6518e-01],\n",
       "          [ 1.4514e+00,  1.5749e+00,  1.7128e+00,  ...,  9.5487e-01,\n",
       "            9.4452e-01,  7.1439e-01],\n",
       "          [ 1.4202e+00,  1.5355e+00,  1.6563e+00,  ...,  7.7821e-01,\n",
       "            8.2984e-01,  4.4241e-01]],\n",
       "\n",
       "         [[-4.8614e-01, -3.8318e-01, -1.0513e-01,  ..., -5.4814e-01,\n",
       "           -6.9173e-01, -6.2035e-01],\n",
       "          [-1.8860e-01, -1.8525e-01, -3.0392e-01,  ..., -2.2808e-01,\n",
       "           -2.8409e-01, -6.5143e-01],\n",
       "          [-2.7332e-02, -2.3155e-01, -4.8464e-02,  ..., -3.3181e-01,\n",
       "           -3.7453e-01, -4.0266e-01],\n",
       "          ...,\n",
       "          [-6.0792e-02, -3.0006e-01,  3.4265e-02,  ..., -2.1154e-01,\n",
       "           -2.9534e-01, -2.5915e-01],\n",
       "          [ 7.9394e-01,  6.5525e-01,  8.0754e-01,  ...,  3.7559e-02,\n",
       "           -2.3715e-02,  2.7731e-01],\n",
       "          [ 1.1515e+00,  9.1569e-01,  7.2236e-01,  ...,  1.1526e-01,\n",
       "            9.7409e-02,  4.2359e-01]],\n",
       "\n",
       "         [[-5.4654e-01, -7.1886e-01, -9.4032e-01,  ..., -6.4307e-01,\n",
       "           -5.1430e-01, -6.7561e-01],\n",
       "          [-3.5579e-01, -4.0190e-01, -6.2673e-01,  ..., -5.0261e-01,\n",
       "           -3.5558e-01, -6.0476e-01],\n",
       "          [-5.4964e-01, -5.3285e-01, -3.9214e-01,  ..., -3.8835e-01,\n",
       "           -5.3848e-01, -5.7794e-01],\n",
       "          ...,\n",
       "          [-4.3744e-01, -7.1975e-01, -5.8757e-01,  ..., -5.0085e-01,\n",
       "           -3.8460e-01, -4.6467e-01],\n",
       "          [-3.7679e-01, -7.0711e-01, -5.8624e-01,  ..., -8.0521e-02,\n",
       "           -2.6049e-01, -1.9721e-01],\n",
       "          [-4.1383e-01, -5.8020e-01, -6.7095e-01,  ..., -2.1194e-01,\n",
       "           -1.9274e-01, -1.4622e-01]],\n",
       "\n",
       "         ...,\n",
       "\n",
       "         [[ 6.2631e-01,  4.8774e-01,  9.7812e-01,  ...,  1.2674e+00,\n",
       "            9.4749e-01,  7.9474e-01],\n",
       "          [ 6.5116e-01,  5.0965e-01,  5.5292e-01,  ...,  7.7308e-01,\n",
       "            7.2814e-01,  8.5507e-01],\n",
       "          [ 6.3404e-01,  3.5601e-01,  3.1361e-01,  ...,  6.2352e-01,\n",
       "            8.3982e-01,  9.0783e-01],\n",
       "          ...,\n",
       "          [ 9.9107e-02,  3.7330e-02,  7.7008e-02,  ..., -3.8842e-01,\n",
       "           -2.0487e-01,  1.4249e-01],\n",
       "          [-4.8128e-01, -5.9688e-01, -5.6121e-01,  ..., -3.3317e-01,\n",
       "           -3.7958e-01, -2.0643e-01],\n",
       "          [-4.5450e-01, -6.4860e-01, -4.6421e-01,  ..., -2.8749e-01,\n",
       "           -3.9859e-01, -9.6463e-02]],\n",
       "\n",
       "         [[-5.3723e-01, -4.1539e-01, -4.1239e-01,  ..., -4.7500e-02,\n",
       "           -1.9420e-01, -1.9979e-01],\n",
       "          [-3.6965e-01, -2.7300e-01, -2.9452e-01,  ...,  8.0685e-02,\n",
       "            2.7364e-01,  2.2342e-01],\n",
       "          [-2.9699e-01, -7.9556e-02, -5.5711e-01,  ..., -2.3857e-01,\n",
       "           -1.3848e-01, -1.3007e-01],\n",
       "          ...,\n",
       "          [-7.5940e-01, -8.2775e-01, -9.2157e-01,  ..., -5.3906e-01,\n",
       "           -5.7068e-01, -7.6139e-01],\n",
       "          [-3.8940e-01, -2.4566e-01, -1.3123e-01,  ..., -6.1672e-02,\n",
       "           -3.4945e-01, -2.6443e-01],\n",
       "          [-2.0563e-01, -3.9091e-01, -3.0256e-01,  ..., -5.8372e-01,\n",
       "           -2.4943e-01, -3.8444e-01]],\n",
       "\n",
       "         [[-1.5687e+00, -1.2969e+00, -1.4187e+00,  ..., -1.2553e+00,\n",
       "           -1.3776e+00, -1.4923e+00],\n",
       "          [-1.5847e+00, -1.6958e+00, -1.4760e+00,  ..., -1.4041e+00,\n",
       "           -1.4382e+00, -1.2965e+00],\n",
       "          [-1.6757e+00, -1.7173e+00, -1.6395e+00,  ..., -1.5143e+00,\n",
       "           -1.4396e+00, -1.4949e+00],\n",
       "          ...,\n",
       "          [-1.6791e+00, -1.5537e+00, -1.5597e+00,  ..., -9.3242e-01,\n",
       "           -1.2599e+00, -1.5286e+00],\n",
       "          [-9.1413e-01, -1.1390e+00, -1.1553e+00,  ..., -8.9819e-01,\n",
       "           -1.0979e+00, -1.1112e+00],\n",
       "          [-8.4008e-01, -9.5933e-01, -9.9496e-01,  ..., -1.3558e+00,\n",
       "           -1.0596e+00, -1.2220e+00]]],\n",
       "\n",
       "\n",
       "        [[[ 9.4526e-01,  9.2912e-01,  9.2592e-01,  ...,  6.2679e-01,\n",
       "            5.3856e-01,  5.2013e-01],\n",
       "          [ 7.8516e-01,  7.0921e-01,  8.0966e-01,  ...,  3.5705e-01,\n",
       "            6.8174e-01,  5.7572e-01],\n",
       "          [ 6.8339e-01,  1.0666e+00,  1.0138e+00,  ...,  5.3877e-01,\n",
       "            6.4608e-01,  6.8541e-01],\n",
       "          ...,\n",
       "          [ 4.1919e-01,  4.7265e-01,  3.6945e-01,  ...,  5.4451e-01,\n",
       "            7.2619e-01,  7.8196e-01],\n",
       "          [ 7.3798e-01,  7.3917e-01,  5.0509e-01,  ...,  7.0638e-01,\n",
       "            1.0293e+00,  1.0738e+00],\n",
       "          [ 7.3932e-01,  6.0999e-01,  6.6440e-01,  ...,  8.5769e-01,\n",
       "            9.6123e-01,  9.6508e-01]],\n",
       "\n",
       "         [[ 8.4410e-01,  7.4721e-01,  9.4973e-01,  ...,  1.4938e+00,\n",
       "            1.5321e+00,  1.5788e+00],\n",
       "          [ 5.7690e-01,  5.8871e-01,  7.6349e-01,  ...,  1.4809e+00,\n",
       "            1.5155e+00,  1.6933e+00],\n",
       "          [ 3.8095e-01,  5.8039e-01,  5.7830e-01,  ...,  1.6241e+00,\n",
       "            1.7165e+00,  1.5215e+00],\n",
       "          ...,\n",
       "          [ 8.6043e-01,  9.5771e-01,  6.0828e-01,  ...,  7.8083e-01,\n",
       "            7.1609e-01,  7.4649e-01],\n",
       "          [ 1.0769e+00,  1.2969e+00,  9.9120e-01,  ...,  8.0870e-01,\n",
       "            7.4135e-01,  6.8387e-01],\n",
       "          [ 9.8819e-01,  1.0232e+00,  9.5386e-01,  ...,  7.6391e-01,\n",
       "            1.0626e+00,  1.0295e+00]],\n",
       "\n",
       "         [[ 1.2535e-02,  1.1347e-01,  1.2891e-01,  ..., -4.2708e-02,\n",
       "           -5.1161e-02,  1.2737e-01],\n",
       "          [ 4.9627e-01,  5.1158e-01,  5.0943e-01,  ...,  5.0495e-02,\n",
       "            8.1223e-02, -8.9141e-03],\n",
       "          [ 6.9596e-01,  7.1583e-01,  6.5795e-01,  ..., -7.7890e-02,\n",
       "           -1.0110e-01, -1.2611e-01],\n",
       "          ...,\n",
       "          [ 3.3529e-01,  4.0207e-01,  4.0181e-01,  ..., -7.9925e-01,\n",
       "           -6.0616e-01, -7.6033e-01],\n",
       "          [ 6.6734e-02,  2.2864e-01,  1.8806e-01,  ..., -6.3996e-01,\n",
       "           -5.2937e-01, -3.3216e-01],\n",
       "          [ 2.3727e-01,  1.4192e-01,  1.9474e-01,  ..., -5.1347e-01,\n",
       "           -3.7144e-01, -5.1205e-01]],\n",
       "\n",
       "         ...,\n",
       "\n",
       "         [[ 1.0947e+00,  1.1640e+00,  1.3747e+00,  ...,  1.0214e+00,\n",
       "            1.1110e+00,  9.8174e-01],\n",
       "          [ 6.6568e-01,  6.6295e-01,  9.4224e-01,  ...,  1.3388e+00,\n",
       "            1.5574e+00,  1.4728e+00],\n",
       "          [ 8.8701e-01,  7.4553e-01,  8.9322e-01,  ...,  1.2613e+00,\n",
       "            1.4490e+00,  1.2220e+00],\n",
       "          ...,\n",
       "          [ 1.2701e+00,  1.1981e+00,  1.2163e+00,  ...,  1.1488e+00,\n",
       "            8.3523e-01,  8.8434e-01],\n",
       "          [ 9.3016e-01,  9.7376e-01,  1.0897e+00,  ...,  1.1144e+00,\n",
       "            1.2117e+00,  9.9174e-01],\n",
       "          [ 8.6843e-01,  9.0213e-01,  8.6701e-01,  ...,  8.6068e-01,\n",
       "            9.3129e-01,  9.8836e-01]],\n",
       "\n",
       "         [[-2.8294e-01, -5.1849e-02, -3.3260e-02,  ..., -1.0907e-01,\n",
       "           -1.7309e-01, -3.3465e-01],\n",
       "          [-4.8670e-01, -4.6062e-01, -7.2195e-01,  ..., -4.7869e-01,\n",
       "           -5.7964e-01, -8.0418e-01],\n",
       "          [-9.3635e-01, -5.9976e-01, -8.1736e-01,  ..., -7.4364e-01,\n",
       "           -8.4494e-01, -8.8859e-01],\n",
       "          ...,\n",
       "          [-9.0714e-01, -1.0127e+00, -9.2440e-01,  ..., -1.1206e+00,\n",
       "           -1.2545e+00, -9.3340e-01],\n",
       "          [-9.1420e-01, -7.1744e-01, -8.4326e-01,  ..., -1.4502e+00,\n",
       "           -1.4473e+00, -1.1975e+00],\n",
       "          [-5.3984e-01, -5.2570e-01, -8.1262e-01,  ..., -1.8746e+00,\n",
       "           -1.6569e+00, -1.8009e+00]],\n",
       "\n",
       "         [[-2.0611e+00, -2.2116e+00, -2.0590e+00,  ..., -1.5771e+00,\n",
       "           -1.6748e+00, -1.6729e+00],\n",
       "          [-1.4569e+00, -1.7008e+00, -1.6699e+00,  ..., -1.6186e+00,\n",
       "           -1.5397e+00, -1.4519e+00],\n",
       "          [-1.6448e+00, -1.6658e+00, -1.4965e+00,  ..., -1.3895e+00,\n",
       "           -1.2708e+00, -1.5953e+00],\n",
       "          ...,\n",
       "          [-1.2552e+00, -1.0915e+00, -1.1181e+00,  ..., -1.3950e+00,\n",
       "           -1.2467e+00, -1.1132e+00],\n",
       "          [-9.2906e-01, -8.6350e-01, -1.0046e+00,  ..., -1.5491e+00,\n",
       "           -1.2246e+00, -1.2178e+00],\n",
       "          [-9.1134e-01, -1.1169e+00, -1.1010e+00,  ..., -1.2879e+00,\n",
       "           -1.2454e+00, -1.2829e+00]]]], device='cuda:0',\n",
       "       grad_fn=<IndexPutBackward0>)"
      ]
     },
     "execution_count": 51,
     "metadata": {},
     "output_type": "execute_result"
    }
   ],
   "source": [
    "model.roi_heads.box_head.x"
   ]
  },
  {
   "cell_type": "code",
   "execution_count": 67,
   "metadata": {},
   "outputs": [],
   "source": [
    "x = torch.concat([ model.roi_heads.box_head.x.flatten(start_dim=1), model.roi_heads.box_head.clinical_input], axis=1)"
   ]
  },
  {
   "cell_type": "code",
   "execution_count": 68,
   "metadata": {},
   "outputs": [
    {
     "data": {
      "text/plain": [
       "torch.Size([1762, 12608])"
      ]
     },
     "execution_count": 68,
     "metadata": {},
     "output_type": "execute_result"
    }
   ],
   "source": [
    "x.shape"
   ]
  },
  {
   "cell_type": "code",
   "execution_count": 53,
   "metadata": {},
   "outputs": [],
   "source": [
    "# flatten that (channel, resolution, resolution)"
   ]
  },
  {
   "cell_type": "code",
   "execution_count": 54,
   "metadata": {},
   "outputs": [
    {
     "data": {
      "text/plain": [
       "251.71428571428572"
      ]
     },
     "execution_count": 54,
     "metadata": {},
     "output_type": "execute_result"
    }
   ],
   "source": [
    "1762/7"
   ]
  },
  {
   "cell_type": "code",
   "execution_count": 55,
   "metadata": {},
   "outputs": [
    {
     "data": {
      "text/plain": [
       "440.5"
      ]
     },
     "execution_count": 55,
     "metadata": {},
     "output_type": "execute_result"
    }
   ],
   "source": [
    "1762/4"
   ]
  },
  {
   "cell_type": "code",
   "execution_count": 56,
   "metadata": {},
   "outputs": [
    {
     "data": {
      "text/plain": [
       "torch.Size([1762, 64])"
      ]
     },
     "execution_count": 56,
     "metadata": {},
     "output_type": "execute_result"
    }
   ],
   "source": [
    "model.roi_heads.box_head.clinical_input.shape"
   ]
  },
  {
   "cell_type": "code",
   "execution_count": 57,
   "metadata": {},
   "outputs": [
    {
     "data": {
      "text/plain": [
       "{'loss_classifier': tensor(1.6793, device='cuda:0', grad_fn=<NllLossBackward0>),\n",
       " 'loss_box_reg': tensor(0.0074, device='cuda:0', grad_fn=<DivBackward0>),\n",
       " 'loss_objectness': tensor(0.7035, device='cuda:0',\n",
       "        grad_fn=<BinaryCrossEntropyWithLogitsBackward0>),\n",
       " 'loss_rpn_box_reg': tensor(0.0122, device='cuda:0', dtype=torch.float64, grad_fn=<DivBackward0>)}"
      ]
     },
     "execution_count": 57,
     "metadata": {},
     "output_type": "execute_result"
    }
   ],
   "source": [
    "loss_dict"
   ]
  },
  {
   "cell_type": "code",
   "execution_count": 58,
   "metadata": {},
   "outputs": [
    {
     "data": {
      "text/plain": [
       "[{'boxes': tensor([[2718.5696, 1695.6396, 2971.0417, 2170.2285],\n",
       "          [ 596.9617,    0.0000, 1122.3660,  450.0497],\n",
       "          [2781.0330, 1411.9908, 2973.8511, 1572.9620],\n",
       "          [ 759.5148, 1402.0880, 1026.3601, 1522.4780],\n",
       "          [ 471.2844, 1760.8203,  734.3671, 1886.5193],\n",
       "          [2320.0142, 1111.7979, 2444.2578, 1343.8405],\n",
       "          [ 699.6614, 1311.3632,  954.8306, 1794.6321],\n",
       "          [1428.4680, 2279.8499, 1680.8052, 2404.1248],\n",
       "          [ 851.4467,  161.3954,  981.0978,  384.7087],\n",
       "          [2787.1787, 1092.7142, 2979.2561, 1254.6187]], device='cuda:0',\n",
       "         grad_fn=<StackBackward0>),\n",
       "  'labels': tensor([1, 1, 1, 1, 1, 1, 1, 1, 1, 1], device='cuda:0'),\n",
       "  'scores': tensor([0.2213, 0.2183, 0.2170, 0.2162, 0.2160, 0.2160, 0.2152, 0.2151, 0.2147,\n",
       "          0.2144], device='cuda:0', grad_fn=<IndexBackward0>)},\n",
       " {'boxes': tensor([[190.1391, 223.7963, 415.7574, 367.7264],\n",
       "          [349.2446, 294.4765, 573.0487, 431.7177],\n",
       "          [217.8559, 364.9738, 436.8429, 505.2597],\n",
       "          [426.9726, 207.2422, 645.2296, 346.7321],\n",
       "          [204.8684,   0.9280, 641.6938, 491.2211],\n",
       "          [268.7798,  91.6497, 501.9055, 232.2769],\n",
       "          [379.2201, 464.0790, 596.3857, 601.7638],\n",
       "          [ 92.9817, 432.0895, 603.2607, 725.4222],\n",
       "          [ 66.4972, 274.9844, 290.7654, 418.7459],\n",
       "          [ 81.6789, 410.5559, 300.6917, 549.9616]], device='cuda:0',\n",
       "         grad_fn=<StackBackward0>),\n",
       "  'labels': tensor([1, 1, 1, 1, 1, 1, 1, 1, 1, 1], device='cuda:0'),\n",
       "  'scores': tensor([0.2361, 0.2320, 0.2309, 0.2261, 0.2224, 0.2198, 0.2197, 0.2178, 0.2150,\n",
       "          0.2138], device='cuda:0', grad_fn=<IndexBackward0>)},\n",
       " {'boxes': tensor([[1680.5950,    0.0000, 1779.1696,  139.8259],\n",
       "          [1799.7814,    0.0000, 1895.3094,  142.1833],\n",
       "          [1430.7936,    0.0000, 1767.5201,  185.7024],\n",
       "          [1545.5167,   50.2556, 1897.2323,  398.8396],\n",
       "          [1991.9570, 2483.1960, 2513.5017, 2744.6116],\n",
       "          [1619.1421, 2156.6052, 1726.4912, 2428.1064],\n",
       "          [1495.5287,  248.5166, 1717.9636,  390.1424],\n",
       "          [1181.6909, 1394.0270, 1279.2645, 1686.9930],\n",
       "          [ 720.6331,  526.8328, 1141.6967, 1557.9337],\n",
       "          [1217.8770,  493.7010, 1445.0762,  646.5654]], device='cuda:0',\n",
       "         grad_fn=<StackBackward0>),\n",
       "  'labels': tensor([1, 1, 1, 1, 1, 1, 1, 1, 5, 1], device='cuda:0'),\n",
       "  'scores': tensor([0.2452, 0.2375, 0.2243, 0.2183, 0.2175, 0.2145, 0.2135, 0.2129, 0.2128,\n",
       "          0.2122], device='cuda:0', grad_fn=<IndexBackward0>)},\n",
       " {'boxes': tensor([[ 250.1165,  387.8593,  506.9069,  505.0040],\n",
       "          [ 160.2137,  225.0053,  355.1927,  378.6918],\n",
       "          [2421.5066,  612.7551, 2684.1316,  738.9421],\n",
       "          [2452.7219,  827.8582, 2737.4949,  962.9066],\n",
       "          [2716.6475,  956.6465, 2979.8169, 1084.7943],\n",
       "          [ 411.7076,  289.6843,  676.9285,  403.5884],\n",
       "          [2730.1836,  743.4823, 2987.4680,  869.2835],\n",
       "          [2756.0237, 1478.2695, 2881.3459, 1699.4269],\n",
       "          [   0.0000,  290.5002,  711.6113,  811.9089],\n",
       "          [2810.8755, 1120.8038, 2940.4795, 1344.4686]], device='cuda:0',\n",
       "         grad_fn=<StackBackward0>),\n",
       "  'labels': tensor([1, 1, 1, 1, 1, 1, 1, 1, 1, 1], device='cuda:0'),\n",
       "  'scores': tensor([0.2268, 0.2232, 0.2230, 0.2228, 0.2225, 0.2213, 0.2209, 0.2208, 0.2208,\n",
       "          0.2200], device='cuda:0', grad_fn=<IndexBackward0>)}]"
      ]
     },
     "execution_count": 58,
     "metadata": {},
     "output_type": "execute_result"
    }
   ],
   "source": [
    "outputs"
   ]
  },
  {
   "cell_type": "code",
   "execution_count": 59,
   "metadata": {},
   "outputs": [
    {
     "name": "stdout",
     "output_type": "stream",
     "text": [
      "[0]: torch.Size([4, 256, 128, 128])\n",
      "[1]: torch.Size([4, 256, 64, 64])\n",
      "[2]: torch.Size([4, 256, 32, 32])\n",
      "[3]: torch.Size([4, 256, 16, 16])\n",
      "[pool]: torch.Size([4, 256, 8, 8])\n"
     ]
    }
   ],
   "source": [
    "for k, v in model.img_features.items():\n",
    "    print(f\"[{k}]: {v.shape}\")"
   ]
  },
  {
   "cell_type": "code",
   "execution_count": 60,
   "metadata": {},
   "outputs": [
    {
     "name": "stdout",
     "output_type": "stream",
     "text": [
      "[0]: torch.Size([4, 256, 128, 128])\n",
      "[1]: torch.Size([4, 256, 64, 64])\n",
      "[2]: torch.Size([4, 256, 32, 32])\n",
      "[3]: torch.Size([4, 256, 16, 16])\n",
      "[pool]: torch.Size([4, 256, 8, 8])\n"
     ]
    }
   ],
   "source": [
    "for k, v in model.clinical_features.items():\n",
    "    print(f\"[{k}]: {v.shape}\")"
   ]
  },
  {
   "cell_type": "code",
   "execution_count": 61,
   "metadata": {},
   "outputs": [
    {
     "data": {
      "text/plain": [
       "torch.Size([4, 256, 128, 128])"
      ]
     },
     "execution_count": 61,
     "metadata": {},
     "output_type": "execute_result"
    }
   ],
   "source": [
    "model.clinical_features['0'].shape"
   ]
  },
  {
   "cell_type": "code",
   "execution_count": 62,
   "metadata": {},
   "outputs": [
    {
     "ename": "AttributeError",
     "evalue": "'MultimodalMaskRCNN' object has no attribute 'fuse_convs'",
     "output_type": "error",
     "traceback": [
      "\u001b[1;31m---------------------------------------------------------------------------\u001b[0m",
      "\u001b[1;31mAttributeError\u001b[0m                            Traceback (most recent call last)",
      "\u001b[1;32m~\\AppData\\Local\\Temp/ipykernel_19320/951670112.py\u001b[0m in \u001b[0;36m<module>\u001b[1;34m\u001b[0m\n\u001b[1;32m----> 1\u001b[1;33m \u001b[0mmodel\u001b[0m\u001b[1;33m.\u001b[0m\u001b[0mfuse_convs\u001b[0m\u001b[1;33m[\u001b[0m\u001b[1;34m'0'\u001b[0m\u001b[1;33m]\u001b[0m\u001b[1;33m(\u001b[0m\u001b[0mmodel\u001b[0m\u001b[1;33m.\u001b[0m\u001b[0mclinical_features\u001b[0m\u001b[1;33m[\u001b[0m\u001b[1;34m'0'\u001b[0m\u001b[1;33m]\u001b[0m\u001b[1;33m)\u001b[0m\u001b[1;33m.\u001b[0m\u001b[0mshape\u001b[0m\u001b[1;33m\u001b[0m\u001b[1;33m\u001b[0m\u001b[0m\n\u001b[0m",
      "\u001b[1;32mc:\\Users\\mike8\\anaconda3\\envs\\pytorch\\lib\\site-packages\\torch\\nn\\modules\\module.py\u001b[0m in \u001b[0;36m__getattr__\u001b[1;34m(self, name)\u001b[0m\n\u001b[0;32m   1183\u001b[0m             \u001b[1;32mif\u001b[0m \u001b[0mname\u001b[0m \u001b[1;32min\u001b[0m \u001b[0mmodules\u001b[0m\u001b[1;33m:\u001b[0m\u001b[1;33m\u001b[0m\u001b[1;33m\u001b[0m\u001b[0m\n\u001b[0;32m   1184\u001b[0m                 \u001b[1;32mreturn\u001b[0m \u001b[0mmodules\u001b[0m\u001b[1;33m[\u001b[0m\u001b[0mname\u001b[0m\u001b[1;33m]\u001b[0m\u001b[1;33m\u001b[0m\u001b[1;33m\u001b[0m\u001b[0m\n\u001b[1;32m-> 1185\u001b[1;33m         raise AttributeError(\"'{}' object has no attribute '{}'\".format(\n\u001b[0m\u001b[0;32m   1186\u001b[0m             type(self).__name__, name))\n\u001b[0;32m   1187\u001b[0m \u001b[1;33m\u001b[0m\u001b[0m\n",
      "\u001b[1;31mAttributeError\u001b[0m: 'MultimodalMaskRCNN' object has no attribute 'fuse_convs'"
     ]
    }
   ],
   "source": [
    "model.fuse_convs['0'](model.clinical_features['0']).shape"
   ]
  },
  {
   "cell_type": "code",
   "execution_count": null,
   "metadata": {},
   "outputs": [],
   "source": [
    "clinical_features = OrderedDict({})\n",
    "\n",
    "clinical_input = model.clinical_features['0']"
   ]
  },
  {
   "cell_type": "code",
   "execution_count": null,
   "metadata": {},
   "outputs": [],
   "source": [
    "clinical_input.shape"
   ]
  },
  {
   "cell_type": "code",
   "execution_count": null,
   "metadata": {},
   "outputs": [],
   "source": [
    "model.clinical_convs.keys()"
   ]
  },
  {
   "cell_type": "code",
   "execution_count": null,
   "metadata": {},
   "outputs": [],
   "source": [
    "model.clinical_convs['2']"
   ]
  },
  {
   "cell_type": "code",
   "execution_count": null,
   "metadata": {},
   "outputs": [],
   "source": [
    "clinical_input = model.clinical_convs['0'](clinical_input)"
   ]
  },
  {
   "cell_type": "code",
   "execution_count": null,
   "metadata": {},
   "outputs": [],
   "source": [
    "clinical_input.shape # shrink"
   ]
  },
  {
   "cell_type": "code",
   "execution_count": null,
   "metadata": {},
   "outputs": [],
   "source": [
    "clinical_features[k] = clinical_input\n"
   ]
  },
  {
   "cell_type": "code",
   "execution_count": null,
   "metadata": {},
   "outputs": [],
   "source": [
    "model.clinical_features['0'].shape"
   ]
  },
  {
   "cell_type": "code",
   "execution_count": null,
   "metadata": {},
   "outputs": [],
   "source": [
    "for k, v in clinical_features.items():\n",
    "    print(f\"[{k}]: {v.shape}\")"
   ]
  },
  {
   "cell_type": "code",
   "execution_count": null,
   "metadata": {},
   "outputs": [],
   "source": [
    "\n",
    "clinical_features = OrderedDict({})\n",
    "\n",
    "clinical_input = model.clinical_features['0']\n",
    "\n",
    "for k in model.clinical_convs.keys():\n",
    "    clinical_input = model.clinical_convs[k](clinical_input)\n",
    "    clinical_features[k] = clinical_input\n"
   ]
  },
  {
   "cell_type": "code",
   "execution_count": null,
   "metadata": {},
   "outputs": [],
   "source": [
    "clinical_input.shape"
   ]
  },
  {
   "cell_type": "code",
   "execution_count": null,
   "metadata": {},
   "outputs": [],
   "source": [
    "for k, v in clinical_features.items():\n",
    "    print(f\"[{k}]: {v.shape}\")"
   ]
  },
  {
   "cell_type": "code",
   "execution_count": null,
   "metadata": {},
   "outputs": [],
   "source": []
  },
  {
   "cell_type": "code",
   "execution_count": null,
   "metadata": {},
   "outputs": [],
   "source": [
    "clinical_input = model.clinical_convs['0'](clinical_input)"
   ]
  },
  {
   "cell_type": "code",
   "execution_count": null,
   "metadata": {},
   "outputs": [],
   "source": [
    "clinical_input.shape"
   ]
  },
  {
   "cell_type": "code",
   "execution_count": null,
   "metadata": {},
   "outputs": [],
   "source": [
    "clinical_features[k] = clinical_input"
   ]
  },
  {
   "cell_type": "code",
   "execution_count": null,
   "metadata": {},
   "outputs": [],
   "source": [
    "clinical_features[k].shape"
   ]
  },
  {
   "cell_type": "code",
   "execution_count": null,
   "metadata": {},
   "outputs": [],
   "source": [
    "clinical_features['0'][-1][-1][-1]"
   ]
  },
  {
   "cell_type": "code",
   "execution_count": null,
   "metadata": {},
   "outputs": [],
   "source": [
    "clinical_features['1'][-1][-1][-1]"
   ]
  },
  {
   "cell_type": "code",
   "execution_count": null,
   "metadata": {},
   "outputs": [],
   "source": [
    "for k, v in model.img_features.items():\n",
    "    print(f\"[{k}]: {v.shape}\")"
   ]
  },
  {
   "cell_type": "code",
   "execution_count": null,
   "metadata": {},
   "outputs": [],
   "source": []
  },
  {
   "cell_type": "code",
   "execution_count": null,
   "metadata": {},
   "outputs": [],
   "source": [
    "images, targets = data"
   ]
  },
  {
   "cell_type": "code",
   "execution_count": null,
   "metadata": {},
   "outputs": [],
   "source": [
    "original_image_sizes= []\n",
    "for img in images:\n",
    "    val = img.shape[-2:]\n",
    "    assert len(val) == 2\n",
    "    original_image_sizes.append((val[0], val[1]))\n",
    "\n",
    "images, targets = model.transform(images, targets)"
   ]
  },
  {
   "cell_type": "code",
   "execution_count": null,
   "metadata": {},
   "outputs": [],
   "source": [
    "img_features = model.backbone(images.tensors)"
   ]
  },
  {
   "cell_type": "code",
   "execution_count": null,
   "metadata": {},
   "outputs": [],
   "source": [
    "list(img_features.keys())[-1]"
   ]
  },
  {
   "cell_type": "code",
   "execution_count": null,
   "metadata": {},
   "outputs": [],
   "source": [
    "for k, v in img_features.items():\n",
    "    print(f\"[{k}]: {v.shape}\")"
   ]
  },
  {
   "cell_type": "markdown",
   "metadata": {},
   "source": [
    "## Results we get.\n",
    "Four different losses are given in the result, we will use these losses to optimise the network while training. "
   ]
  },
  {
   "cell_type": "markdown",
   "metadata": {},
   "source": [
    "# Test Feedforawrd"
   ]
  },
  {
   "cell_type": "markdown",
   "metadata": {},
   "source": [
    "### Detection.\n",
    "\n",
    "A detection contain *boxes*, *lables*, and *scores*.\n",
    "\n",
    "- *boxes*: All the bounding boxes for this image. \n",
    "- *lables*: Labels corresponded to the bounding boxes.\n",
    "- *score*: Score (Confidence) for each boudning box."
   ]
  },
  {
   "cell_type": "code",
   "execution_count": null,
   "metadata": {},
   "outputs": [],
   "source": [
    "loss_dict, outputs "
   ]
  }
 ],
 "metadata": {
  "interpreter": {
   "hash": "52a48fdedee40b77eb251917c5aa239bf02f1ab8c93cc13fe7347f570eadc6b9"
  },
  "kernelspec": {
   "display_name": "Python 3.9.7 ('pytorch')",
   "language": "python",
   "name": "python3"
  },
  "language_info": {
   "codemirror_mode": {
    "name": "ipython",
    "version": 3
   },
   "file_extension": ".py",
   "mimetype": "text/x-python",
   "name": "python",
   "nbconvert_exporter": "python",
   "pygments_lexer": "ipython3",
   "version": "3.9.7"
  },
  "orig_nbformat": 4
 },
 "nbformat": 4,
 "nbformat_minor": 2
}
