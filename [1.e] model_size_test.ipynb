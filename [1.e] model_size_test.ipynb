{
 "cells": [
  {
   "cell_type": "code",
   "execution_count": 1,
   "metadata": {},
   "outputs": [],
   "source": [
    "import torchvision.models as models\n",
    "from utils.train import num_params\n",
    "import warnings\n",
    "import torch\n",
    "\n",
    "warnings.filterwarnings(\"ignore\", category=FutureWarning)\n",
    "warnings.filterwarnings(\"ignore\", category=UserWarning)"
   ]
  },
  {
   "cell_type": "code",
   "execution_count": 2,
   "metadata": {},
   "outputs": [],
   "source": [
    "model_creating_fns = [\n",
    "    models.resnet18,\n",
    "    models.resnet50,\n",
    "    models.alexnet,\n",
    "    models.vgg16,\n",
    "    models.squeezenet1_0,\n",
    "    models.densenet161,\n",
    "    models.inception_v3,\n",
    "    models.googlenet,\n",
    "    models.shufflenet_v2_x1_0,\n",
    "    models.mobilenet_v2,\n",
    "    models.mobilenet_v3_large,\n",
    "    models.mobilenet_v3_small,\n",
    "    models.resnext50_32x4d,\n",
    "    models.wide_resnet50_2,\n",
    "    models.mnasnet1_0,\n",
    "    models.efficientnet_b0,\n",
    "    models.efficientnet_b1,\n",
    "    models.efficientnet_b2,\n",
    "    models.efficientnet_b3,\n",
    "    models.efficientnet_b4,\n",
    "    models.efficientnet_b5,\n",
    "    models.efficientnet_b6,\n",
    "    models.efficientnet_b7,\n",
    "    models.regnet_y_400mf,\n",
    "    models.regnet_y_800mf,\n",
    "    models.regnet_y_1_6gf,\n",
    "    models.regnet_y_3_2gf,\n",
    "    models.regnet_y_8gf,\n",
    "    models.regnet_y_16gf,\n",
    "    models.regnet_y_32gf,\n",
    "    models.regnet_y_128gf,\n",
    "    models.regnet_x_400mf,\n",
    "    models.regnet_x_800mf,\n",
    "    models.regnet_x_1_6gf,\n",
    "    models.regnet_x_3_2gf,\n",
    "    models.regnet_x_8gf,\n",
    "    models.regnet_x_16gf,\n",
    "    models.regnet_x_32gf,\n",
    "    models.vit_b_16,\n",
    "    models.vit_b_32,\n",
    "    models.vit_l_16,\n",
    "    models.vit_l_32,\n",
    "    models.convnext_tiny,\n",
    "    models.convnext_small,\n",
    "    models.convnext_base,\n",
    "    models.convnext_large,\n",
    "]"
   ]
  },
  {
   "cell_type": "code",
   "execution_count": 4,
   "metadata": {},
   "outputs": [],
   "source": [
    "test_input = torch.randn(1,3,1024,1024)"
   ]
  },
  {
   "cell_type": "code",
   "execution_count": 5,
   "metadata": {},
   "outputs": [
    {
     "name": "stdout",
     "output_type": "stream",
     "text": [
      "| [resnet18] | Size: [11,176,512] | Out: [512] |\n",
      "| [resnet50] | Size: [23,508,032] | Out: [2048] |\n",
      "| [alexnet] | Size: [61,100,840] | Out: [256] |\n",
      "| [vgg16] | Size: [138,357,544] | Out: [512] |\n",
      "| [squeezenet1_0] | Size: [1,248,424] | Out: [512] |\n",
      "| [densenet161] | Size: [28,681,000] | Out: [2208] |\n",
      "| [shufflenet_v2_x1_0] | Size: [1,253,604] | Out: [1024] |\n",
      "| [mobilenet_v2] | Size: [3,504,872] | Out: [1280] |\n",
      "| [mobilenet_v3_large] | Size: [5,483,032] | Out: [960] |\n",
      "| [mobilenet_v3_small] | Size: [2,542,856] | Out: [576] |\n",
      "| [resnext50_32x4d] | Size: [22,979,904] | Out: [2048] |\n",
      "| [wide_resnet50_2] | Size: [66,834,240] | Out: [2048] |\n",
      "| [mnasnet1_0] | Size: [3,102,312] | Out: [1280] |\n",
      "| [efficientnet_b0] | Size: [5,288,548] | Out: [1280] |\n",
      "| [efficientnet_b1] | Size: [7,794,184] | Out: [1280] |\n",
      "| [efficientnet_b2] | Size: [9,109,994] | Out: [1408] |\n",
      "| [efficientnet_b3] | Size: [12,233,232] | Out: [1536] |\n",
      "| [efficientnet_b4] | Size: [19,341,616] | Out: [1792] |\n",
      "| [efficientnet_b5] | Size: [30,389,784] | Out: [2048] |\n",
      "| [efficientnet_b6] | Size: [43,040,704] | Out: [2304] |\n",
      "| [efficientnet_b7] | Size: [66,347,960] | Out: [2560] |\n",
      "| [regnet_y_400mf] | Size: [3,903,144] | Out: [440] |\n",
      "| [regnet_y_800mf] | Size: [5,647,512] | Out: [784] |\n",
      "| [regnet_y_1_6gf] | Size: [10,313,430] | Out: [888] |\n",
      "| [regnet_y_3_2gf] | Size: [17,923,338] | Out: [1512] |\n",
      "| [regnet_y_8gf] | Size: [37,364,472] | Out: [2016] |\n",
      "| [regnet_y_16gf] | Size: [80,565,140] | Out: [3024] |\n",
      "| [regnet_y_32gf] | Size: [141,333,770] | Out: [3712] |\n",
      "| [regnet_y_128gf] | Size: [637,419,894] | Out: [7392] |\n",
      "| [regnet_x_400mf] | Size: [5,094,976] | Out: [400] |\n",
      "| [regnet_x_800mf] | Size: [6,586,656] | Out: [672] |\n",
      "| [regnet_x_1_6gf] | Size: [8,277,136] | Out: [912] |\n",
      "| [regnet_x_3_2gf] | Size: [14,287,552] | Out: [1008] |\n",
      "| [regnet_x_8gf] | Size: [37,651,648] | Out: [1920] |\n",
      "| [regnet_x_16gf] | Size: [52,229,536] | Out: [2048] |\n",
      "| [regnet_x_32gf] | Size: [105,290,560] | Out: [2520] |\n",
      "| [vit_b_16] | Size: [86,567,656] | Out: [Unknown] |\n",
      "| [vit_b_32] | Size: [88,224,232] | Out: [Unknown] |\n",
      "| [vit_l_16] | Size: [304,326,632] | Out: [Unknown] |\n",
      "| [vit_l_32] | Size: [306,535,400] | Out: [Unknown] |\n",
      "| [convnext_tiny] | Size: [28,589,128] | Out: [768] |\n",
      "| [convnext_small] | Size: [50,223,688] | Out: [768] |\n",
      "| [convnext_base] | Size: [88,591,464] | Out: [1024] |\n",
      "| [convnext_large] | Size: [197,767,336] | Out: [1536] |\n"
     ]
    }
   ],
   "source": [
    "for creator in model_creating_fns:\n",
    "    model = creator()   \n",
    "\n",
    "    out_channels = \"Unknown\"\n",
    "    \n",
    "    if hasattr(model, \"features\"):\n",
    "        out_channels = model.features(test_input).shape[1]\n",
    "\n",
    "    elif hasattr(model, \"fc\"):\n",
    "        model.fc = NoAction()\n",
    "        out_channels = model(test_input).shape[1]\n",
    "\n",
    "    elif hasattr(model, \"classifier\"):\n",
    "        model.classifier = NoAction()\n",
    "        out_channels = model(test_input).shape[1]\n",
    "\n",
    "    print(f\"| [{creator.__name__}] | Size: [{num_params(model):,}] | Out: [{out_channels}] |\")"
   ]
  },
  {
   "cell_type": "code",
   "execution_count": null,
   "metadata": {},
   "outputs": [],
   "source": []
  }
 ],
 "metadata": {
  "interpreter": {
   "hash": "52a48fdedee40b77eb251917c5aa239bf02f1ab8c93cc13fe7347f570eadc6b9"
  },
  "kernelspec": {
   "display_name": "Python 3.9.7 ('pytorch')",
   "language": "python",
   "name": "python3"
  },
  "language_info": {
   "codemirror_mode": {
    "name": "ipython",
    "version": 3
   },
   "file_extension": ".py",
   "mimetype": "text/x-python",
   "name": "python",
   "nbconvert_exporter": "python",
   "pygments_lexer": "ipython3",
   "version": "3.9.7"
  },
  "orig_nbformat": 4
 },
 "nbformat": 4,
 "nbformat_minor": 2
}
