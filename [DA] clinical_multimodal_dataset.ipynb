{
 "cells": [
  {
   "cell_type": "code",
   "execution_count": 1,
   "metadata": {},
   "outputs": [],
   "source": [
    "import pandas as pd"
   ]
  },
  {
   "cell_type": "code",
   "execution_count": 3,
   "metadata": {},
   "outputs": [],
   "source": [
    "reflacx_df = pd.read_csv(\"./spreadsheets/reflacx_with_clinical.csv\")"
   ]
  },
  {
   "cell_type": "code",
   "execution_count": 6,
   "metadata": {},
   "outputs": [
    {
     "data": {
      "text/plain": [
       "0      69.0\n",
       "1      69.0\n",
       "2      69.0\n",
       "3      69.0\n",
       "4      69.0\n",
       "       ... \n",
       "665    43.0\n",
       "666    31.0\n",
       "667    38.0\n",
       "668    42.0\n",
       "669    61.0\n",
       "Name: age, Length: 670, dtype: float64"
      ]
     },
     "execution_count": 6,
     "metadata": {},
     "output_type": "execute_result"
    }
   ],
   "source": [
    "reflacx_df['age']"
   ]
  },
  {
   "cell_type": "code",
   "execution_count": 25,
   "metadata": {},
   "outputs": [],
   "source": [
    "reflacx_cxr_df =pd.read_csv(\"./spreadsheets/reflacx_cxr.csv\")"
   ]
  },
  {
   "cell_type": "code",
   "execution_count": 26,
   "metadata": {},
   "outputs": [
    {
     "data": {
      "text/plain": [
       "Index(['Unnamed: 0', 'id', 'dicom_id', 'subject_id', 'stay_id', 'study_id',\n",
       "       'image_path', 'ViewPosition', 'image_size_x', 'image_size_y',\n",
       "       'anomaly_location_ellipses_path', 'Airway wall thickening',\n",
       "       'Atelectasis', 'Consolidation', 'Enlarged cardiac silhouette',\n",
       "       'Fibrosis', 'Groundglass opacity', 'Other', 'Pneumothorax',\n",
       "       'Pulmonary edema', 'Quality issue', 'Support devices',\n",
       "       'Wide mediastinum', 'Abnormal mediastinal contour', 'Acute fracture',\n",
       "       'Enlarged hilum', 'Hiatal hernia', 'High lung volume / emphysema',\n",
       "       'Interstitial lung disease', 'Lung nodule or mass',\n",
       "       'Pleural abnormality', 'age', 'gender', 'split'],\n",
       "      dtype='object')"
      ]
     },
     "execution_count": 26,
     "metadata": {},
     "output_type": "execute_result"
    }
   ],
   "source": [
    "reflacx_cxr_df.columns"
   ]
  },
  {
   "cell_type": "code",
   "execution_count": 7,
   "metadata": {},
   "outputs": [],
   "source": [
    "physio_file_path = \"E:\\\\physionet.org\\\\files\\\\\"\n"
   ]
  },
  {
   "cell_type": "code",
   "execution_count": 8,
   "metadata": {},
   "outputs": [],
   "source": [
    "patient_df = pd.read_csv(os.path.join( physio_file_path, \"mimiciv\\\\2.0\\\\hosp\\\\patients.csv.gz\"))\n"
   ]
  },
  {
   "cell_type": "code",
   "execution_count": 11,
   "metadata": {},
   "outputs": [],
   "source": [
    "import matplotlib.pyplot as plt"
   ]
  },
  {
   "cell_type": "code",
   "execution_count": 27,
   "metadata": {},
   "outputs": [],
   "source": [
    "reflacx_clinical_df = pd.read_csv(\"./spreadsheets/reflacx_with_clinical.csv\")"
   ]
  },
  {
   "cell_type": "code",
   "execution_count": 80,
   "metadata": {},
   "outputs": [
    {
     "data": {
      "text/plain": [
       "array([0. , 0.2, 0.4, 0.6, 0.8, 1. ])"
      ]
     },
     "execution_count": 80,
     "metadata": {},
     "output_type": "execute_result"
    }
   ],
   "source": [
    "ax.get_yticks()"
   ]
  },
  {
   "cell_type": "code",
   "execution_count": 83,
   "metadata": {},
   "outputs": [
    {
     "data": {
      "text/plain": [
       "[Text(0, 10.0, ''),\n",
       " Text(0, 20.0, ''),\n",
       " Text(0, 30.0, ''),\n",
       " Text(0, 40.0, ''),\n",
       " Text(0, 50.0, ''),\n",
       " Text(0, 60.0, ''),\n",
       " Text(0, 70.0, ''),\n",
       " Text(0, 80.0, ''),\n",
       " Text(0, 90.0, ''),\n",
       " Text(0, 100.0, ''),\n",
       " Text(0, 110.0, '')]"
      ]
     },
     "execution_count": 83,
     "metadata": {},
     "output_type": "execute_result"
    }
   ],
   "source": [
    "ax.get_yticklabels()"
   ]
  },
  {
   "cell_type": "code",
   "execution_count": 72,
   "metadata": {},
   "outputs": [
    {
     "data": {
      "text/plain": [
       "[Text(0, 10.0, '10'),\n",
       " Text(0, 20.0, '20'),\n",
       " Text(0, 30.0, '30'),\n",
       " Text(0, 40.0, '40'),\n",
       " Text(0, 50.0, '50'),\n",
       " Text(0, 60.0, '60'),\n",
       " Text(0, 70.0, '70'),\n",
       " Text(0, 80.0, '80'),\n",
       " Text(0, 90.0, '90'),\n",
       " Text(0, 100.0, '100'),\n",
       " Text(0, 110.0, '110')]"
      ]
     },
     "execution_count": 72,
     "metadata": {},
     "output_type": "execute_result"
    }
   ],
   "source": [
    "ax.get_yticklabels()"
   ]
  },
  {
   "cell_type": "code",
   "execution_count": 95,
   "metadata": {},
   "outputs": [
    {
     "name": "stderr",
     "output_type": "stream",
     "text": [
      "C:\\Users\\mike8\\AppData\\Local\\Temp/ipykernel_31600/3490493430.py:38: UserWarning: FixedFormatter should only be used together with FixedLocator\n",
      "  ax.set_yticklabels(map(int, list(ax.get_yticks())) , fontdict={\"size\": 13, \"family\": \"serif\"})\n"
     ]
    },
    {
     "data": {
      "text/plain": [
       "[Text(0, 10.0, '10'),\n",
       " Text(0, 20.0, '20'),\n",
       " Text(0, 30.0, '30'),\n",
       " Text(0, 40.0, '40'),\n",
       " Text(0, 50.0, '50'),\n",
       " Text(0, 60.0, '60'),\n",
       " Text(0, 70.0, '70'),\n",
       " Text(0, 80.0, '80'),\n",
       " Text(0, 90.0, '90'),\n",
       " Text(0, 100.0, '100'),\n",
       " Text(0, 110.0, '110')]"
      ]
     },
     "execution_count": 95,
     "metadata": {},
     "output_type": "execute_result"
    },
    {
     "data": {
      "image/png": "[encoded data removed]",
      "text/plain": [
       "<Figure size 360x504 with 1 Axes>"
      ]
     },
     "metadata": {
      "needs_background": "light"
     },
     "output_type": "display_data"
    }
   ],
   "source": [
    "age_dict = {\n",
    "    # \"MIMIC\": list(patient_df[\"anchor_age\"]),\n",
    "    \"REFLACX\": list(reflacx_cxr_df[~reflacx_cxr_df['age'].isnull()]['age']),\n",
    "    \"Clinial multimodal dataset\": list(reflacx_clinical_df['age']),\n",
    "}\n",
    "\n",
    "\n",
    "\n",
    "fig, ax = plt.subplots(figsize=(5, 7))\n",
    "\n",
    "ax.set_xlabel(\"Dataset\", fontdict={\"size\": 16, \"family\": \"serif\"}, labelpad=15)\n",
    "ax.set_ylabel(\n",
    "    \"Age\", fontdict={\"size\": 16, \"family\": \"serif\"}, labelpad=15,\n",
    ")\n",
    "\n",
    "ax.set_title(\n",
    "    \"Age distributions in datasets\",\n",
    "    fontdict={\"size\": 16, \"weight\": \"bold\", \"family\": \"serif\"},\n",
    "    pad=15,\n",
    ")\n",
    "\n",
    "\n",
    "ax.boxplot(age_dict.values())\n",
    "\n",
    "\n",
    "ax.set_xticklabels(ax.get_xticks(), fontdict={\n",
    "\"size\":13,\n",
    "'family': 'serif'\n",
    "})\n",
    "\n",
    "ax.set_xticklabels(age_dict.keys())\n",
    "ax.set_yticklabels(map(int, list(ax.get_yticks())) , fontdict={\"size\": 13, \"family\": \"serif\"})\n",
    "\n",
    "\n"
   ]
  },
  {
   "cell_type": "code",
   "execution_count": 103,
   "metadata": {},
   "outputs": [
    {
     "data": {
      "text/plain": [
       "F    0.529065\n",
       "M    0.470935\n",
       "Name: gender, dtype: float64"
      ]
     },
     "execution_count": 103,
     "metadata": {},
     "output_type": "execute_result"
    }
   ],
   "source": [
    "patient_df[\"gender\"].value_counts() / len(patient_df)"
   ]
  },
  {
   "cell_type": "code",
   "execution_count": 105,
   "metadata": {},
   "outputs": [
    {
     "ename": "TypeError",
     "evalue": "cannot convert the series to <class 'float'>",
     "output_type": "error",
     "traceback": [
      "\u001b[1;31m---------------------------------------------------------------------------\u001b[0m",
      "\u001b[1;31mTypeError\u001b[0m                                 Traceback (most recent call last)",
      "\u001b[1;32m~\\AppData\\Local\\Temp/ipykernel_31600/1378237887.py\u001b[0m in \u001b[0;36m<module>\u001b[1;34m\u001b[0m\n\u001b[1;32m----> 1\u001b[1;33m \u001b[0mfloat\u001b[0m\u001b[1;33m(\u001b[0m\u001b[0mreflacx_cxr_df\u001b[0m\u001b[1;33m[\u001b[0m\u001b[1;33m~\u001b[0m\u001b[0mreflacx_cxr_df\u001b[0m\u001b[1;33m[\u001b[0m\u001b[1;34m'gender'\u001b[0m\u001b[1;33m]\u001b[0m\u001b[1;33m.\u001b[0m\u001b[0misnull\u001b[0m\u001b[1;33m(\u001b[0m\u001b[1;33m)\u001b[0m\u001b[1;33m]\u001b[0m\u001b[1;33m[\u001b[0m\u001b[1;34m'gender'\u001b[0m\u001b[1;33m]\u001b[0m\u001b[1;33m.\u001b[0m\u001b[0mvalue_counts\u001b[0m\u001b[1;33m(\u001b[0m\u001b[1;33m)\u001b[0m\u001b[1;33m)\u001b[0m\u001b[1;33m\u001b[0m\u001b[1;33m\u001b[0m\u001b[0m\n\u001b[0m",
      "\u001b[1;32mc:\\Users\\mike8\\anaconda3\\envs\\pytorch\\lib\\site-packages\\pandas\\core\\series.py\u001b[0m in \u001b[0;36mwrapper\u001b[1;34m(self)\u001b[0m\n\u001b[0;32m    183\u001b[0m         \u001b[1;32mif\u001b[0m \u001b[0mlen\u001b[0m\u001b[1;33m(\u001b[0m\u001b[0mself\u001b[0m\u001b[1;33m)\u001b[0m \u001b[1;33m==\u001b[0m \u001b[1;36m1\u001b[0m\u001b[1;33m:\u001b[0m\u001b[1;33m\u001b[0m\u001b[1;33m\u001b[0m\u001b[0m\n\u001b[0;32m    184\u001b[0m             \u001b[1;32mreturn\u001b[0m \u001b[0mconverter\u001b[0m\u001b[1;33m(\u001b[0m\u001b[0mself\u001b[0m\u001b[1;33m.\u001b[0m\u001b[0miloc\u001b[0m\u001b[1;33m[\u001b[0m\u001b[1;36m0\u001b[0m\u001b[1;33m]\u001b[0m\u001b[1;33m)\u001b[0m\u001b[1;33m\u001b[0m\u001b[1;33m\u001b[0m\u001b[0m\n\u001b[1;32m--> 185\u001b[1;33m         \u001b[1;32mraise\u001b[0m \u001b[0mTypeError\u001b[0m\u001b[1;33m(\u001b[0m\u001b[1;34mf\"cannot convert the series to {converter}\"\u001b[0m\u001b[1;33m)\u001b[0m\u001b[1;33m\u001b[0m\u001b[1;33m\u001b[0m\u001b[0m\n\u001b[0m\u001b[0;32m    186\u001b[0m \u001b[1;33m\u001b[0m\u001b[0m\n\u001b[0;32m    187\u001b[0m     \u001b[0mwrapper\u001b[0m\u001b[1;33m.\u001b[0m\u001b[0m__name__\u001b[0m \u001b[1;33m=\u001b[0m \u001b[1;34mf\"__{converter.__name__}__\"\u001b[0m\u001b[1;33m\u001b[0m\u001b[1;33m\u001b[0m\u001b[0m\n",
      "\u001b[1;31mTypeError\u001b[0m: cannot convert the series to <class 'float'>"
     ]
    }
   ],
   "source": [
    "reflacx_cxr_df[~reflacx_cxr_df['gender'].isnull()]['gender'].value_counts()"
   ]
  },
  {
   "cell_type": "code",
   "execution_count": 106,
   "metadata": {},
   "outputs": [
    {
     "data": {
      "text/plain": [
       "F    0.52\n",
       "M    0.48\n",
       "Name: gender, dtype: float64"
      ]
     },
     "execution_count": 106,
     "metadata": {},
     "output_type": "execute_result"
    }
   ],
   "source": [
    "reflacx_cxr_df[~reflacx_cxr_df['gender'].isnull()]['gender'].value_counts() / float(len(reflacx_cxr_df[~reflacx_cxr_df['gender'].isnull()]))"
   ]
  },
  {
   "cell_type": "code",
   "execution_count": 101,
   "metadata": {},
   "outputs": [
    {
     "data": {
      "text/plain": [
       "F    0.544776\n",
       "M    0.455224\n",
       "Name: gender, dtype: float64"
      ]
     },
     "execution_count": 101,
     "metadata": {},
     "output_type": "execute_result"
    }
   ],
   "source": [
    "reflacx_clinical_df['gender'].value_counts() / len(reflacx_clinical_df)"
   ]
  },
  {
   "cell_type": "code",
   "execution_count": 107,
   "metadata": {},
   "outputs": [
    {
     "data": {
      "text/plain": [
       "Index(['Unnamed: 0', 'index', 'id', 'dicom_id', 'subject_id', 'stay_id',\n",
       "       'study_id', 'image_path', 'ViewPosition', 'image_size_x',\n",
       "       'image_size_y', 'anomaly_location_ellipses_path', 'fixations_path',\n",
       "       'age', 'gender', 'temperature', 'heartrate', 'resprate', 'o2sat', 'sbp',\n",
       "       'dbp', 'pain', 'acuity', 'Airway wall thickening', 'Atelectasis',\n",
       "       'Consolidation', 'Enlarged cardiac silhouette', 'Fibrosis',\n",
       "       'Groundglass opacity', 'Other', 'Pneumothorax', 'Pulmonary edema',\n",
       "       'Quality issue', 'Support devices', 'Wide mediastinum',\n",
       "       'Abnormal mediastinal contour', 'Acute fracture', 'Enlarged hilum',\n",
       "       'Hiatal hernia', 'High lung volume / emphysema',\n",
       "       'Interstitial lung disease', 'Lung nodule or mass',\n",
       "       'Pleural abnormality', 'Fracture', 'split'],\n",
       "      dtype='object')"
      ]
     },
     "execution_count": 107,
     "metadata": {},
     "output_type": "execute_result"
    }
   ],
   "source": [
    "reflacx_clinical_df.columns"
   ]
  },
  {
   "cell_type": "code",
   "execution_count": 109,
   "metadata": {},
   "outputs": [
    {
     "name": "stderr",
     "output_type": "stream",
     "text": [
      "C:\\Users\\mike8\\AppData\\Local\\Temp/ipykernel_31600/3502816549.py:30: UserWarning: FixedFormatter should only be used together with FixedLocator\n",
      "  ax.set_yticklabels(map(int, list(ax.get_yticks())) , fontdict={\"size\": 13, \"family\": \"serif\"})\n"
     ]
    },
    {
     "data": {
      "text/plain": [
       "[Text(0, 95.5, '95'),\n",
       " Text(0, 96.0, '96'),\n",
       " Text(0, 96.5, '96'),\n",
       " Text(0, 97.0, '97'),\n",
       " Text(0, 97.5, '97'),\n",
       " Text(0, 98.0, '98'),\n",
       " Text(0, 98.5, '98'),\n",
       " Text(0, 99.0, '99'),\n",
       " Text(0, 99.5, '99'),\n",
       " Text(0, 100.0, '100'),\n",
       " Text(0, 100.5, '100')]"
      ]
     },
     "execution_count": 109,
     "metadata": {},
     "output_type": "execute_result"
    },
    {
     "data": {
      "image/png": "[encoded data removed]",
      "text/plain": [
       "<Figure size 360x504 with 1 Axes>"
      ]
     },
     "metadata": {
      "needs_background": "light"
     },
     "output_type": "display_data"
    }
   ],
   "source": [
    "age_dict = {\n",
    "    \"Clinial multimodal dataset\": list(reflacx_clinical_df['age']),\n",
    "}\n",
    "\n",
    "\n",
    "\n",
    "fig, ax = plt.subplots(figsize=(5, 7))\n",
    "\n",
    "ax.set_xlabel(\"Dataset\", fontdict={\"size\": 16, \"family\": \"serif\"}, labelpad=15)\n",
    "ax.set_ylabel(\n",
    "    \"Age\", fontdict={\"size\": 16, \"family\": \"serif\"}, labelpad=15,\n",
    ")\n",
    "\n",
    "ax.set_title(\n",
    "    \"Age distributions in datasets\",\n",
    "    fontdict={\"size\": 16, \"weight\": \"bold\", \"family\": \"serif\"},\n",
    "    pad=15,\n",
    ")\n",
    "\n",
    "\n",
    "ax.boxplot(reflacx_clinical_df['temperature'], showfliers=False)\n",
    "\n",
    "\n",
    "ax.set_xticklabels(ax.get_xticks(), fontdict={\n",
    "\"size\":13,\n",
    "'family': 'serif'\n",
    "})\n",
    "\n",
    "# ax.set_xticklabels(age_dict.keys())\n",
    "ax.set_yticklabels(map(int, list(ax.get_yticks())) , fontdict={\"size\": 13, \"family\": \"serif\"})\n",
    "\n",
    "\n"
   ]
  },
  {
   "cell_type": "code",
   "execution_count": null,
   "metadata": {},
   "outputs": [],
   "source": []
  }
 ],
 "metadata": {
  "kernelspec": {
   "display_name": "Python 3.9.7 ('pytorch')",
   "language": "python",
   "name": "python3"
  },
  "language_info": {
   "codemirror_mode": {
    "name": "ipython",
    "version": 3
   },
   "file_extension": ".py",
   "mimetype": "text/x-python",
   "name": "python",
   "nbconvert_exporter": "python",
   "pygments_lexer": "ipython3",
   "version": "3.9.7"
  },
  "orig_nbformat": 4,
  "vscode": {
   "interpreter": {
    "hash": "52a48fdedee40b77eb251917c5aa239bf02f1ab8c93cc13fe7347f570eadc6b9"
   }
  }
 },
 "nbformat": 4,
 "nbformat_minor": 2
}
