{
 "cells": [
  {
   "cell_type": "code",
   "execution_count": 1,
   "metadata": {},
   "outputs": [],
   "source": [
    "import pandas as pd\n",
    "import seaborn as sn\n",
    "import matplotlib.pyplot as plt\n",
    "plt.rcParams.update({'font.size': 40})"
   ]
  },
  {
   "cell_type": "code",
   "execution_count": 2,
   "metadata": {},
   "outputs": [],
   "source": [
    "from data.constants import XAMI_MIMIC_PATH, DEFAULT_REFLACX_LABEL_COLS, DEFAULT_MIMIC_CLINICAL_CAT_COLS, DEFAULT_MIMIC_CLINICAL_NUM_COLS"
   ]
  },
  {
   "cell_type": "code",
   "execution_count": 3,
   "metadata": {},
   "outputs": [
    {
     "data": {
      "text/plain": [
       "['Enlarged cardiac silhouette',\n",
       " 'Atelectasis',\n",
       " 'Pleural abnormality',\n",
       " 'Consolidation',\n",
       " 'Pulmonary edema']"
      ]
     },
     "execution_count": 3,
     "metadata": {},
     "output_type": "execute_result"
    }
   ],
   "source": [
    "DEFAULT_REFLACX_LABEL_COLS"
   ]
  },
  {
   "cell_type": "code",
   "execution_count": 4,
   "metadata": {},
   "outputs": [],
   "source": [
    "X = 0.1\n",
    "B = 0.5\n",
    "M = 0.9\n"
   ]
  },
  {
   "cell_type": "code",
   "execution_count": 5,
   "metadata": {},
   "outputs": [],
   "source": [
    "neccisity_df = pd.DataFrame(\n",
    "    {\n",
    "        \"age\":{\n",
    "            'Enlarged cardiac silhouette':X,\n",
    "            'Atelectasis':X,\n",
    "            'Pleural abnormality':X,\n",
    "            'Consolidation':X,\n",
    "            'Pulmonary edema':X,\n",
    "        },\n",
    "        \"temperature\":{\n",
    "            'Enlarged cardiac silhouette':X,\n",
    "            'Atelectasis':X,\n",
    "            'Pleural abnormality':M,\n",
    "            'Consolidation':M,\n",
    "            'Pulmonary edema':B,\n",
    "        },\n",
    "        \"heartrate\":{\n",
    "            'Enlarged cardiac silhouette':X,\n",
    "            'Atelectasis':X,\n",
    "            'Pleural abnormality':B,\n",
    "            'Consolidation':M,\n",
    "            'Pulmonary edema':M,\n",
    "        },\n",
    "        \"resprate\":{\n",
    "            'Enlarged cardiac silhouette':X,\n",
    "            'Atelectasis':X,\n",
    "            'Pleural abnormality':M,\n",
    "            'Consolidation':M,\n",
    "            'Pulmonary edema':M,\n",
    "        },\n",
    "        \"o2sat\":{\n",
    "            'Enlarged cardiac silhouette':X,\n",
    "            'Atelectasis':X,\n",
    "            'Pleural abnormality':M,\n",
    "            'Consolidation':M,\n",
    "            'Pulmonary edema':M,\n",
    "        },\n",
    "        \"sbp\":{\n",
    "            'Enlarged cardiac silhouette':X,\n",
    "            'Atelectasis':X,\n",
    "            'Pleural abnormality':B,\n",
    "            'Consolidation':B,\n",
    "            'Pulmonary edema':B,\n",
    "        },\n",
    "        \"dbp\":{\n",
    "            'Enlarged cardiac silhouette':X,\n",
    "            'Atelectasis':X,\n",
    "            'Pleural abnormality':B,\n",
    "            'Consolidation':B,\n",
    "            'Pulmonary edema':B,\n",
    "        },\n",
    "        \"pain\":{\n",
    "            'Enlarged cardiac silhouette':X,\n",
    "            'Atelectasis':X,\n",
    "            'Pleural abnormality':B,\n",
    "            'Consolidation':B,\n",
    "            'Pulmonary edema':B,\n",
    "        },\n",
    "        \"acuity\":{\n",
    "            'Enlarged cardiac silhouette':X,\n",
    "            'Atelectasis':X,\n",
    "            'Pleural abnormality':X,\n",
    "            'Consolidation':X,\n",
    "            'Pulmonary edema':X,\n",
    "        },\n",
    "        \"gender\":{\n",
    "            'Enlarged cardiac silhouette':X,\n",
    "            'Atelectasis':X,\n",
    "            'Pleural abnormality':X,\n",
    "            'Consolidation':X,\n",
    "            'Pulmonary edema':X,\n",
    "        },\n",
    "    },\n",
    ")\n",
    "\n",
    "\n",
    "# \"a\" => \"clinical features\"\n",
    "# \"1\" => \"Disease\""
   ]
  },
  {
   "cell_type": "code",
   "execution_count": 6,
   "metadata": {},
   "outputs": [
    {
     "data": {
      "text/plain": [
       "[]"
      ]
     },
     "execution_count": 6,
     "metadata": {},
     "output_type": "execute_result"
    },
    {
     "data": {
      "image/png": "[encoded data removed]",
      "text/plain": [
       "<Figure size 1200x240 with 1 Axes>"
      ]
     },
     "metadata": {
      "needs_background": "light"
     },
     "output_type": "display_data"
    }
   ],
   "source": [
    "plt.figure(figsize=(10, 2), dpi=120)\n",
    "plt.tick_params(axis='both', which='major', labelsize=10, labelbottom = False, bottom=False, top = False, labeltop=True)\n",
    "\n",
    "sn.heatmap(neccisity_df, annot=False,  cmap=sn.color_palette(\"Blues\", as_cmap=True), vmin=0, vmax=1, square=False, linewidths=1, cbar=False)\n",
    "\n",
    "plt.yticks(rotation=0) \n",
    "plt.plot()"
   ]
  },
  {
   "cell_type": "code",
   "execution_count": null,
   "metadata": {},
   "outputs": [],
   "source": []
  }
 ],
 "metadata": {
  "kernelspec": {
   "display_name": "Python 3.9.7 ('pytorch')",
   "language": "python",
   "name": "python3"
  },
  "language_info": {
   "codemirror_mode": {
    "name": "ipython",
    "version": 3
   },
   "file_extension": ".py",
   "mimetype": "text/x-python",
   "name": "python",
   "nbconvert_exporter": "python",
   "pygments_lexer": "ipython3",
   "version": "3.9.7"
  },
  "orig_nbformat": 4,
  "vscode": {
   "interpreter": {
    "hash": "52a48fdedee40b77eb251917c5aa239bf02f1ab8c93cc13fe7347f570eadc6b9"
   }
  }
 },
 "nbformat": 4,
 "nbformat_minor": 2
}
