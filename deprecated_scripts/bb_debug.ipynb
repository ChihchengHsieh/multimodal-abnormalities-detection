{
 "cells": [
  {
   "cell_type": "code",
   "execution_count": 1,
   "metadata": {},
   "outputs": [],
   "source": [
    "import gc\n",
    "import os \n",
    "import PIL\n",
    "import torch\n",
    "import pickle\n",
    "import pandas as pd\n",
    "\n",
    "import matplotlib.pyplot as plt\n",
    "\n",
    "from IPython.display import clear_output\n",
    "from matplotlib.patches import Rectangle\n",
    "from collections import OrderedDict\n",
    "from datetime import datetime\n",
    "\n",
    "import utils.print as print_f\n",
    "\n",
    "from utils.transforms import get_transform\n",
    "from utils.engine import xami_train_one_epoch, xami_evaluate\n",
    "from utils.engine import map_target_to_device\n",
    "from utils.save import  get_train_data\n",
    "from utils.plot import transparent_cmap, plot_result, plot_loss, get_legend_elements\n",
    "from data.dataset import ReflacxDataset, collate_fn\n",
    "\n",
    "\n",
    "## Suppress the assignement warning from pandas.\n",
    "pd.options.mode.chained_assignment = None  # default='warn'\n",
    "\n",
    "\n",
    "%matplotlib inline"
   ]
  },
  {
   "cell_type": "code",
   "execution_count": 11,
   "metadata": {},
   "outputs": [
    {
     "data": {
      "text/plain": [
       "<function torchvision.models.detection._utils.overwrite_eps(model, eps)>"
      ]
     },
     "execution_count": 11,
     "metadata": {},
     "output_type": "execute_result"
    }
   ],
   "source": [
    "import torchvision\n",
    "torchvision.models.detection._utils.overwrite_eps"
   ]
  },
  {
   "cell_type": "code",
   "execution_count": null,
   "metadata": {},
   "outputs": [],
   "source": []
  },
  {
   "cell_type": "code",
   "execution_count": 2,
   "metadata": {},
   "outputs": [],
   "source": [
    "# Clean up memory.\n",
    "gc.collect()\n",
    "torch.cuda.empty_cache()\n",
    "# torch.cuda.memory_summary(device=None, abbreviated=False)"
   ]
  },
  {
   "cell_type": "code",
   "execution_count": 3,
   "metadata": {},
   "outputs": [],
   "source": [
    "XAMI_MIMIC_PATH = \"D:\\XAMI-MIMIC\""
   ]
  },
  {
   "cell_type": "code",
   "execution_count": 4,
   "metadata": {},
   "outputs": [
    {
     "name": "stdout",
     "output_type": "stream",
     "text": [
      "This notebook will running on device: [cuda]\n"
     ]
    }
   ],
   "source": [
    "use_gpu = torch.cuda.is_available()\n",
    "device = 'cuda' if use_gpu else 'cpu'\n",
    "print(f\"This notebook will running on device: [{device}]\")"
   ]
  },
  {
   "cell_type": "code",
   "execution_count": 5,
   "metadata": {},
   "outputs": [],
   "source": [
    "disease_cmap = {\n",
    "    \"transparent\": {\n",
    "        \"Enlarged cardiac silhouette\": transparent_cmap(plt.cm.autumn),\n",
    "        \"Atelectasis\": transparent_cmap(plt.cm.Reds),\n",
    "        \"Pleural abnormality\": transparent_cmap(plt.cm.Oranges),\n",
    "        \"Consolidation\": transparent_cmap(plt.cm.Greens),\n",
    "        \"Pulmonary edema\": transparent_cmap(plt.cm.Blues),\n",
    "    },\n",
    "    \"solid\": {\n",
    "        \"Enlarged cardiac silhouette\": \"yellow\",\n",
    "        \"Atelectasis\": \"red\",\n",
    "        \"Pleural abnormality\": \"orange\",\n",
    "        \"Consolidation\": \"lightgreen\",\n",
    "        \"Pulmonary edema\": \"dodgerblue\",\n",
    "    },\n",
    "}\n",
    "\n",
    "legend_elements = get_legend_elements(disease_cmap[\"solid\"])"
   ]
  },
  {
   "cell_type": "code",
   "execution_count": 6,
   "metadata": {},
   "outputs": [],
   "source": [
    "labels_cols = [\n",
    "    \"Enlarged cardiac silhouette\",\n",
    "    \"Atelectasis\",\n",
    "    \"Pleural abnormality\",\n",
    "    \"Consolidation\",\n",
    "    \"Pulmonary edema\",\n",
    "    #  'Groundglass opacity', # 6th disease.\n",
    "]"
   ]
  },
  {
   "cell_type": "code",
   "execution_count": 12,
   "metadata": {},
   "outputs": [],
   "source": [
    "a = [2,3,4,5]"
   ]
  },
  {
   "cell_type": "code",
   "execution_count": 13,
   "metadata": {},
   "outputs": [
    {
     "data": {
      "text/plain": [
       "[2, 3, 4]"
      ]
     },
     "execution_count": 13,
     "metadata": {},
     "output_type": "execute_result"
    }
   ],
   "source": [
    "a[:-1]"
   ]
  },
  {
   "cell_type": "code",
   "execution_count": 7,
   "metadata": {},
   "outputs": [],
   "source": [
    "detect_eval_params = {\n",
    "    \"XAMI_MIMIC_PATH\": XAMI_MIMIC_PATH,\n",
    "    \"with_clinical\":False,\n",
    "    \"dataset_mode\": \"unified\",\n",
    "    \"bbox_to_mask\":True,\n",
    "    \"labels_cols\":labels_cols,\n",
    "}\n",
    "\n",
    "detect_eval_dataset = ReflacxDataset(\n",
    "    **detect_eval_params,\n",
    "    split_str=\"train\",\n",
    "    transforms=get_transform(train=True),\n",
    ")"
   ]
  },
  {
   "cell_type": "code",
   "execution_count": 10,
   "metadata": {},
   "outputs": [
    {
     "name": "stdout",
     "output_type": "stream",
     "text": [
      "cp1\n",
      "tensor([[ 734., 1204., 2211., 2175.]], dtype=torch.float64)\n",
      "cp2\n",
      "tensor([[ 734., 1204., 2211., 2175.]], dtype=torch.float64)\n",
      "cp3\n",
      "tensor([[ 734., 1204., 2211., 2175.]], dtype=torch.float64)\n",
      "cp4\n",
      "tensor([[ 734., 1204., 2211., 2175.]], dtype=torch.float64)\n",
      "cp5\n",
      "tensor([[ 734., 1204., 2211., 2175.]], dtype=torch.float64)\n"
     ]
    }
   ],
   "source": [
    "image, target = detect_eval_dataset[0]\n"
   ]
  },
  {
   "cell_type": "code",
   "execution_count": null,
   "metadata": {},
   "outputs": [],
   "source": [
    "from utils.transforms import RandomHorizontalFlip\n",
    "\n",
    "flip = RandomHorizontalFlip()"
   ]
  },
  {
   "cell_type": "code",
   "execution_count": 9,
   "metadata": {},
   "outputs": [
    {
     "data": {
      "text/plain": [
       "{'boxes': tensor([[ 333., 1204., 1810., 2175.]], dtype=torch.float64),\n",
       " 'labels': tensor([1]),\n",
       " 'image_id': tensor([0]),\n",
       " 'area': tensor([1434167.], dtype=torch.float64),\n",
       " 'iscrowd': tensor([0]),\n",
       " 'dicom_id': '34cedb74-d0996b40-6d218312-a9174bea-d48dc033',\n",
       " 'image_path': 'D:\\\\XAMI-MIMIC\\\\patient_18111516\\\\CXR-JPG\\\\s55032240\\\\34cedb74-d0996b40-6d218312-a9174bea-d48dc033.jpg',\n",
       " 'masks': tensor([[[0, 0, 0,  ..., 0, 0, 0],\n",
       "          [0, 0, 0,  ..., 0, 0, 0],\n",
       "          [0, 0, 0,  ..., 0, 0, 0],\n",
       "          ...,\n",
       "          [0, 0, 0,  ..., 0, 0, 0],\n",
       "          [0, 0, 0,  ..., 0, 0, 0],\n",
       "          [0, 0, 0,  ..., 0, 0, 0]]], dtype=torch.uint8)}"
      ]
     },
     "execution_count": 9,
     "metadata": {},
     "output_type": "execute_result"
    }
   ],
   "source": []
  },
  {
   "cell_type": "code",
   "execution_count": null,
   "metadata": {},
   "outputs": [],
   "source": []
  }
 ],
 "metadata": {
  "interpreter": {
   "hash": "7a402e4e4296f2d4bed1c089fb7c7e828933dcbfe50698b381e393c052eea855"
  },
  "kernelspec": {
   "display_name": "Python 3.9.7 ('pytorch')",
   "language": "python",
   "name": "python3"
  },
  "language_info": {
   "codemirror_mode": {
    "name": "ipython",
    "version": 3
   },
   "file_extension": ".py",
   "mimetype": "text/x-python",
   "name": "python",
   "nbconvert_exporter": "python",
   "pygments_lexer": "ipython3",
   "version": "3.9.7"
  },
  "orig_nbformat": 4
 },
 "nbformat": 4,
 "nbformat_minor": 2
}
