{
 "cells": [
  {
   "cell_type": "code",
   "execution_count": 1,
   "metadata": {},
   "outputs": [],
   "source": [
    "import os, json\n",
    "import pandas as pd\n",
    "\n",
    "from data.paths import TabularDataPaths\n",
    "from utils import print as print_f\n",
    "from utils.preprocessing import get_split_list\n",
    "from data.constants import XAMI_MIMIC_PATH, SPREADSHEET_FOLDER\n",
    "from utils.init import reproducibility"
   ]
  },
  {
   "cell_type": "code",
   "execution_count": 2,
   "metadata": {},
   "outputs": [],
   "source": [
    "# load reflacx dataset to see the original data distribution"
   ]
  },
  {
   "cell_type": "code",
   "execution_count": 14,
   "metadata": {},
   "outputs": [],
   "source": [
    "seed = 0\n",
    "reproducibility(0)\n",
    "XAMI_MIMIC_PATH_str = \"{XAMI_MIMIC_PATH}\""
   ]
  },
  {
   "cell_type": "code",
   "execution_count": 15,
   "metadata": {},
   "outputs": [
    {
     "data": {
      "text/html": [
       "<div>\n",
       "<style scoped>\n",
       "    .dataframe tbody tr th:only-of-type {\n",
       "        vertical-align: middle;\n",
       "    }\n",
       "\n",
       "    .dataframe tbody tr th {\n",
       "        vertical-align: top;\n",
       "    }\n",
       "\n",
       "    .dataframe thead th {\n",
       "        text-align: right;\n",
       "    }\n",
       "</style>\n",
       "<table border=\"1\" class=\"dataframe\">\n",
       "  <thead>\n",
       "    <tr style=\"text-align: right;\">\n",
       "      <th></th>\n",
       "      <th>Unnamed: 0</th>\n",
       "      <th>id</th>\n",
       "      <th>split</th>\n",
       "      <th>eye_tracking_data_discarded</th>\n",
       "      <th>image</th>\n",
       "      <th>dicom_id</th>\n",
       "      <th>subject_id</th>\n",
       "      <th>image_size_x</th>\n",
       "      <th>image_size_y</th>\n",
       "      <th>Airway wall thickening</th>\n",
       "      <th>...</th>\n",
       "      <th>Support devices</th>\n",
       "      <th>Wide mediastinum</th>\n",
       "      <th>Abnormal mediastinal contour</th>\n",
       "      <th>Acute fracture</th>\n",
       "      <th>Enlarged hilum</th>\n",
       "      <th>Hiatal hernia</th>\n",
       "      <th>High lung volume / emphysema</th>\n",
       "      <th>Interstitial lung disease</th>\n",
       "      <th>Lung nodule or mass</th>\n",
       "      <th>Pleural abnormality</th>\n",
       "    </tr>\n",
       "  </thead>\n",
       "  <tbody>\n",
       "    <tr>\n",
       "      <th>0</th>\n",
       "      <td>0</td>\n",
       "      <td>P102R108387</td>\n",
       "      <td>train</td>\n",
       "      <td>False</td>\n",
       "      <td>physionet.org/files/mimic-cxr/2.0.0/files/p18/...</td>\n",
       "      <td>34cedb74-d0996b40-6d218312-a9174bea-d48dc033</td>\n",
       "      <td>18111516</td>\n",
       "      <td>2544</td>\n",
       "      <td>3056</td>\n",
       "      <td>0.0</td>\n",
       "      <td>...</td>\n",
       "      <td>True</td>\n",
       "      <td>0.0</td>\n",
       "      <td>NaN</td>\n",
       "      <td>NaN</td>\n",
       "      <td>NaN</td>\n",
       "      <td>NaN</td>\n",
       "      <td>NaN</td>\n",
       "      <td>NaN</td>\n",
       "      <td>NaN</td>\n",
       "      <td>NaN</td>\n",
       "    </tr>\n",
       "    <tr>\n",
       "      <th>1</th>\n",
       "      <td>1</td>\n",
       "      <td>P102R379837</td>\n",
       "      <td>train</td>\n",
       "      <td>False</td>\n",
       "      <td>physionet.org/files/mimic-cxr/2.0.0/files/p18/...</td>\n",
       "      <td>34cedb74-d0996b40-6d218312-a9174bea-d48dc033</td>\n",
       "      <td>18111516</td>\n",
       "      <td>2544</td>\n",
       "      <td>3056</td>\n",
       "      <td>0.0</td>\n",
       "      <td>...</td>\n",
       "      <td>True</td>\n",
       "      <td>0.0</td>\n",
       "      <td>NaN</td>\n",
       "      <td>NaN</td>\n",
       "      <td>NaN</td>\n",
       "      <td>NaN</td>\n",
       "      <td>NaN</td>\n",
       "      <td>NaN</td>\n",
       "      <td>NaN</td>\n",
       "      <td>NaN</td>\n",
       "    </tr>\n",
       "    <tr>\n",
       "      <th>2</th>\n",
       "      <td>2</td>\n",
       "      <td>P102R558314</td>\n",
       "      <td>train</td>\n",
       "      <td>False</td>\n",
       "      <td>physionet.org/files/mimic-cxr/2.0.0/files/p18/...</td>\n",
       "      <td>34cedb74-d0996b40-6d218312-a9174bea-d48dc033</td>\n",
       "      <td>18111516</td>\n",
       "      <td>2544</td>\n",
       "      <td>3056</td>\n",
       "      <td>4.0</td>\n",
       "      <td>...</td>\n",
       "      <td>True</td>\n",
       "      <td>0.0</td>\n",
       "      <td>NaN</td>\n",
       "      <td>NaN</td>\n",
       "      <td>NaN</td>\n",
       "      <td>NaN</td>\n",
       "      <td>NaN</td>\n",
       "      <td>NaN</td>\n",
       "      <td>NaN</td>\n",
       "      <td>NaN</td>\n",
       "    </tr>\n",
       "    <tr>\n",
       "      <th>3</th>\n",
       "      <td>3</td>\n",
       "      <td>P102R765317</td>\n",
       "      <td>train</td>\n",
       "      <td>False</td>\n",
       "      <td>physionet.org/files/mimic-cxr/2.0.0/files/p18/...</td>\n",
       "      <td>34cedb74-d0996b40-6d218312-a9174bea-d48dc033</td>\n",
       "      <td>18111516</td>\n",
       "      <td>2544</td>\n",
       "      <td>3056</td>\n",
       "      <td>0.0</td>\n",
       "      <td>...</td>\n",
       "      <td>True</td>\n",
       "      <td>2.0</td>\n",
       "      <td>NaN</td>\n",
       "      <td>NaN</td>\n",
       "      <td>NaN</td>\n",
       "      <td>NaN</td>\n",
       "      <td>NaN</td>\n",
       "      <td>NaN</td>\n",
       "      <td>NaN</td>\n",
       "      <td>NaN</td>\n",
       "    </tr>\n",
       "    <tr>\n",
       "      <th>4</th>\n",
       "      <td>4</td>\n",
       "      <td>P102R915878</td>\n",
       "      <td>train</td>\n",
       "      <td>False</td>\n",
       "      <td>physionet.org/files/mimic-cxr/2.0.0/files/p18/...</td>\n",
       "      <td>34cedb74-d0996b40-6d218312-a9174bea-d48dc033</td>\n",
       "      <td>18111516</td>\n",
       "      <td>2544</td>\n",
       "      <td>3056</td>\n",
       "      <td>0.0</td>\n",
       "      <td>...</td>\n",
       "      <td>True</td>\n",
       "      <td>0.0</td>\n",
       "      <td>NaN</td>\n",
       "      <td>NaN</td>\n",
       "      <td>NaN</td>\n",
       "      <td>NaN</td>\n",
       "      <td>NaN</td>\n",
       "      <td>NaN</td>\n",
       "      <td>NaN</td>\n",
       "      <td>NaN</td>\n",
       "    </tr>\n",
       "  </tbody>\n",
       "</table>\n",
       "<p>5 rows × 35 columns</p>\n",
       "</div>"
      ],
      "text/plain": [
       "   Unnamed: 0           id  split  eye_tracking_data_discarded  \\\n",
       "0           0  P102R108387  train                        False   \n",
       "1           1  P102R379837  train                        False   \n",
       "2           2  P102R558314  train                        False   \n",
       "3           3  P102R765317  train                        False   \n",
       "4           4  P102R915878  train                        False   \n",
       "\n",
       "                                               image  \\\n",
       "0  physionet.org/files/mimic-cxr/2.0.0/files/p18/...   \n",
       "1  physionet.org/files/mimic-cxr/2.0.0/files/p18/...   \n",
       "2  physionet.org/files/mimic-cxr/2.0.0/files/p18/...   \n",
       "3  physionet.org/files/mimic-cxr/2.0.0/files/p18/...   \n",
       "4  physionet.org/files/mimic-cxr/2.0.0/files/p18/...   \n",
       "\n",
       "                                       dicom_id  subject_id  image_size_x  \\\n",
       "0  34cedb74-d0996b40-6d218312-a9174bea-d48dc033    18111516          2544   \n",
       "1  34cedb74-d0996b40-6d218312-a9174bea-d48dc033    18111516          2544   \n",
       "2  34cedb74-d0996b40-6d218312-a9174bea-d48dc033    18111516          2544   \n",
       "3  34cedb74-d0996b40-6d218312-a9174bea-d48dc033    18111516          2544   \n",
       "4  34cedb74-d0996b40-6d218312-a9174bea-d48dc033    18111516          2544   \n",
       "\n",
       "   image_size_y  Airway wall thickening  ...  Support devices  \\\n",
       "0          3056                     0.0  ...             True   \n",
       "1          3056                     0.0  ...             True   \n",
       "2          3056                     4.0  ...             True   \n",
       "3          3056                     0.0  ...             True   \n",
       "4          3056                     0.0  ...             True   \n",
       "\n",
       "   Wide mediastinum  Abnormal mediastinal contour  Acute fracture  \\\n",
       "0               0.0                           NaN             NaN   \n",
       "1               0.0                           NaN             NaN   \n",
       "2               0.0                           NaN             NaN   \n",
       "3               2.0                           NaN             NaN   \n",
       "4               0.0                           NaN             NaN   \n",
       "\n",
       "   Enlarged hilum  Hiatal hernia  High lung volume / emphysema  \\\n",
       "0             NaN            NaN                           NaN   \n",
       "1             NaN            NaN                           NaN   \n",
       "2             NaN            NaN                           NaN   \n",
       "3             NaN            NaN                           NaN   \n",
       "4             NaN            NaN                           NaN   \n",
       "\n",
       "   Interstitial lung disease  Lung nodule or mass Pleural abnormality  \n",
       "0                        NaN                  NaN                 NaN  \n",
       "1                        NaN                  NaN                 NaN  \n",
       "2                        NaN                  NaN                 NaN  \n",
       "3                        NaN                  NaN                 NaN  \n",
       "4                        NaN                  NaN                 NaN  \n",
       "\n",
       "[5 rows x 35 columns]"
      ]
     },
     "execution_count": 15,
     "metadata": {},
     "output_type": "execute_result"
    }
   ],
   "source": [
    "reflacx_meta_df = pd.read_csv(\n",
    "    TabularDataPaths.SpreadSheet.get_sreadsheet(\n",
    "        XAMI_MIMIC_PATH, TabularDataPaths.SpreadSheet.REFLACX.metadata,\n",
    "    )\n",
    ")\n",
    "reflacx_meta_df.head(5)\n"
   ]
  },
  {
   "cell_type": "code",
   "execution_count": 16,
   "metadata": {},
   "outputs": [],
   "source": [
    "labels_cols = [\n",
    "    \"Airway wall thickening\",\n",
    "    \"Atelectasis\",\n",
    "    \"Consolidation\",\n",
    "    \"Enlarged cardiac silhouette\",\n",
    "    \"Fibrosis\",\n",
    "    \"Fracture\",\n",
    "    \"Groundglass opacity\",\n",
    "    \"Pneumothorax\",\n",
    "    \"Pulmonary edema\",\n",
    "    \"Wide mediastinum\",\n",
    "    \"Abnormal mediastinal contour\",\n",
    "    \"Acute fracture\",\n",
    "    \"Enlarged hilum\",\n",
    "    \"Quality issue\",\n",
    "    \"Support devices\",\n",
    "    \"Hiatal hernia\",\n",
    "    \"High lung volume / emphysema\",\n",
    "    \"Interstitial lung disease\",\n",
    "    \"Lung nodule or mass\",\n",
    "    \"Pleural abnormality\",\n",
    "]\n",
    "\n",
    "\n",
    "## inlcude the repetitive columns.\n",
    "all_disease_cols = [\n",
    "    \"Airway wall thickening\",\n",
    "    \"Atelectasis\",\n",
    "    \"Consolidation\",\n",
    "    \"Emphysema\",\n",
    "    \"Enlarged cardiac silhouette\",\n",
    "    \"Fibrosis\",\n",
    "    \"Fracture\",\n",
    "    \"Groundglass opacity\",\n",
    "    \"Mass\",\n",
    "    \"Nodule\",\n",
    "    \"Other\",\n",
    "    \"Pleural effusion\",\n",
    "    \"Pleural thickening\",\n",
    "    \"Pneumothorax\",\n",
    "    \"Pulmonary edema\",\n",
    "    \"Wide mediastinum\",\n",
    "    \"Abnormal mediastinal contour\",\n",
    "    \"Acute fracture\",\n",
    "    \"Enlarged hilum\",\n",
    "    \"Hiatal hernia\",\n",
    "    \"High lung volume / emphysema\",\n",
    "    \"Interstitial lung disease\",\n",
    "    \"Lung nodule or mass\",\n",
    "    \"Pleural abnormality\",\n",
    "]\n"
   ]
  },
  {
   "cell_type": "code",
   "execution_count": 17,
   "metadata": {},
   "outputs": [],
   "source": [
    "def checkMissingValue(df):\n",
    "    print(\n",
    "        [\n",
    "            (col, sum(df[col].isna()))\n",
    "            for col in df.columns\n",
    "            if df[col].isna().any()\n",
    "        ]\n",
    "    )"
   ]
  },
  {
   "cell_type": "code",
   "execution_count": 18,
   "metadata": {},
   "outputs": [
    {
     "name": "stdout",
     "output_type": "stream",
     "text": [
      "====================Columns have NaN value in REFLACX metadata====================\n",
      "[('Airway wall thickening', 2757), ('Emphysema', 2757), ('Fibrosis', 2757), ('Fracture', 2757), ('Mass', 2757), ('Nodule', 2757), ('Other', 2839), ('Pleural effusion', 2757), ('Pleural thickening', 2757), ('Quality issue', 2757), ('Wide mediastinum', 2757), ('Abnormal mediastinal contour', 295), ('Acute fracture', 295), ('Enlarged hilum', 295), ('Hiatal hernia', 295), ('High lung volume / emphysema', 295), ('Interstitial lung disease', 295), ('Lung nodule or mass', 295), ('Pleural abnormality', 295)]\n"
     ]
    }
   ],
   "source": [
    "# Checking the columns that contian nan values.\n",
    "print_f.print_title(\"Columns have NaN value in REFLACX metadata\")\n",
    "checkMissingValue(reflacx_meta_df)"
   ]
  },
  {
   "cell_type": "code",
   "execution_count": 19,
   "metadata": {},
   "outputs": [],
   "source": [
    "# Filling nan for numerical cols.\n",
    "reflacx_meta_df[all_disease_cols] = reflacx_meta_df[all_disease_cols].fillna(0)\n",
    "\n",
    "# Folling nan for boolean cols.\n",
    "reflacx_meta_df[[\"Quality issue\", \"Support devices\"]] = reflacx_meta_df[\n",
    "    [\"Quality issue\", \"Support devices\"]\n",
    "].fillna(False)\n",
    "\n"
   ]
  },
  {
   "cell_type": "code",
   "execution_count": 20,
   "metadata": {},
   "outputs": [
    {
     "name": "stdout",
     "output_type": "stream",
     "text": [
      "====================Columns have missing value in REFLACX metadata.====================\n",
      "[]\n"
     ]
    }
   ],
   "source": [
    "print_f.print_title(\"Columns have missing value in REFLACX metadata.\")\n",
    "\n",
    "checkMissingValue(reflacx_meta_df)\n"
   ]
  },
  {
   "cell_type": "code",
   "execution_count": 21,
   "metadata": {},
   "outputs": [],
   "source": [
    "reflacx_meta_df[\"Lung nodule or mass\"] = reflacx_meta_df[\n",
    "    [\"Lung nodule or mass\", \"Mass\", \"Nodule\"]\n",
    "].max(axis=1)\n",
    "del reflacx_meta_df[\"Mass\"]\n",
    "del reflacx_meta_df[\"Nodule\"]\n",
    "\n",
    "reflacx_meta_df[\"High lung volume / emphysema\"] = reflacx_meta_df[\n",
    "    [\"High lung volume / emphysema\", \"Emphysema\"]\n",
    "].max(axis=1)\n",
    "del reflacx_meta_df[\"Emphysema\"]\n",
    "\n",
    "\n",
    "reflacx_meta_df[\"Pleural abnormality\"] = reflacx_meta_df[\n",
    "    [\"Pleural abnormality\", \"Pleural thickening\", \"Pleural effusion\"]\n",
    "].max(axis=1)\n",
    "del reflacx_meta_df[\"Pleural thickening\"]\n",
    "del reflacx_meta_df[\"Pleural effusion\"]\n",
    "\n"
   ]
  },
  {
   "cell_type": "code",
   "execution_count": 22,
   "metadata": {},
   "outputs": [],
   "source": [
    "from collections import OrderedDict\n",
    "\n",
    "count_map = dict((reflacx_meta_df[labels_cols] >0 ).sum(axis=0))\n",
    "counting_map = OrderedDict({k: v for k, v in sorted(count_map.items(), key=lambda item: item[1])})"
   ]
  },
  {
   "cell_type": "code",
   "execution_count": 23,
   "metadata": {},
   "outputs": [],
   "source": [
    "from data.constants import DEFAULT_REFLACX_LABEL_COLS\n",
    "\n",
    "label_counts = {}\n",
    "for col in DEFAULT_REFLACX_LABEL_COLS:\n",
    "    label_counts[col] = counting_map[col]\n"
   ]
  },
  {
   "cell_type": "code",
   "execution_count": 24,
   "metadata": {},
   "outputs": [
    {
     "data": {
      "text/plain": [
       "{'Enlarged cardiac silhouette': 716,\n",
       " 'Atelectasis': 845,\n",
       " 'Pleural abnormality': 936,\n",
       " 'Consolidation': 818,\n",
       " 'Pulmonary edema': 428}"
      ]
     },
     "execution_count": 24,
     "metadata": {},
     "output_type": "execute_result"
    }
   ],
   "source": [
    "label_counts"
   ]
  },
  {
   "cell_type": "code",
   "execution_count": 25,
   "metadata": {},
   "outputs": [],
   "source": [
    "import matplotlib.pyplot as plt"
   ]
  },
  {
   "cell_type": "code",
   "execution_count": 35,
   "metadata": {},
   "outputs": [
    {
     "data": {
      "text/plain": [
       "<BarContainer object of 5 artists>"
      ]
     },
     "execution_count": 35,
     "metadata": {},
     "output_type": "execute_result"
    },
    {
     "data": {
      "image/png": "[encoded data removed]",
      "text/plain": [
       "<Figure size 432x288 with 1 Axes>"
      ]
     },
     "metadata": {
      "needs_background": "light"
     },
     "output_type": "display_data"
    }
   ],
   "source": [
    "plt.rcParams.update({'font.size': 20})\n",
    "fig = plt.figure()\n",
    "keys_list = list(reversed(list(label_counts.keys())))\n",
    "plt.barh(keys_list, [ label_counts[k] for k in keys_list])"
   ]
  },
  {
   "cell_type": "code",
   "execution_count": 37,
   "metadata": {},
   "outputs": [
    {
     "data": {
      "text/plain": [
       "<list_reverseiterator at 0x1c606d9dfa0>"
      ]
     },
     "execution_count": 37,
     "metadata": {},
     "output_type": "execute_result"
    }
   ],
   "source": [
    "reversed(list(label_counts.keys()))"
   ]
  },
  {
   "cell_type": "code",
   "execution_count": 38,
   "metadata": {},
   "outputs": [],
   "source": [
    "preprocessed_df = pd.read_csv(os.path.join(SPREADSHEET_FOLDER, \"reflacx_with_clinical.csv\"))"
   ]
  },
  {
   "cell_type": "code",
   "execution_count": 39,
   "metadata": {},
   "outputs": [
    {
     "data": {
      "text/html": [
       "<div>\n",
       "<style scoped>\n",
       "    .dataframe tbody tr th:only-of-type {\n",
       "        vertical-align: middle;\n",
       "    }\n",
       "\n",
       "    .dataframe tbody tr th {\n",
       "        vertical-align: top;\n",
       "    }\n",
       "\n",
       "    .dataframe thead th {\n",
       "        text-align: right;\n",
       "    }\n",
       "</style>\n",
       "<table border=\"1\" class=\"dataframe\">\n",
       "  <thead>\n",
       "    <tr style=\"text-align: right;\">\n",
       "      <th></th>\n",
       "      <th>Unnamed: 0</th>\n",
       "      <th>index</th>\n",
       "      <th>id</th>\n",
       "      <th>dicom_id</th>\n",
       "      <th>subject_id</th>\n",
       "      <th>stay_id</th>\n",
       "      <th>study_id</th>\n",
       "      <th>image_path</th>\n",
       "      <th>ViewPosition</th>\n",
       "      <th>image_size_x</th>\n",
       "      <th>...</th>\n",
       "      <th>Abnormal mediastinal contour</th>\n",
       "      <th>Acute fracture</th>\n",
       "      <th>Enlarged hilum</th>\n",
       "      <th>Hiatal hernia</th>\n",
       "      <th>High lung volume / emphysema</th>\n",
       "      <th>Interstitial lung disease</th>\n",
       "      <th>Lung nodule or mass</th>\n",
       "      <th>Pleural abnormality</th>\n",
       "      <th>Fracture</th>\n",
       "      <th>split</th>\n",
       "    </tr>\n",
       "  </thead>\n",
       "  <tbody>\n",
       "    <tr>\n",
       "      <th>0</th>\n",
       "      <td>0</td>\n",
       "      <td>0</td>\n",
       "      <td>P102R108387</td>\n",
       "      <td>34cedb74-d0996b40-6d218312-a9174bea-d48dc033</td>\n",
       "      <td>18111516</td>\n",
       "      <td>32067002</td>\n",
       "      <td>55032240</td>\n",
       "      <td>{XAMI_MIMIC_PATH}\\patient_18111516\\CXR-JPG\\s55...</td>\n",
       "      <td>AP</td>\n",
       "      <td>2544</td>\n",
       "      <td>...</td>\n",
       "      <td>0.0</td>\n",
       "      <td>0.0</td>\n",
       "      <td>0.0</td>\n",
       "      <td>0.0</td>\n",
       "      <td>0.0</td>\n",
       "      <td>0.0</td>\n",
       "      <td>0.0</td>\n",
       "      <td>0.0</td>\n",
       "      <td>0.0</td>\n",
       "      <td>train</td>\n",
       "    </tr>\n",
       "    <tr>\n",
       "      <th>1</th>\n",
       "      <td>1</td>\n",
       "      <td>1</td>\n",
       "      <td>P102R379837</td>\n",
       "      <td>34cedb74-d0996b40-6d218312-a9174bea-d48dc033</td>\n",
       "      <td>18111516</td>\n",
       "      <td>32067002</td>\n",
       "      <td>55032240</td>\n",
       "      <td>{XAMI_MIMIC_PATH}\\patient_18111516\\CXR-JPG\\s55...</td>\n",
       "      <td>AP</td>\n",
       "      <td>2544</td>\n",
       "      <td>...</td>\n",
       "      <td>0.0</td>\n",
       "      <td>0.0</td>\n",
       "      <td>0.0</td>\n",
       "      <td>0.0</td>\n",
       "      <td>0.0</td>\n",
       "      <td>0.0</td>\n",
       "      <td>0.0</td>\n",
       "      <td>0.0</td>\n",
       "      <td>0.0</td>\n",
       "      <td>val</td>\n",
       "    </tr>\n",
       "    <tr>\n",
       "      <th>2</th>\n",
       "      <td>2</td>\n",
       "      <td>2</td>\n",
       "      <td>P102R558314</td>\n",
       "      <td>34cedb74-d0996b40-6d218312-a9174bea-d48dc033</td>\n",
       "      <td>18111516</td>\n",
       "      <td>32067002</td>\n",
       "      <td>55032240</td>\n",
       "      <td>{XAMI_MIMIC_PATH}\\patient_18111516\\CXR-JPG\\s55...</td>\n",
       "      <td>AP</td>\n",
       "      <td>2544</td>\n",
       "      <td>...</td>\n",
       "      <td>0.0</td>\n",
       "      <td>0.0</td>\n",
       "      <td>0.0</td>\n",
       "      <td>0.0</td>\n",
       "      <td>0.0</td>\n",
       "      <td>0.0</td>\n",
       "      <td>0.0</td>\n",
       "      <td>0.0</td>\n",
       "      <td>0.0</td>\n",
       "      <td>train</td>\n",
       "    </tr>\n",
       "    <tr>\n",
       "      <th>3</th>\n",
       "      <td>3</td>\n",
       "      <td>3</td>\n",
       "      <td>P102R765317</td>\n",
       "      <td>34cedb74-d0996b40-6d218312-a9174bea-d48dc033</td>\n",
       "      <td>18111516</td>\n",
       "      <td>32067002</td>\n",
       "      <td>55032240</td>\n",
       "      <td>{XAMI_MIMIC_PATH}\\patient_18111516\\CXR-JPG\\s55...</td>\n",
       "      <td>AP</td>\n",
       "      <td>2544</td>\n",
       "      <td>...</td>\n",
       "      <td>0.0</td>\n",
       "      <td>0.0</td>\n",
       "      <td>0.0</td>\n",
       "      <td>0.0</td>\n",
       "      <td>0.0</td>\n",
       "      <td>0.0</td>\n",
       "      <td>1.0</td>\n",
       "      <td>0.0</td>\n",
       "      <td>0.0</td>\n",
       "      <td>train</td>\n",
       "    </tr>\n",
       "    <tr>\n",
       "      <th>4</th>\n",
       "      <td>4</td>\n",
       "      <td>4</td>\n",
       "      <td>P102R915878</td>\n",
       "      <td>34cedb74-d0996b40-6d218312-a9174bea-d48dc033</td>\n",
       "      <td>18111516</td>\n",
       "      <td>32067002</td>\n",
       "      <td>55032240</td>\n",
       "      <td>{XAMI_MIMIC_PATH}\\patient_18111516\\CXR-JPG\\s55...</td>\n",
       "      <td>AP</td>\n",
       "      <td>2544</td>\n",
       "      <td>...</td>\n",
       "      <td>0.0</td>\n",
       "      <td>0.0</td>\n",
       "      <td>0.0</td>\n",
       "      <td>0.0</td>\n",
       "      <td>0.0</td>\n",
       "      <td>0.0</td>\n",
       "      <td>0.0</td>\n",
       "      <td>0.0</td>\n",
       "      <td>0.0</td>\n",
       "      <td>train</td>\n",
       "    </tr>\n",
       "  </tbody>\n",
       "</table>\n",
       "<p>5 rows × 44 columns</p>\n",
       "</div>"
      ],
      "text/plain": [
       "   Unnamed: 0  index           id  \\\n",
       "0           0      0  P102R108387   \n",
       "1           1      1  P102R379837   \n",
       "2           2      2  P102R558314   \n",
       "3           3      3  P102R765317   \n",
       "4           4      4  P102R915878   \n",
       "\n",
       "                                       dicom_id  subject_id   stay_id  \\\n",
       "0  34cedb74-d0996b40-6d218312-a9174bea-d48dc033    18111516  32067002   \n",
       "1  34cedb74-d0996b40-6d218312-a9174bea-d48dc033    18111516  32067002   \n",
       "2  34cedb74-d0996b40-6d218312-a9174bea-d48dc033    18111516  32067002   \n",
       "3  34cedb74-d0996b40-6d218312-a9174bea-d48dc033    18111516  32067002   \n",
       "4  34cedb74-d0996b40-6d218312-a9174bea-d48dc033    18111516  32067002   \n",
       "\n",
       "   study_id                                         image_path ViewPosition  \\\n",
       "0  55032240  {XAMI_MIMIC_PATH}\\patient_18111516\\CXR-JPG\\s55...           AP   \n",
       "1  55032240  {XAMI_MIMIC_PATH}\\patient_18111516\\CXR-JPG\\s55...           AP   \n",
       "2  55032240  {XAMI_MIMIC_PATH}\\patient_18111516\\CXR-JPG\\s55...           AP   \n",
       "3  55032240  {XAMI_MIMIC_PATH}\\patient_18111516\\CXR-JPG\\s55...           AP   \n",
       "4  55032240  {XAMI_MIMIC_PATH}\\patient_18111516\\CXR-JPG\\s55...           AP   \n",
       "\n",
       "   image_size_x  ...  Abnormal mediastinal contour Acute fracture  \\\n",
       "0          2544  ...                           0.0            0.0   \n",
       "1          2544  ...                           0.0            0.0   \n",
       "2          2544  ...                           0.0            0.0   \n",
       "3          2544  ...                           0.0            0.0   \n",
       "4          2544  ...                           0.0            0.0   \n",
       "\n",
       "   Enlarged hilum Hiatal hernia  High lung volume / emphysema  \\\n",
       "0             0.0           0.0                           0.0   \n",
       "1             0.0           0.0                           0.0   \n",
       "2             0.0           0.0                           0.0   \n",
       "3             0.0           0.0                           0.0   \n",
       "4             0.0           0.0                           0.0   \n",
       "\n",
       "   Interstitial lung disease  Lung nodule or mass  Pleural abnormality  \\\n",
       "0                        0.0                  0.0                  0.0   \n",
       "1                        0.0                  0.0                  0.0   \n",
       "2                        0.0                  0.0                  0.0   \n",
       "3                        0.0                  1.0                  0.0   \n",
       "4                        0.0                  0.0                  0.0   \n",
       "\n",
       "   Fracture  split  \n",
       "0       0.0  train  \n",
       "1       0.0    val  \n",
       "2       0.0  train  \n",
       "3       0.0  train  \n",
       "4       0.0  train  \n",
       "\n",
       "[5 rows x 44 columns]"
      ]
     },
     "execution_count": 39,
     "metadata": {},
     "output_type": "execute_result"
    }
   ],
   "source": [
    "preprocessed_df.head(5)"
   ]
  },
  {
   "cell_type": "code",
   "execution_count": 40,
   "metadata": {},
   "outputs": [],
   "source": [
    "from data.constants import DEFAULT_REFLACX_LABEL_COLS\n",
    "\n",
    "\n",
    "preprocessed_count_map = dict((preprocessed_df[labels_cols] >0 ).sum(axis=0))\n",
    "preprocessed_counting_map = OrderedDict({k: v for k, v in sorted(preprocessed_count_map.items(), key=lambda item: item[1])})\n",
    "\n",
    "preprocessed_label_counts = {}\n",
    "for col in DEFAULT_REFLACX_LABEL_COLS:\n",
    "    preprocessed_label_counts[col] = preprocessed_counting_map[col]\n"
   ]
  },
  {
   "cell_type": "code",
   "execution_count": 41,
   "metadata": {},
   "outputs": [
    {
     "data": {
      "text/plain": [
       "{'Enlarged cardiac silhouette': 154,\n",
       " 'Atelectasis': 143,\n",
       " 'Pleural abnormality': 138,\n",
       " 'Consolidation': 112,\n",
       " 'Pulmonary edema': 85}"
      ]
     },
     "execution_count": 41,
     "metadata": {},
     "output_type": "execute_result"
    }
   ],
   "source": [
    "preprocessed_label_counts"
   ]
  },
  {
   "cell_type": "code",
   "execution_count": 42,
   "metadata": {},
   "outputs": [
    {
     "data": {
      "text/plain": [
       "<BarContainer object of 5 artists>"
      ]
     },
     "execution_count": 42,
     "metadata": {},
     "output_type": "execute_result"
    },
    {
     "data": {
      "image/png": "[encoded data removed]",
      "text/plain": [
       "<Figure size 432x288 with 1 Axes>"
      ]
     },
     "metadata": {
      "needs_background": "light"
     },
     "output_type": "display_data"
    }
   ],
   "source": [
    "fig = plt.figure()\n",
    "keys_list = list(reversed(list(preprocessed_label_counts.keys())))\n",
    "plt.barh(keys_list, [ preprocessed_label_counts[k] for k in keys_list])"
   ]
  },
  {
   "cell_type": "code",
   "execution_count": 43,
   "metadata": {},
   "outputs": [
    {
     "data": {
      "text/html": [
       "<div>\n",
       "<style scoped>\n",
       "    .dataframe tbody tr th:only-of-type {\n",
       "        vertical-align: middle;\n",
       "    }\n",
       "\n",
       "    .dataframe tbody tr th {\n",
       "        vertical-align: top;\n",
       "    }\n",
       "\n",
       "    .dataframe thead th {\n",
       "        text-align: right;\n",
       "    }\n",
       "</style>\n",
       "<table border=\"1\" class=\"dataframe\">\n",
       "  <thead>\n",
       "    <tr style=\"text-align: right;\">\n",
       "      <th></th>\n",
       "      <th>Unnamed: 0</th>\n",
       "      <th>index</th>\n",
       "      <th>id</th>\n",
       "      <th>dicom_id</th>\n",
       "      <th>subject_id</th>\n",
       "      <th>stay_id</th>\n",
       "      <th>study_id</th>\n",
       "      <th>image_path</th>\n",
       "      <th>ViewPosition</th>\n",
       "      <th>image_size_x</th>\n",
       "      <th>...</th>\n",
       "      <th>Abnormal mediastinal contour</th>\n",
       "      <th>Acute fracture</th>\n",
       "      <th>Enlarged hilum</th>\n",
       "      <th>Hiatal hernia</th>\n",
       "      <th>High lung volume / emphysema</th>\n",
       "      <th>Interstitial lung disease</th>\n",
       "      <th>Lung nodule or mass</th>\n",
       "      <th>Pleural abnormality</th>\n",
       "      <th>Fracture</th>\n",
       "      <th>split</th>\n",
       "    </tr>\n",
       "  </thead>\n",
       "  <tbody>\n",
       "    <tr>\n",
       "      <th>0</th>\n",
       "      <td>0</td>\n",
       "      <td>0</td>\n",
       "      <td>P102R108387</td>\n",
       "      <td>34cedb74-d0996b40-6d218312-a9174bea-d48dc033</td>\n",
       "      <td>18111516</td>\n",
       "      <td>32067002</td>\n",
       "      <td>55032240</td>\n",
       "      <td>{XAMI_MIMIC_PATH}\\patient_18111516\\CXR-JPG\\s55...</td>\n",
       "      <td>AP</td>\n",
       "      <td>2544</td>\n",
       "      <td>...</td>\n",
       "      <td>0.0</td>\n",
       "      <td>0.0</td>\n",
       "      <td>0.0</td>\n",
       "      <td>0.0</td>\n",
       "      <td>0.0</td>\n",
       "      <td>0.0</td>\n",
       "      <td>0.0</td>\n",
       "      <td>0.0</td>\n",
       "      <td>0.0</td>\n",
       "      <td>train</td>\n",
       "    </tr>\n",
       "    <tr>\n",
       "      <th>1</th>\n",
       "      <td>1</td>\n",
       "      <td>1</td>\n",
       "      <td>P102R379837</td>\n",
       "      <td>34cedb74-d0996b40-6d218312-a9174bea-d48dc033</td>\n",
       "      <td>18111516</td>\n",
       "      <td>32067002</td>\n",
       "      <td>55032240</td>\n",
       "      <td>{XAMI_MIMIC_PATH}\\patient_18111516\\CXR-JPG\\s55...</td>\n",
       "      <td>AP</td>\n",
       "      <td>2544</td>\n",
       "      <td>...</td>\n",
       "      <td>0.0</td>\n",
       "      <td>0.0</td>\n",
       "      <td>0.0</td>\n",
       "      <td>0.0</td>\n",
       "      <td>0.0</td>\n",
       "      <td>0.0</td>\n",
       "      <td>0.0</td>\n",
       "      <td>0.0</td>\n",
       "      <td>0.0</td>\n",
       "      <td>val</td>\n",
       "    </tr>\n",
       "    <tr>\n",
       "      <th>2</th>\n",
       "      <td>2</td>\n",
       "      <td>2</td>\n",
       "      <td>P102R558314</td>\n",
       "      <td>34cedb74-d0996b40-6d218312-a9174bea-d48dc033</td>\n",
       "      <td>18111516</td>\n",
       "      <td>32067002</td>\n",
       "      <td>55032240</td>\n",
       "      <td>{XAMI_MIMIC_PATH}\\patient_18111516\\CXR-JPG\\s55...</td>\n",
       "      <td>AP</td>\n",
       "      <td>2544</td>\n",
       "      <td>...</td>\n",
       "      <td>0.0</td>\n",
       "      <td>0.0</td>\n",
       "      <td>0.0</td>\n",
       "      <td>0.0</td>\n",
       "      <td>0.0</td>\n",
       "      <td>0.0</td>\n",
       "      <td>0.0</td>\n",
       "      <td>0.0</td>\n",
       "      <td>0.0</td>\n",
       "      <td>train</td>\n",
       "    </tr>\n",
       "    <tr>\n",
       "      <th>3</th>\n",
       "      <td>3</td>\n",
       "      <td>3</td>\n",
       "      <td>P102R765317</td>\n",
       "      <td>34cedb74-d0996b40-6d218312-a9174bea-d48dc033</td>\n",
       "      <td>18111516</td>\n",
       "      <td>32067002</td>\n",
       "      <td>55032240</td>\n",
       "      <td>{XAMI_MIMIC_PATH}\\patient_18111516\\CXR-JPG\\s55...</td>\n",
       "      <td>AP</td>\n",
       "      <td>2544</td>\n",
       "      <td>...</td>\n",
       "      <td>0.0</td>\n",
       "      <td>0.0</td>\n",
       "      <td>0.0</td>\n",
       "      <td>0.0</td>\n",
       "      <td>0.0</td>\n",
       "      <td>0.0</td>\n",
       "      <td>1.0</td>\n",
       "      <td>0.0</td>\n",
       "      <td>0.0</td>\n",
       "      <td>train</td>\n",
       "    </tr>\n",
       "    <tr>\n",
       "      <th>4</th>\n",
       "      <td>4</td>\n",
       "      <td>4</td>\n",
       "      <td>P102R915878</td>\n",
       "      <td>34cedb74-d0996b40-6d218312-a9174bea-d48dc033</td>\n",
       "      <td>18111516</td>\n",
       "      <td>32067002</td>\n",
       "      <td>55032240</td>\n",
       "      <td>{XAMI_MIMIC_PATH}\\patient_18111516\\CXR-JPG\\s55...</td>\n",
       "      <td>AP</td>\n",
       "      <td>2544</td>\n",
       "      <td>...</td>\n",
       "      <td>0.0</td>\n",
       "      <td>0.0</td>\n",
       "      <td>0.0</td>\n",
       "      <td>0.0</td>\n",
       "      <td>0.0</td>\n",
       "      <td>0.0</td>\n",
       "      <td>0.0</td>\n",
       "      <td>0.0</td>\n",
       "      <td>0.0</td>\n",
       "      <td>train</td>\n",
       "    </tr>\n",
       "    <tr>\n",
       "      <th>...</th>\n",
       "      <td>...</td>\n",
       "      <td>...</td>\n",
       "      <td>...</td>\n",
       "      <td>...</td>\n",
       "      <td>...</td>\n",
       "      <td>...</td>\n",
       "      <td>...</td>\n",
       "      <td>...</td>\n",
       "      <td>...</td>\n",
       "      <td>...</td>\n",
       "      <td>...</td>\n",
       "      <td>...</td>\n",
       "      <td>...</td>\n",
       "      <td>...</td>\n",
       "      <td>...</td>\n",
       "      <td>...</td>\n",
       "      <td>...</td>\n",
       "      <td>...</td>\n",
       "      <td>...</td>\n",
       "      <td>...</td>\n",
       "      <td>...</td>\n",
       "    </tr>\n",
       "    <tr>\n",
       "      <th>665</th>\n",
       "      <td>665</td>\n",
       "      <td>3020</td>\n",
       "      <td>P300R833708</td>\n",
       "      <td>a2fe8aae-2fe32131-b47c4e5b-090f4c13-88e7ac97</td>\n",
       "      <td>19875621</td>\n",
       "      <td>32582616</td>\n",
       "      <td>55102074</td>\n",
       "      <td>{XAMI_MIMIC_PATH}\\patient_19875621\\CXR-JPG\\s55...</td>\n",
       "      <td>PA</td>\n",
       "      <td>2544</td>\n",
       "      <td>...</td>\n",
       "      <td>0.0</td>\n",
       "      <td>0.0</td>\n",
       "      <td>0.0</td>\n",
       "      <td>0.0</td>\n",
       "      <td>0.0</td>\n",
       "      <td>0.0</td>\n",
       "      <td>0.0</td>\n",
       "      <td>0.0</td>\n",
       "      <td>0.0</td>\n",
       "      <td>val</td>\n",
       "    </tr>\n",
       "    <tr>\n",
       "      <th>666</th>\n",
       "      <td>666</td>\n",
       "      <td>3023</td>\n",
       "      <td>P300R918521</td>\n",
       "      <td>a2a80c63-8b9575dc-bc08895e-40392d6a-d7fc17d5</td>\n",
       "      <td>19884194</td>\n",
       "      <td>36719043</td>\n",
       "      <td>57912042</td>\n",
       "      <td>{XAMI_MIMIC_PATH}\\patient_19884194\\CXR-JPG\\s57...</td>\n",
       "      <td>AP</td>\n",
       "      <td>2544</td>\n",
       "      <td>...</td>\n",
       "      <td>0.0</td>\n",
       "      <td>0.0</td>\n",
       "      <td>0.0</td>\n",
       "      <td>0.0</td>\n",
       "      <td>0.0</td>\n",
       "      <td>0.0</td>\n",
       "      <td>0.0</td>\n",
       "      <td>0.0</td>\n",
       "      <td>0.0</td>\n",
       "      <td>train</td>\n",
       "    </tr>\n",
       "    <tr>\n",
       "      <th>667</th>\n",
       "      <td>667</td>\n",
       "      <td>3027</td>\n",
       "      <td>P300R611251</td>\n",
       "      <td>2b20dcdf-4077bc16-48fc8eb5-265ef218-f6552cb0</td>\n",
       "      <td>19906407</td>\n",
       "      <td>33352559</td>\n",
       "      <td>57296330</td>\n",
       "      <td>{XAMI_MIMIC_PATH}\\patient_19906407\\CXR-JPG\\s57...</td>\n",
       "      <td>AP</td>\n",
       "      <td>2881</td>\n",
       "      <td>...</td>\n",
       "      <td>2.0</td>\n",
       "      <td>0.0</td>\n",
       "      <td>0.0</td>\n",
       "      <td>0.0</td>\n",
       "      <td>0.0</td>\n",
       "      <td>0.0</td>\n",
       "      <td>0.0</td>\n",
       "      <td>0.0</td>\n",
       "      <td>0.0</td>\n",
       "      <td>val</td>\n",
       "    </tr>\n",
       "    <tr>\n",
       "      <th>668</th>\n",
       "      <td>668</td>\n",
       "      <td>3028</td>\n",
       "      <td>P300R519683</td>\n",
       "      <td>92134f99-0e73faba-1280ad81-218c68ba-933a85c5</td>\n",
       "      <td>19907884</td>\n",
       "      <td>39112538</td>\n",
       "      <td>57427881</td>\n",
       "      <td>{XAMI_MIMIC_PATH}\\patient_19907884\\CXR-JPG\\s57...</td>\n",
       "      <td>PA</td>\n",
       "      <td>2544</td>\n",
       "      <td>...</td>\n",
       "      <td>0.0</td>\n",
       "      <td>0.0</td>\n",
       "      <td>0.0</td>\n",
       "      <td>0.0</td>\n",
       "      <td>0.0</td>\n",
       "      <td>0.0</td>\n",
       "      <td>0.0</td>\n",
       "      <td>0.0</td>\n",
       "      <td>0.0</td>\n",
       "      <td>train</td>\n",
       "    </tr>\n",
       "    <tr>\n",
       "      <th>669</th>\n",
       "      <td>669</td>\n",
       "      <td>3039</td>\n",
       "      <td>P300R827738</td>\n",
       "      <td>bd356a66-7c03720a-c5227633-82282d68-914e93c4</td>\n",
       "      <td>19957626</td>\n",
       "      <td>31501382</td>\n",
       "      <td>57835828</td>\n",
       "      <td>{XAMI_MIMIC_PATH}\\patient_19957626\\CXR-JPG\\s57...</td>\n",
       "      <td>PA</td>\n",
       "      <td>2544</td>\n",
       "      <td>...</td>\n",
       "      <td>0.0</td>\n",
       "      <td>0.0</td>\n",
       "      <td>0.0</td>\n",
       "      <td>0.0</td>\n",
       "      <td>0.0</td>\n",
       "      <td>0.0</td>\n",
       "      <td>0.0</td>\n",
       "      <td>0.0</td>\n",
       "      <td>0.0</td>\n",
       "      <td>train</td>\n",
       "    </tr>\n",
       "  </tbody>\n",
       "</table>\n",
       "<p>670 rows × 44 columns</p>\n",
       "</div>"
      ],
      "text/plain": [
       "     Unnamed: 0  index           id  \\\n",
       "0             0      0  P102R108387   \n",
       "1             1      1  P102R379837   \n",
       "2             2      2  P102R558314   \n",
       "3             3      3  P102R765317   \n",
       "4             4      4  P102R915878   \n",
       "..          ...    ...          ...   \n",
       "665         665   3020  P300R833708   \n",
       "666         666   3023  P300R918521   \n",
       "667         667   3027  P300R611251   \n",
       "668         668   3028  P300R519683   \n",
       "669         669   3039  P300R827738   \n",
       "\n",
       "                                         dicom_id  subject_id   stay_id  \\\n",
       "0    34cedb74-d0996b40-6d218312-a9174bea-d48dc033    18111516  32067002   \n",
       "1    34cedb74-d0996b40-6d218312-a9174bea-d48dc033    18111516  32067002   \n",
       "2    34cedb74-d0996b40-6d218312-a9174bea-d48dc033    18111516  32067002   \n",
       "3    34cedb74-d0996b40-6d218312-a9174bea-d48dc033    18111516  32067002   \n",
       "4    34cedb74-d0996b40-6d218312-a9174bea-d48dc033    18111516  32067002   \n",
       "..                                            ...         ...       ...   \n",
       "665  a2fe8aae-2fe32131-b47c4e5b-090f4c13-88e7ac97    19875621  32582616   \n",
       "666  a2a80c63-8b9575dc-bc08895e-40392d6a-d7fc17d5    19884194  36719043   \n",
       "667  2b20dcdf-4077bc16-48fc8eb5-265ef218-f6552cb0    19906407  33352559   \n",
       "668  92134f99-0e73faba-1280ad81-218c68ba-933a85c5    19907884  39112538   \n",
       "669  bd356a66-7c03720a-c5227633-82282d68-914e93c4    19957626  31501382   \n",
       "\n",
       "     study_id                                         image_path ViewPosition  \\\n",
       "0    55032240  {XAMI_MIMIC_PATH}\\patient_18111516\\CXR-JPG\\s55...           AP   \n",
       "1    55032240  {XAMI_MIMIC_PATH}\\patient_18111516\\CXR-JPG\\s55...           AP   \n",
       "2    55032240  {XAMI_MIMIC_PATH}\\patient_18111516\\CXR-JPG\\s55...           AP   \n",
       "3    55032240  {XAMI_MIMIC_PATH}\\patient_18111516\\CXR-JPG\\s55...           AP   \n",
       "4    55032240  {XAMI_MIMIC_PATH}\\patient_18111516\\CXR-JPG\\s55...           AP   \n",
       "..        ...                                                ...          ...   \n",
       "665  55102074  {XAMI_MIMIC_PATH}\\patient_19875621\\CXR-JPG\\s55...           PA   \n",
       "666  57912042  {XAMI_MIMIC_PATH}\\patient_19884194\\CXR-JPG\\s57...           AP   \n",
       "667  57296330  {XAMI_MIMIC_PATH}\\patient_19906407\\CXR-JPG\\s57...           AP   \n",
       "668  57427881  {XAMI_MIMIC_PATH}\\patient_19907884\\CXR-JPG\\s57...           PA   \n",
       "669  57835828  {XAMI_MIMIC_PATH}\\patient_19957626\\CXR-JPG\\s57...           PA   \n",
       "\n",
       "     image_size_x  ...  Abnormal mediastinal contour Acute fracture  \\\n",
       "0            2544  ...                           0.0            0.0   \n",
       "1            2544  ...                           0.0            0.0   \n",
       "2            2544  ...                           0.0            0.0   \n",
       "3            2544  ...                           0.0            0.0   \n",
       "4            2544  ...                           0.0            0.0   \n",
       "..            ...  ...                           ...            ...   \n",
       "665          2544  ...                           0.0            0.0   \n",
       "666          2544  ...                           0.0            0.0   \n",
       "667          2881  ...                           2.0            0.0   \n",
       "668          2544  ...                           0.0            0.0   \n",
       "669          2544  ...                           0.0            0.0   \n",
       "\n",
       "     Enlarged hilum Hiatal hernia  High lung volume / emphysema  \\\n",
       "0               0.0           0.0                           0.0   \n",
       "1               0.0           0.0                           0.0   \n",
       "2               0.0           0.0                           0.0   \n",
       "3               0.0           0.0                           0.0   \n",
       "4               0.0           0.0                           0.0   \n",
       "..              ...           ...                           ...   \n",
       "665             0.0           0.0                           0.0   \n",
       "666             0.0           0.0                           0.0   \n",
       "667             0.0           0.0                           0.0   \n",
       "668             0.0           0.0                           0.0   \n",
       "669             0.0           0.0                           0.0   \n",
       "\n",
       "     Interstitial lung disease  Lung nodule or mass  Pleural abnormality  \\\n",
       "0                          0.0                  0.0                  0.0   \n",
       "1                          0.0                  0.0                  0.0   \n",
       "2                          0.0                  0.0                  0.0   \n",
       "3                          0.0                  1.0                  0.0   \n",
       "4                          0.0                  0.0                  0.0   \n",
       "..                         ...                  ...                  ...   \n",
       "665                        0.0                  0.0                  0.0   \n",
       "666                        0.0                  0.0                  0.0   \n",
       "667                        0.0                  0.0                  0.0   \n",
       "668                        0.0                  0.0                  0.0   \n",
       "669                        0.0                  0.0                  0.0   \n",
       "\n",
       "     Fracture  split  \n",
       "0         0.0  train  \n",
       "1         0.0    val  \n",
       "2         0.0  train  \n",
       "3         0.0  train  \n",
       "4         0.0  train  \n",
       "..        ...    ...  \n",
       "665       0.0    val  \n",
       "666       0.0  train  \n",
       "667       0.0    val  \n",
       "668       0.0  train  \n",
       "669       0.0  train  \n",
       "\n",
       "[670 rows x 44 columns]"
      ]
     },
     "execution_count": 43,
     "metadata": {},
     "output_type": "execute_result"
    }
   ],
   "source": [
    "preprocessed_df"
   ]
  },
  {
   "cell_type": "code",
   "execution_count": 44,
   "metadata": {},
   "outputs": [],
   "source": [
    "from data.constants import DEFAULT_MIMIC_CLINICAL_NUM_COLS, DEFAULT_REFLACX_PATH_COLS\n"
   ]
  },
  {
   "cell_type": "code",
   "execution_count": 45,
   "metadata": {},
   "outputs": [
    {
     "data": {
      "text/plain": [
       "<AxesSubplot:>"
      ]
     },
     "execution_count": 45,
     "metadata": {},
     "output_type": "execute_result"
    },
    {
     "data": {
      "image/png": "[encoded data removed]",
      "text/plain": [
       "<Figure size 576x360 with 1 Axes>"
      ]
     },
     "metadata": {
      "needs_background": "light"
     },
     "output_type": "display_data"
    }
   ],
   "source": [
    "plt.figure(figsize=(8, 5))\n",
    "preprocessed_df[DEFAULT_MIMIC_CLINICAL_NUM_COLS].boxplot(vert=False)"
   ]
  },
  {
   "cell_type": "code",
   "execution_count": 82,
   "metadata": {},
   "outputs": [
    {
     "data": {
      "text/plain": [
       "{'whiskers': [<matplotlib.lines.Line2D at 0x1eae767be20>,\n",
       "  <matplotlib.lines.Line2D at 0x1eae768d130>,\n",
       "  <matplotlib.lines.Line2D at 0x1eae7697250>,\n",
       "  <matplotlib.lines.Line2D at 0x1eae7697520>,\n",
       "  <matplotlib.lines.Line2D at 0x1eae76a6640>,\n",
       "  <matplotlib.lines.Line2D at 0x1eae76a6910>,\n",
       "  <matplotlib.lines.Line2D at 0x1eae76b3a30>,\n",
       "  <matplotlib.lines.Line2D at 0x1eae76b3d00>,\n",
       "  <matplotlib.lines.Line2D at 0x1eae76bde20>,\n",
       "  <matplotlib.lines.Line2D at 0x1eae76ce130>,\n",
       "  <matplotlib.lines.Line2D at 0x1eae76d9250>,\n",
       "  <matplotlib.lines.Line2D at 0x1eae76d9520>,\n",
       "  <matplotlib.lines.Line2D at 0x1eae76e5640>,\n",
       "  <matplotlib.lines.Line2D at 0x1eae76e5910>,\n",
       "  <matplotlib.lines.Line2D at 0x1eae76f3a30>,\n",
       "  <matplotlib.lines.Line2D at 0x1eae76f3d00>,\n",
       "  <matplotlib.lines.Line2D at 0x1eae76ffe20>,\n",
       "  <matplotlib.lines.Line2D at 0x1eae770e130>],\n",
       " 'caps': [<matplotlib.lines.Line2D at 0x1eae768d400>,\n",
       "  <matplotlib.lines.Line2D at 0x1eae768d6d0>,\n",
       "  <matplotlib.lines.Line2D at 0x1eae76977f0>,\n",
       "  <matplotlib.lines.Line2D at 0x1eae7697ac0>,\n",
       "  <matplotlib.lines.Line2D at 0x1eae76a6be0>,\n",
       "  <matplotlib.lines.Line2D at 0x1eae76a6eb0>,\n",
       "  <matplotlib.lines.Line2D at 0x1eae76b3fd0>,\n",
       "  <matplotlib.lines.Line2D at 0x1eae76bd2e0>,\n",
       "  <matplotlib.lines.Line2D at 0x1eae76ce400>,\n",
       "  <matplotlib.lines.Line2D at 0x1eae76ce6d0>,\n",
       "  <matplotlib.lines.Line2D at 0x1eae76d97f0>,\n",
       "  <matplotlib.lines.Line2D at 0x1eae76d9ac0>,\n",
       "  <matplotlib.lines.Line2D at 0x1eae76e5be0>,\n",
       "  <matplotlib.lines.Line2D at 0x1eae76e5eb0>,\n",
       "  <matplotlib.lines.Line2D at 0x1eae76f3fd0>,\n",
       "  <matplotlib.lines.Line2D at 0x1eae76ff2e0>,\n",
       "  <matplotlib.lines.Line2D at 0x1eae770e400>,\n",
       "  <matplotlib.lines.Line2D at 0x1eae770e6d0>],\n",
       " 'boxes': [<matplotlib.lines.Line2D at 0x1eae767bb20>,\n",
       "  <matplotlib.lines.Line2D at 0x1eae768df40>,\n",
       "  <matplotlib.lines.Line2D at 0x1eae76a6370>,\n",
       "  <matplotlib.lines.Line2D at 0x1eae76b3760>,\n",
       "  <matplotlib.lines.Line2D at 0x1eae76bdb50>,\n",
       "  <matplotlib.lines.Line2D at 0x1eae76cef40>,\n",
       "  <matplotlib.lines.Line2D at 0x1eae76e5370>,\n",
       "  <matplotlib.lines.Line2D at 0x1eae76f3760>,\n",
       "  <matplotlib.lines.Line2D at 0x1eae76ffb50>],\n",
       " 'medians': [<matplotlib.lines.Line2D at 0x1eae768d9a0>,\n",
       "  <matplotlib.lines.Line2D at 0x1eae7697d90>,\n",
       "  <matplotlib.lines.Line2D at 0x1eae76b31c0>,\n",
       "  <matplotlib.lines.Line2D at 0x1eae76bd5b0>,\n",
       "  <matplotlib.lines.Line2D at 0x1eae76ce9a0>,\n",
       "  <matplotlib.lines.Line2D at 0x1eae76d9d90>,\n",
       "  <matplotlib.lines.Line2D at 0x1eae76f31c0>,\n",
       "  <matplotlib.lines.Line2D at 0x1eae76ff5b0>,\n",
       "  <matplotlib.lines.Line2D at 0x1eae770e9a0>],\n",
       " 'fliers': [<matplotlib.lines.Line2D at 0x1eae768dc70>,\n",
       "  <matplotlib.lines.Line2D at 0x1eae76a60a0>,\n",
       "  <matplotlib.lines.Line2D at 0x1eae76b3490>,\n",
       "  <matplotlib.lines.Line2D at 0x1eae76bd880>,\n",
       "  <matplotlib.lines.Line2D at 0x1eae76cec70>,\n",
       "  <matplotlib.lines.Line2D at 0x1eae76e50a0>,\n",
       "  <matplotlib.lines.Line2D at 0x1eae76f3490>,\n",
       "  <matplotlib.lines.Line2D at 0x1eae76ff880>,\n",
       "  <matplotlib.lines.Line2D at 0x1eae770ec70>],\n",
       " 'means': []}"
      ]
     },
     "execution_count": 82,
     "metadata": {},
     "output_type": "execute_result"
    },
    {
     "data": {
      "image/png": "[encoded data removed]",
      "text/plain": [
       "<Figure size 432x288 with 1 Axes>"
      ]
     },
     "metadata": {
      "needs_background": "light"
     },
     "output_type": "display_data"
    }
   ],
   "source": [
    "plt.boxplot(DEFAULT_MIMIC_CLINICAL_NUM_COLS, preprocessed_df[DEFAULT_MIMIC_CLINICAL_NUM_COLS], vert=False)"
   ]
  },
  {
   "cell_type": "code",
   "execution_count": 58,
   "metadata": {},
   "outputs": [],
   "source": [
    "from pathlib import Path\n"
   ]
  },
  {
   "cell_type": "code",
   "execution_count": 59,
   "metadata": {},
   "outputs": [],
   "source": [
    "for p_col in DEFAULT_REFLACX_PATH_COLS:\n",
    "    if p_col in reflacx_meta_df.columns:\n",
    "        if p_col == \"bbox_paths\":\n",
    "\n",
    "            def apply_bbox_paths_transform(input_paths_str: str) -> List[str]:\n",
    "                input_paths_list = json.loads(input_paths_str)\n",
    "                replaced_path_list = [\n",
    "                    p.replace(\"{XAMI_MIMIC_PATH}\", XAMI_MIMIC_PATH)\n",
    "                    for p in input_paths_list\n",
    "                ]\n",
    "                return replaced_path_list\n",
    "\n",
    "            apply_fn = lambda x: apply_bbox_paths_transform(x)\n",
    "\n",
    "        else:\n",
    "            apply_fn = lambda x: str(\n",
    "                Path(x.replace(\"{XAMI_MIMIC_PATH}\", XAMI_MIMIC_PATH))\n",
    "            )\n",
    "\n",
    "        reflacx_meta_df[p_col] = reflacx_meta_df[p_col].apply(apply_fn)"
   ]
  },
  {
   "cell_type": "code",
   "execution_count": 70,
   "metadata": {},
   "outputs": [
    {
     "data": {
      "text/plain": [
       "6"
      ]
     },
     "execution_count": 70,
     "metadata": {},
     "output_type": "execute_result"
    }
   ],
   "source": [
    "all_bbox_num = [len(pd.read_csv(preprocessed_df['anomaly_location_ellipses_path'].iloc[i])) for i in range(len(preprocessed_df))]\n",
    "max(all_bbox_num)"
   ]
  },
  {
   "cell_type": "code",
   "execution_count": 71,
   "metadata": {},
   "outputs": [
    {
     "data": {
      "text/plain": [
       "1.3522388059701493"
      ]
     },
     "execution_count": 71,
     "metadata": {},
     "output_type": "execute_result"
    }
   ],
   "source": [
    "### Average bbox numbers\n",
    "\n",
    "import numpy as np\n",
    "np.mean(all_bbox_num)\n",
    "\n",
    "# preprossed: 1.3522388059701493"
   ]
  },
  {
   "cell_type": "code",
   "execution_count": 74,
   "metadata": {},
   "outputs": [],
   "source": [
    "reflacx_meta_df[\"anomaly_location_ellipses_path\"] = (\n",
    "    f\"{XAMI_MIMIC_PATH_str}\\patient_\"\n",
    "    + reflacx_meta_df[\"subject_id\"].astype(str)\n",
    "    + \"\\REFLACX\\\\\"\n",
    "    + reflacx_meta_df[\"id\"].astype(str)\n",
    "    + \"\\\\anomaly_location_ellipses.csv\"\n",
    ")\n"
   ]
  },
  {
   "cell_type": "code",
   "execution_count": 75,
   "metadata": {},
   "outputs": [],
   "source": [
    "for p_col in DEFAULT_REFLACX_PATH_COLS:\n",
    "    if p_col in reflacx_meta_df.columns:\n",
    "        if p_col == \"bbox_paths\":\n",
    "\n",
    "            def apply_bbox_paths_transform(input_paths_str: str) -> List[str]:\n",
    "                input_paths_list = json.loads(input_paths_str)\n",
    "                replaced_path_list = [\n",
    "                    p.replace(\"{XAMI_MIMIC_PATH}\", XAMI_MIMIC_PATH)\n",
    "                    for p in input_paths_list\n",
    "                ]\n",
    "                return replaced_path_list\n",
    "\n",
    "            apply_fn = lambda x: apply_bbox_paths_transform(x)\n",
    "\n",
    "        else:\n",
    "            apply_fn = lambda x: str(\n",
    "                Path(x.replace(\"{XAMI_MIMIC_PATH}\", XAMI_MIMIC_PATH))\n",
    "            )\n",
    "\n",
    "        reflacx_meta_df[p_col] = reflacx_meta_df[p_col].apply(apply_fn)"
   ]
  },
  {
   "cell_type": "code",
   "execution_count": 76,
   "metadata": {},
   "outputs": [
    {
     "data": {
      "text/plain": [
       "8"
      ]
     },
     "execution_count": 76,
     "metadata": {},
     "output_type": "execute_result"
    }
   ],
   "source": [
    "all_bbox_num = [len(pd.read_csv(reflacx_meta_df['anomaly_location_ellipses_path'].iloc[i])) for i in range(len(reflacx_meta_df))]\n",
    "max(all_bbox_num)"
   ]
  },
  {
   "cell_type": "code",
   "execution_count": 77,
   "metadata": {},
   "outputs": [
    {
     "data": {
      "text/plain": [
       "1.6671035386631716"
      ]
     },
     "execution_count": 77,
     "metadata": {},
     "output_type": "execute_result"
    }
   ],
   "source": [
    "np.mean(all_bbox_num)\n",
    "## for all reflacx\n",
    "\n",
    "# original: \"1.6671035386631716\""
   ]
  },
  {
   "cell_type": "code",
   "execution_count": 78,
   "metadata": {},
   "outputs": [
    {
     "data": {
      "text/plain": [
       "3052"
      ]
     },
     "execution_count": 78,
     "metadata": {},
     "output_type": "execute_result"
    }
   ],
   "source": [
    "len(reflacx_meta_df)"
   ]
  },
  {
   "cell_type": "code",
   "execution_count": 79,
   "metadata": {},
   "outputs": [],
   "source": [
    "ed_triage_df = pd.read_csv(\"D:\\mimic-iv-ed-1.0\\mimic-iv-ed-1.0\\ed\\\\triage.csv\")\n"
   ]
  },
  {
   "cell_type": "code",
   "execution_count": 80,
   "metadata": {},
   "outputs": [
    {
     "data": {
      "text/plain": [
       "448972"
      ]
     },
     "execution_count": 80,
     "metadata": {},
     "output_type": "execute_result"
    }
   ],
   "source": [
    "len(ed_triage_df)"
   ]
  },
  {
   "cell_type": "code",
   "execution_count": 88,
   "metadata": {},
   "outputs": [
    {
     "data": {
      "text/plain": [
       "670"
      ]
     },
     "execution_count": 88,
     "metadata": {},
     "output_type": "execute_result"
    }
   ],
   "source": [
    "len(preprocessed_df)"
   ]
  },
  {
   "cell_type": "code",
   "execution_count": 91,
   "metadata": {},
   "outputs": [
    {
     "data": {
      "text/plain": [
       "590"
      ]
     },
     "execution_count": 91,
     "metadata": {},
     "output_type": "execute_result"
    }
   ],
   "source": [
    "# for unique cases, it's 590\n",
    "\n",
    "len(preprocessed_df[\"dicom_id\"].unique())"
   ]
  },
  {
   "cell_type": "code",
   "execution_count": null,
   "metadata": {},
   "outputs": [],
   "source": []
  }
 ],
 "metadata": {
  "kernelspec": {
   "display_name": "Python 3.9.7 ('pytorch')",
   "language": "python",
   "name": "python3"
  },
  "language_info": {
   "codemirror_mode": {
    "name": "ipython",
    "version": 3
   },
   "file_extension": ".py",
   "mimetype": "text/x-python",
   "name": "python",
   "nbconvert_exporter": "python",
   "pygments_lexer": "ipython3",
   "version": "3.9.7"
  },
  "orig_nbformat": 4,
  "vscode": {
   "interpreter": {
    "hash": "52a48fdedee40b77eb251917c5aa239bf02f1ab8c93cc13fe7347f570eadc6b9"
   }
  }
 },
 "nbformat": 4,
 "nbformat_minor": 2
}
