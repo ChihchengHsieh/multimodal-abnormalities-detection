{
 "cells": [
  {
   "cell_type": "markdown",
   "metadata": {},
   "source": [
    "# Preprocessing\n",
    "\n",
    "This jupyter notebook is to preprocess the data from MIMIC and REFLACX to form a dataframe `reflacx_with_clinical.csv` in this repository for training purpose. In the preprocessing phase, we use the metadata table from *REFLACX* dataset as the main table to *left join* three other tables that contian the image and clinical data we want:\n",
    "\n",
    "- Metadata table from CXR, this data table contain the information about the CXR images, such as height, width and `subject_id`.\n",
    "- Patient table from MIMIC-IV - CORE, this table contain the information we want, inlcluding gender and age.\n",
    "- Triage table from MIMIC-IV ED, this table contain the patients' health condition while in emergency department.\n",
    "\n",
    "Moreover, this notebook also perform data cleaning and filling missing value.\n",
    "\n",
    "At the end of the notebook, a `reflacx_with_clinical.csv` will be exported to the root of the working directory, so the dataloader can load this file to get training data."
   ]
  },
  {
   "cell_type": "code",
   "execution_count": 1,
   "metadata": {},
   "outputs": [],
   "source": [
    "import os, json\n",
    "import pandas as pd\n",
    "\n",
    "from data.paths import TabularDataPaths\n",
    "from utils import print as print_f\n",
    "from utils.preprocessing import get_split_list\n",
    "from data.constants import XAMI_MIMIC_PATH, SPREADSHEET_FOLDER\n",
    "from utils.init import reproducibility"
   ]
  },
  {
   "cell_type": "code",
   "execution_count": 2,
   "metadata": {},
   "outputs": [],
   "source": [
    "seed = 0\n",
    "reproducibility(0)\n",
    "\n",
    "XAMI_MIMIC_PATH_str = \"{XAMI_MIMIC_PATH}\""
   ]
  },
  {
   "cell_type": "code",
   "execution_count": 3,
   "metadata": {},
   "outputs": [
    {
     "data": {
      "text/html": [
       "<div>\n",
       "<style scoped>\n",
       "    .dataframe tbody tr th:only-of-type {\n",
       "        vertical-align: middle;\n",
       "    }\n",
       "\n",
       "    .dataframe tbody tr th {\n",
       "        vertical-align: top;\n",
       "    }\n",
       "\n",
       "    .dataframe thead th {\n",
       "        text-align: right;\n",
       "    }\n",
       "</style>\n",
       "<table border=\"1\" class=\"dataframe\">\n",
       "  <thead>\n",
       "    <tr style=\"text-align: right;\">\n",
       "      <th></th>\n",
       "      <th>Unnamed: 0</th>\n",
       "      <th>id</th>\n",
       "      <th>split</th>\n",
       "      <th>eye_tracking_data_discarded</th>\n",
       "      <th>image</th>\n",
       "      <th>dicom_id</th>\n",
       "      <th>subject_id</th>\n",
       "      <th>image_size_x</th>\n",
       "      <th>image_size_y</th>\n",
       "      <th>Airway wall thickening</th>\n",
       "      <th>...</th>\n",
       "      <th>Support devices</th>\n",
       "      <th>Wide mediastinum</th>\n",
       "      <th>Abnormal mediastinal contour</th>\n",
       "      <th>Acute fracture</th>\n",
       "      <th>Enlarged hilum</th>\n",
       "      <th>Hiatal hernia</th>\n",
       "      <th>High lung volume / emphysema</th>\n",
       "      <th>Interstitial lung disease</th>\n",
       "      <th>Lung nodule or mass</th>\n",
       "      <th>Pleural abnormality</th>\n",
       "    </tr>\n",
       "  </thead>\n",
       "  <tbody>\n",
       "    <tr>\n",
       "      <th>0</th>\n",
       "      <td>0</td>\n",
       "      <td>P102R108387</td>\n",
       "      <td>train</td>\n",
       "      <td>False</td>\n",
       "      <td>physionet.org/files/mimic-cxr/2.0.0/files/p18/...</td>\n",
       "      <td>34cedb74-d0996b40-6d218312-a9174bea-d48dc033</td>\n",
       "      <td>18111516</td>\n",
       "      <td>2544</td>\n",
       "      <td>3056</td>\n",
       "      <td>0.0</td>\n",
       "      <td>...</td>\n",
       "      <td>True</td>\n",
       "      <td>0.0</td>\n",
       "      <td>NaN</td>\n",
       "      <td>NaN</td>\n",
       "      <td>NaN</td>\n",
       "      <td>NaN</td>\n",
       "      <td>NaN</td>\n",
       "      <td>NaN</td>\n",
       "      <td>NaN</td>\n",
       "      <td>NaN</td>\n",
       "    </tr>\n",
       "    <tr>\n",
       "      <th>1</th>\n",
       "      <td>1</td>\n",
       "      <td>P102R379837</td>\n",
       "      <td>train</td>\n",
       "      <td>False</td>\n",
       "      <td>physionet.org/files/mimic-cxr/2.0.0/files/p18/...</td>\n",
       "      <td>34cedb74-d0996b40-6d218312-a9174bea-d48dc033</td>\n",
       "      <td>18111516</td>\n",
       "      <td>2544</td>\n",
       "      <td>3056</td>\n",
       "      <td>0.0</td>\n",
       "      <td>...</td>\n",
       "      <td>True</td>\n",
       "      <td>0.0</td>\n",
       "      <td>NaN</td>\n",
       "      <td>NaN</td>\n",
       "      <td>NaN</td>\n",
       "      <td>NaN</td>\n",
       "      <td>NaN</td>\n",
       "      <td>NaN</td>\n",
       "      <td>NaN</td>\n",
       "      <td>NaN</td>\n",
       "    </tr>\n",
       "    <tr>\n",
       "      <th>2</th>\n",
       "      <td>2</td>\n",
       "      <td>P102R558314</td>\n",
       "      <td>train</td>\n",
       "      <td>False</td>\n",
       "      <td>physionet.org/files/mimic-cxr/2.0.0/files/p18/...</td>\n",
       "      <td>34cedb74-d0996b40-6d218312-a9174bea-d48dc033</td>\n",
       "      <td>18111516</td>\n",
       "      <td>2544</td>\n",
       "      <td>3056</td>\n",
       "      <td>4.0</td>\n",
       "      <td>...</td>\n",
       "      <td>True</td>\n",
       "      <td>0.0</td>\n",
       "      <td>NaN</td>\n",
       "      <td>NaN</td>\n",
       "      <td>NaN</td>\n",
       "      <td>NaN</td>\n",
       "      <td>NaN</td>\n",
       "      <td>NaN</td>\n",
       "      <td>NaN</td>\n",
       "      <td>NaN</td>\n",
       "    </tr>\n",
       "    <tr>\n",
       "      <th>3</th>\n",
       "      <td>3</td>\n",
       "      <td>P102R765317</td>\n",
       "      <td>train</td>\n",
       "      <td>False</td>\n",
       "      <td>physionet.org/files/mimic-cxr/2.0.0/files/p18/...</td>\n",
       "      <td>34cedb74-d0996b40-6d218312-a9174bea-d48dc033</td>\n",
       "      <td>18111516</td>\n",
       "      <td>2544</td>\n",
       "      <td>3056</td>\n",
       "      <td>0.0</td>\n",
       "      <td>...</td>\n",
       "      <td>True</td>\n",
       "      <td>2.0</td>\n",
       "      <td>NaN</td>\n",
       "      <td>NaN</td>\n",
       "      <td>NaN</td>\n",
       "      <td>NaN</td>\n",
       "      <td>NaN</td>\n",
       "      <td>NaN</td>\n",
       "      <td>NaN</td>\n",
       "      <td>NaN</td>\n",
       "    </tr>\n",
       "    <tr>\n",
       "      <th>4</th>\n",
       "      <td>4</td>\n",
       "      <td>P102R915878</td>\n",
       "      <td>train</td>\n",
       "      <td>False</td>\n",
       "      <td>physionet.org/files/mimic-cxr/2.0.0/files/p18/...</td>\n",
       "      <td>34cedb74-d0996b40-6d218312-a9174bea-d48dc033</td>\n",
       "      <td>18111516</td>\n",
       "      <td>2544</td>\n",
       "      <td>3056</td>\n",
       "      <td>0.0</td>\n",
       "      <td>...</td>\n",
       "      <td>True</td>\n",
       "      <td>0.0</td>\n",
       "      <td>NaN</td>\n",
       "      <td>NaN</td>\n",
       "      <td>NaN</td>\n",
       "      <td>NaN</td>\n",
       "      <td>NaN</td>\n",
       "      <td>NaN</td>\n",
       "      <td>NaN</td>\n",
       "      <td>NaN</td>\n",
       "    </tr>\n",
       "  </tbody>\n",
       "</table>\n",
       "<p>5 rows × 35 columns</p>\n",
       "</div>"
      ],
      "text/plain": [
       "   Unnamed: 0           id  split  eye_tracking_data_discarded  \\\n",
       "0           0  P102R108387  train                        False   \n",
       "1           1  P102R379837  train                        False   \n",
       "2           2  P102R558314  train                        False   \n",
       "3           3  P102R765317  train                        False   \n",
       "4           4  P102R915878  train                        False   \n",
       "\n",
       "                                               image  \\\n",
       "0  physionet.org/files/mimic-cxr/2.0.0/files/p18/...   \n",
       "1  physionet.org/files/mimic-cxr/2.0.0/files/p18/...   \n",
       "2  physionet.org/files/mimic-cxr/2.0.0/files/p18/...   \n",
       "3  physionet.org/files/mimic-cxr/2.0.0/files/p18/...   \n",
       "4  physionet.org/files/mimic-cxr/2.0.0/files/p18/...   \n",
       "\n",
       "                                       dicom_id  subject_id  image_size_x  \\\n",
       "0  34cedb74-d0996b40-6d218312-a9174bea-d48dc033    18111516          2544   \n",
       "1  34cedb74-d0996b40-6d218312-a9174bea-d48dc033    18111516          2544   \n",
       "2  34cedb74-d0996b40-6d218312-a9174bea-d48dc033    18111516          2544   \n",
       "3  34cedb74-d0996b40-6d218312-a9174bea-d48dc033    18111516          2544   \n",
       "4  34cedb74-d0996b40-6d218312-a9174bea-d48dc033    18111516          2544   \n",
       "\n",
       "   image_size_y  Airway wall thickening  ...  Support devices  \\\n",
       "0          3056                     0.0  ...             True   \n",
       "1          3056                     0.0  ...             True   \n",
       "2          3056                     4.0  ...             True   \n",
       "3          3056                     0.0  ...             True   \n",
       "4          3056                     0.0  ...             True   \n",
       "\n",
       "   Wide mediastinum  Abnormal mediastinal contour  Acute fracture  \\\n",
       "0               0.0                           NaN             NaN   \n",
       "1               0.0                           NaN             NaN   \n",
       "2               0.0                           NaN             NaN   \n",
       "3               2.0                           NaN             NaN   \n",
       "4               0.0                           NaN             NaN   \n",
       "\n",
       "   Enlarged hilum  Hiatal hernia  High lung volume / emphysema  \\\n",
       "0             NaN            NaN                           NaN   \n",
       "1             NaN            NaN                           NaN   \n",
       "2             NaN            NaN                           NaN   \n",
       "3             NaN            NaN                           NaN   \n",
       "4             NaN            NaN                           NaN   \n",
       "\n",
       "   Interstitial lung disease  Lung nodule or mass Pleural abnormality  \n",
       "0                        NaN                  NaN                 NaN  \n",
       "1                        NaN                  NaN                 NaN  \n",
       "2                        NaN                  NaN                 NaN  \n",
       "3                        NaN                  NaN                 NaN  \n",
       "4                        NaN                  NaN                 NaN  \n",
       "\n",
       "[5 rows x 35 columns]"
      ]
     },
     "execution_count": 3,
     "metadata": {},
     "output_type": "execute_result"
    }
   ],
   "source": [
    "reflacx_meta_df = pd.read_csv(\n",
    "    TabularDataPaths.SpreadSheet.get_sreadsheet(\n",
    "        XAMI_MIMIC_PATH, TabularDataPaths.SpreadSheet.REFLACX.metadata,\n",
    "    )\n",
    ")\n",
    "reflacx_meta_df.head(5)\n"
   ]
  },
  {
   "cell_type": "code",
   "execution_count": 4,
   "metadata": {},
   "outputs": [
    {
     "data": {
      "text/plain": [
       "Index(['Unnamed: 0', 'id', 'split', 'eye_tracking_data_discarded', 'image',\n",
       "       'dicom_id', 'subject_id', 'image_size_x', 'image_size_y',\n",
       "       'Airway wall thickening', 'Atelectasis', 'Consolidation', 'Emphysema',\n",
       "       'Enlarged cardiac silhouette', 'Fibrosis', 'Fracture',\n",
       "       'Groundglass opacity', 'Mass', 'Nodule', 'Other', 'Pleural effusion',\n",
       "       'Pleural thickening', 'Pneumothorax', 'Pulmonary edema',\n",
       "       'Quality issue', 'Support devices', 'Wide mediastinum',\n",
       "       'Abnormal mediastinal contour', 'Acute fracture', 'Enlarged hilum',\n",
       "       'Hiatal hernia', 'High lung volume / emphysema',\n",
       "       'Interstitial lung disease', 'Lung nodule or mass',\n",
       "       'Pleural abnormality'],\n",
       "      dtype='object')"
      ]
     },
     "execution_count": 4,
     "metadata": {},
     "output_type": "execute_result"
    }
   ],
   "source": [
    "reflacx_meta_df.columns"
   ]
  },
  {
   "cell_type": "markdown",
   "metadata": {},
   "source": [
    "## Define columns in their own categories"
   ]
  },
  {
   "cell_type": "code",
   "execution_count": 5,
   "metadata": {},
   "outputs": [],
   "source": [
    "labels_cols = [\n",
    "    \"Airway wall thickening\",\n",
    "    \"Atelectasis\",\n",
    "    \"Consolidation\",\n",
    "    \"Enlarged cardiac silhouette\",\n",
    "    \"Fibrosis\",\n",
    "    \"Fracture\",\n",
    "    \"Groundglass opacity\",\n",
    "    \"Pneumothorax\",\n",
    "    \"Pulmonary edema\",\n",
    "    \"Wide mediastinum\",\n",
    "    \"Abnormal mediastinal contour\",\n",
    "    \"Acute fracture\",\n",
    "    \"Enlarged hilum\",\n",
    "    \"Quality issue\",\n",
    "    \"Support devices\",\n",
    "    \"Hiatal hernia\",\n",
    "    \"High lung volume / emphysema\",\n",
    "    \"Interstitial lung disease\",\n",
    "    \"Lung nodule or mass\",\n",
    "    \"Pleural abnormality\",\n",
    "]\n",
    "\n",
    "\n",
    "## inlcude the repetitive columns.\n",
    "all_disease_cols = [\n",
    "    \"Airway wall thickening\",\n",
    "    \"Atelectasis\",\n",
    "    \"Consolidation\",\n",
    "    \"Emphysema\",\n",
    "    \"Enlarged cardiac silhouette\",\n",
    "    \"Fibrosis\",\n",
    "    \"Fracture\",\n",
    "    \"Groundglass opacity\",\n",
    "    \"Mass\",\n",
    "    \"Nodule\",\n",
    "    \"Other\",\n",
    "    \"Pleural effusion\",\n",
    "    \"Pleural thickening\",\n",
    "    \"Pneumothorax\",\n",
    "    \"Pulmonary edema\",\n",
    "    \"Wide mediastinum\",\n",
    "    \"Abnormal mediastinal contour\",\n",
    "    \"Acute fracture\",\n",
    "    \"Enlarged hilum\",\n",
    "    \"Hiatal hernia\",\n",
    "    \"High lung volume / emphysema\",\n",
    "    \"Interstitial lung disease\",\n",
    "    \"Lung nodule or mass\",\n",
    "    \"Pleural abnormality\",\n",
    "]\n"
   ]
  },
  {
   "cell_type": "markdown",
   "metadata": {},
   "source": [
    "## Filling NAN value."
   ]
  },
  {
   "cell_type": "code",
   "execution_count": 6,
   "metadata": {},
   "outputs": [],
   "source": [
    "def checkMissingValue(df):\n",
    "    print(\n",
    "        [\n",
    "            (col, sum(df[col].isna()))\n",
    "            for col in df.columns\n",
    "            if df[col].isna().any()\n",
    "        ]\n",
    "    )"
   ]
  },
  {
   "cell_type": "code",
   "execution_count": 7,
   "metadata": {},
   "outputs": [
    {
     "data": {
      "text/plain": [
       "3052"
      ]
     },
     "execution_count": 7,
     "metadata": {},
     "output_type": "execute_result"
    }
   ],
   "source": [
    "len(reflacx_meta_df)"
   ]
  },
  {
   "cell_type": "code",
   "execution_count": 8,
   "metadata": {},
   "outputs": [
    {
     "name": "stdout",
     "output_type": "stream",
     "text": [
      "====================Columns have NaN value in REFLACX metadata====================\n",
      "[('Airway wall thickening', 2757), ('Emphysema', 2757), ('Fibrosis', 2757), ('Fracture', 2757), ('Mass', 2757), ('Nodule', 2757), ('Other', 2839), ('Pleural effusion', 2757), ('Pleural thickening', 2757), ('Quality issue', 2757), ('Wide mediastinum', 2757), ('Abnormal mediastinal contour', 295), ('Acute fracture', 295), ('Enlarged hilum', 295), ('Hiatal hernia', 295), ('High lung volume / emphysema', 295), ('Interstitial lung disease', 295), ('Lung nodule or mass', 295), ('Pleural abnormality', 295)]\n"
     ]
    }
   ],
   "source": [
    "# Checking the columns that contian nan values.\n",
    "print_f.print_title(\"Columns have NaN value in REFLACX metadata\")\n",
    "checkMissingValue(reflacx_meta_df)"
   ]
  },
  {
   "cell_type": "code",
   "execution_count": 9,
   "metadata": {},
   "outputs": [],
   "source": [
    "# Filling nan for numerical cols.\n",
    "reflacx_meta_df[all_disease_cols] = reflacx_meta_df[all_disease_cols].fillna(0)\n",
    "\n",
    "# Folling nan for boolean cols.\n",
    "reflacx_meta_df[[\"Quality issue\", \"Support devices\"]] = reflacx_meta_df[\n",
    "    [\"Quality issue\", \"Support devices\"]\n",
    "].fillna(False)\n",
    "\n"
   ]
  },
  {
   "cell_type": "markdown",
   "metadata": {},
   "source": [
    "## Checking again that all columns don't contain nan value."
   ]
  },
  {
   "cell_type": "code",
   "execution_count": 10,
   "metadata": {},
   "outputs": [
    {
     "name": "stdout",
     "output_type": "stream",
     "text": [
      "====================Columns have missing value in REFLACX metadata.====================\n",
      "[]\n"
     ]
    }
   ],
   "source": [
    "print_f.print_title(\"Columns have missing value in REFLACX metadata.\")\n",
    "\n",
    "checkMissingValue(reflacx_meta_df)\n"
   ]
  },
  {
   "cell_type": "markdown",
   "metadata": {},
   "source": [
    "## Relabel repetitive columns"
   ]
  },
  {
   "cell_type": "code",
   "execution_count": 11,
   "metadata": {},
   "outputs": [],
   "source": [
    "reflacx_meta_df[\"Lung nodule or mass\"] = reflacx_meta_df[\n",
    "    [\"Lung nodule or mass\", \"Mass\", \"Nodule\"]\n",
    "].max(axis=1)\n",
    "del reflacx_meta_df[\"Mass\"]\n",
    "del reflacx_meta_df[\"Nodule\"]\n",
    "\n",
    "reflacx_meta_df[\"High lung volume / emphysema\"] = reflacx_meta_df[\n",
    "    [\"High lung volume / emphysema\", \"Emphysema\"]\n",
    "].max(axis=1)\n",
    "del reflacx_meta_df[\"Emphysema\"]\n",
    "\n",
    "\n",
    "reflacx_meta_df[\"Pleural abnormality\"] = reflacx_meta_df[\n",
    "    [\"Pleural abnormality\", \"Pleural thickening\", \"Pleural effusion\"]\n",
    "].max(axis=1)\n",
    "del reflacx_meta_df[\"Pleural thickening\"]\n",
    "del reflacx_meta_df[\"Pleural effusion\"]\n",
    "\n"
   ]
  },
  {
   "cell_type": "markdown",
   "metadata": {},
   "source": [
    "## Load the dataframe that we wanna join with relfacx metaadta"
   ]
  },
  {
   "cell_type": "code",
   "execution_count": 12,
   "metadata": {},
   "outputs": [],
   "source": [
    "cxr_meta_df = pd.read_csv(\n",
    "    TabularDataPaths.SpreadSheet.get_sreadsheet(\n",
    "        XAMI_MIMIC_PATH, TabularDataPaths.SpreadSheet.cxr_meta\n",
    "    )\n",
    ")\n",
    "core_patients_df = pd.read_csv(\"D:\\mimic-iv-1.0\\mimic-iv-1.0\\core\\patients.csv\")\n",
    "ed_triage_df = pd.read_csv(\"D:\\mimic-iv-ed-1.0\\mimic-iv-ed-1.0\\ed\\\\triage.csv\")\n",
    "\n"
   ]
  },
  {
   "cell_type": "markdown",
   "metadata": {},
   "source": [
    "## Join dataframes"
   ]
  },
  {
   "cell_type": "code",
   "execution_count": 13,
   "metadata": {},
   "outputs": [],
   "source": [
    "merged_df = (\n",
    "    reflacx_meta_df.merge(\n",
    "        cxr_meta_df,\n",
    "        \"left\",\n",
    "        left_on=\"dicom_id\",\n",
    "        right_on=\"dicom_id\",\n",
    "        suffixes=(\"\", \"cxr\"),\n",
    "    )\n",
    "    .merge(core_patients_df, \"left\", on=\"subject_id\", suffixes=(\"\", \"_patient\"))\n",
    "    .merge(ed_triage_df, \"left\", on=\"stay_id\", suffixes=(\"\", \"_triage\"))\n",
    ")\n",
    "\n"
   ]
  },
  {
   "cell_type": "code",
   "execution_count": 14,
   "metadata": {},
   "outputs": [
    {
     "data": {
      "text/plain": [
       "Index(['Unnamed: 0', 'dicom_id', 'subject_id', 'study_id',\n",
       "       'PerformedProcedureStepDescription', 'ViewPosition', 'Rows', 'Columns',\n",
       "       'StudyDate', 'StudyTime', 'ProcedureCodeSequence_CodeMeaning',\n",
       "       'ViewCodeSequence_CodeMeaning',\n",
       "       'PatientOrientationCodeSequence_CodeMeaning', 'in_eye_gaze',\n",
       "       'in_reflacx', 'StudyDateTime', 'stay_id'],\n",
       "      dtype='object')"
      ]
     },
     "execution_count": 14,
     "metadata": {},
     "output_type": "execute_result"
    }
   ],
   "source": [
    "cxr_meta_df.columns"
   ]
  },
  {
   "cell_type": "code",
   "execution_count": 15,
   "metadata": {},
   "outputs": [
    {
     "data": {
      "text/plain": [
       "Index(['Unnamed: 0', 'id', 'split', 'eye_tracking_data_discarded', 'image',\n",
       "       'dicom_id', 'subject_id', 'image_size_x', 'image_size_y',\n",
       "       'Airway wall thickening', 'Atelectasis', 'Consolidation',\n",
       "       'Enlarged cardiac silhouette', 'Fibrosis', 'Fracture',\n",
       "       'Groundglass opacity', 'Other', 'Pneumothorax', 'Pulmonary edema',\n",
       "       'Quality issue', 'Support devices', 'Wide mediastinum',\n",
       "       'Abnormal mediastinal contour', 'Acute fracture', 'Enlarged hilum',\n",
       "       'Hiatal hernia', 'High lung volume / emphysema',\n",
       "       'Interstitial lung disease', 'Lung nodule or mass',\n",
       "       'Pleural abnormality'],\n",
       "      dtype='object')"
      ]
     },
     "execution_count": 15,
     "metadata": {},
     "output_type": "execute_result"
    }
   ],
   "source": [
    "reflacx_meta_df.columns"
   ]
  },
  {
   "cell_type": "markdown",
   "metadata": {},
   "source": [
    "## Only keep the cases with identified `stay_id`"
   ]
  },
  {
   "cell_type": "code",
   "execution_count": 16,
   "metadata": {},
   "outputs": [],
   "source": [
    "# ! If I tracking data is needed, we need to uncomment this one.\n",
    "merged_df = merged_df[~merged_df[\"eye_tracking_data_discarded\"]]\n",
    "\n",
    "## only get the one with `stay_id`, so we can link to triage.csv\n",
    "merged_df = merged_df[~merged_df[\"stay_id\"].isna()]\n",
    "merged_df[\"stay_id\"] = merged_df[\"stay_id\"].astype(int)\n",
    "\n"
   ]
  },
  {
   "cell_type": "markdown",
   "metadata": {},
   "source": [
    "##  Calculate the age according to the time when the CXR taken."
   ]
  },
  {
   "cell_type": "code",
   "execution_count": 17,
   "metadata": {},
   "outputs": [],
   "source": [
    "merged_df[\"age\"] = merged_df[\"anchor_age\"] + (\n",
    "    merged_df[\"StudyDate\"].apply(lambda x: int(str(x)[:4])) - merged_df[\"anchor_year\"]\n",
    ")"
   ]
  },
  {
   "cell_type": "markdown",
   "metadata": {},
   "source": [
    "## Generating path for *CXR image* and *bounding ellipses*.\n",
    "We do this so we can locat them easily during training. When we load the data, we need to replace the `XAMI_MIMIC_PATH` in the path string to get the correct path to desired files."
   ]
  },
  {
   "cell_type": "code",
   "execution_count": 18,
   "metadata": {},
   "outputs": [],
   "source": [
    "## Calculate the age according to the time when the CXR taken.\n",
    "merged_df[\"image_path\"] = (\n",
    "    f\"{XAMI_MIMIC_PATH_str}\\patient_\"\n",
    "    + merged_df[\"subject_id\"].astype(str)\n",
    "    + \"\\CXR-JPG\\s\"\n",
    "    + merged_df[\"study_id\"].astype(str)\n",
    "    + \"\\\\\"\n",
    "    + merged_df[\"dicom_id\"].astype(str)\n",
    "    + \".jpg\"\n",
    ")\n",
    "merged_df[\"anomaly_location_ellipses_path\"] = (\n",
    "    f\"{XAMI_MIMIC_PATH_str}\\patient_\"\n",
    "    + merged_df[\"subject_id\"].astype(str)\n",
    "    + \"\\REFLACX\\\\\"\n",
    "    + merged_df[\"id\"].astype(str)\n",
    "    + \"\\\\anomaly_location_ellipses.csv\"\n",
    ")\n",
    "\n",
    "merged_df[\"fixations_path\"] = (\n",
    "    f\"{XAMI_MIMIC_PATH_str}\\patient_\"\n",
    "    + merged_df[\"subject_id\"].astype(str)\n",
    "    + \"\\REFLACX\\\\\"\n",
    "    + merged_df[\"id\"].astype(str)\n",
    "    + \"\\\\fixations.csv\"\n",
    ")\n",
    "\n",
    "\n",
    "\n"
   ]
  },
  {
   "cell_type": "markdown",
   "metadata": {},
   "source": [
    "# features filtering\n",
    "By indentified our needed columns, we can filter out the features we don't need."
   ]
  },
  {
   "cell_type": "code",
   "execution_count": 19,
   "metadata": {},
   "outputs": [],
   "source": [
    "needed_columns = [\n",
    "    # ids\n",
    "    \"id\",\n",
    "    \"dicom_id\",\n",
    "    \"subject_id\",\n",
    "    \"stay_id\",\n",
    "    \"study_id\",\n",
    "    # image meta\n",
    "    \"image_path\",\n",
    "    \"ViewPosition\",\n",
    "    \"image_size_x\",\n",
    "    \"image_size_y\",\n",
    "    \"anomaly_location_ellipses_path\",\n",
    "    \"fixations_path\",\n",
    "    # patients\n",
    "    \"age\",\n",
    "    \"gender\",\n",
    "    # triage\n",
    "    \"temperature\",\n",
    "    \"heartrate\",\n",
    "    \"resprate\",\n",
    "    \"o2sat\",\n",
    "    \"sbp\",\n",
    "    \"dbp\",\n",
    "    \"pain\",\n",
    "    \"acuity\",\n",
    "    # labels\n",
    "    \"Airway wall thickening\",\n",
    "    \"Atelectasis\",\n",
    "    \"Consolidation\",\n",
    "    \"Enlarged cardiac silhouette\",\n",
    "    \"Fibrosis\",\n",
    "    \"Groundglass opacity\",\n",
    "    \"Other\",\n",
    "    \"Pneumothorax\",\n",
    "    \"Pulmonary edema\",\n",
    "    \"Quality issue\",\n",
    "    \"Support devices\",\n",
    "    \"Wide mediastinum\",\n",
    "    \"Abnormal mediastinal contour\",\n",
    "    \"Acute fracture\",\n",
    "    \"Enlarged hilum\",\n",
    "    \"Hiatal hernia\",\n",
    "    \"High lung volume / emphysema\",\n",
    "    \"Interstitial lung disease\",\n",
    "    \"Lung nodule or mass\",\n",
    "    \"Pleural abnormality\",\n",
    "    'Fracture' # don't have any positive case\n",
    "]\n",
    "\n",
    "merged_df = merged_df[needed_columns]\n"
   ]
  },
  {
   "cell_type": "markdown",
   "metadata": {},
   "source": [
    "# Filling NaN value in the merged table.\n",
    "Previously, we have filled the missing value for `reflacx_meta_df`. However, more features are introduced while we added more columns thorugh left-joining other tables. Therefore, we need to replace the missing value that come from other table."
   ]
  },
  {
   "cell_type": "code",
   "execution_count": 20,
   "metadata": {},
   "outputs": [
    {
     "name": "stdout",
     "output_type": "stream",
     "text": [
      "====================Columns have missing value in merged_df====================\n",
      "[('temperature', 75), ('heartrate', 61), ('resprate', 69), ('o2sat', 65), ('sbp', 62), ('dbp', 64), ('pain', 83), ('acuity', 24)]\n"
     ]
    }
   ],
   "source": [
    "# Checking the columns that contian nan values (from other joined table).\n",
    "print_f.print_title(\"Columns have missing value in merged_df\")\n",
    "checkMissingValue(merged_df)\n"
   ]
  },
  {
   "cell_type": "markdown",
   "metadata": {},
   "source": [
    "### Filling NaN value by mean"
   ]
  },
  {
   "cell_type": "code",
   "execution_count": 22,
   "metadata": {},
   "outputs": [
    {
     "name": "stdout",
     "output_type": "stream",
     "text": [
      "filling missing value for temperature by value 98.10\n",
      "filling missing value for heartrate by value 85.70\n",
      "filling missing value for resprate by value 18.50\n",
      "filling missing value for o2sat by value 97.60\n",
      "filling missing value for sbp by value 132.30\n",
      "filling missing value for dbp by value 72.40\n",
      "filling missing value for pain by value 4.10\n",
      "filling missing value for acuity by value 2.20\n"
     ]
    }
   ],
   "source": [
    "# filling the nan value by mean\n",
    "\n",
    "for col in merged_df.columns:\n",
    "    if merged_df[col].isna().any():\n",
    "        filling_value = round(merged_df[~merged_df[col].isna()][col].mean(), 1)\n",
    "        print(f\"filling missing value for {col} by value {filling_value:.2f}\")\n",
    "        merged_df[col] = merged_df[col].fillna(filling_value)\n"
   ]
  },
  {
   "cell_type": "markdown",
   "metadata": {},
   "source": [
    "## Split them into train, val and test set."
   ]
  },
  {
   "cell_type": "code",
   "execution_count": 22,
   "metadata": {},
   "outputs": [],
   "source": [
    "merged_df['split'] = get_split_list(len(merged_df), train_portion=0.7)"
   ]
  },
  {
   "cell_type": "markdown",
   "metadata": {},
   "source": [
    "## The end of the dataframe looks like this: "
   ]
  },
  {
   "cell_type": "code",
   "execution_count": 28,
   "metadata": {},
   "outputs": [
    {
     "data": {
      "text/plain": [
       "66.30746268656716"
      ]
     },
     "execution_count": 28,
     "metadata": {},
     "output_type": "execute_result"
    }
   ],
   "source": [
    "merged_df.age.mean()"
   ]
  },
  {
   "cell_type": "code",
   "execution_count": 23,
   "metadata": {},
   "outputs": [
    {
     "data": {
      "text/plain": [
       "670"
      ]
     },
     "execution_count": 23,
     "metadata": {},
     "output_type": "execute_result"
    }
   ],
   "source": [
    "len(merged_df)"
   ]
  },
  {
   "cell_type": "code",
   "execution_count": 24,
   "metadata": {},
   "outputs": [
    {
     "data": {
      "text/html": [
       "<div>\n",
       "<style scoped>\n",
       "    .dataframe tbody tr th:only-of-type {\n",
       "        vertical-align: middle;\n",
       "    }\n",
       "\n",
       "    .dataframe tbody tr th {\n",
       "        vertical-align: top;\n",
       "    }\n",
       "\n",
       "    .dataframe thead th {\n",
       "        text-align: right;\n",
       "    }\n",
       "</style>\n",
       "<table border=\"1\" class=\"dataframe\">\n",
       "  <thead>\n",
       "    <tr style=\"text-align: right;\">\n",
       "      <th></th>\n",
       "      <th>id</th>\n",
       "      <th>dicom_id</th>\n",
       "      <th>subject_id</th>\n",
       "      <th>stay_id</th>\n",
       "      <th>study_id</th>\n",
       "      <th>image_path</th>\n",
       "      <th>ViewPosition</th>\n",
       "      <th>image_size_x</th>\n",
       "      <th>image_size_y</th>\n",
       "      <th>anomaly_location_ellipses_path</th>\n",
       "      <th>...</th>\n",
       "      <th>Abnormal mediastinal contour</th>\n",
       "      <th>Acute fracture</th>\n",
       "      <th>Enlarged hilum</th>\n",
       "      <th>Hiatal hernia</th>\n",
       "      <th>High lung volume / emphysema</th>\n",
       "      <th>Interstitial lung disease</th>\n",
       "      <th>Lung nodule or mass</th>\n",
       "      <th>Pleural abnormality</th>\n",
       "      <th>Fracture</th>\n",
       "      <th>split</th>\n",
       "    </tr>\n",
       "  </thead>\n",
       "  <tbody>\n",
       "    <tr>\n",
       "      <th>0</th>\n",
       "      <td>P102R108387</td>\n",
       "      <td>34cedb74-d0996b40-6d218312-a9174bea-d48dc033</td>\n",
       "      <td>18111516</td>\n",
       "      <td>32067002</td>\n",
       "      <td>55032240</td>\n",
       "      <td>{XAMI_MIMIC_PATH}\\patient_18111516\\CXR-JPG\\s55...</td>\n",
       "      <td>AP</td>\n",
       "      <td>2544</td>\n",
       "      <td>3056</td>\n",
       "      <td>{XAMI_MIMIC_PATH}\\patient_18111516\\REFLACX\\P10...</td>\n",
       "      <td>...</td>\n",
       "      <td>0.0</td>\n",
       "      <td>0.0</td>\n",
       "      <td>0.0</td>\n",
       "      <td>0.0</td>\n",
       "      <td>0.0</td>\n",
       "      <td>0.0</td>\n",
       "      <td>0.0</td>\n",
       "      <td>0.0</td>\n",
       "      <td>0.0</td>\n",
       "      <td>train</td>\n",
       "    </tr>\n",
       "    <tr>\n",
       "      <th>1</th>\n",
       "      <td>P102R379837</td>\n",
       "      <td>34cedb74-d0996b40-6d218312-a9174bea-d48dc033</td>\n",
       "      <td>18111516</td>\n",
       "      <td>32067002</td>\n",
       "      <td>55032240</td>\n",
       "      <td>{XAMI_MIMIC_PATH}\\patient_18111516\\CXR-JPG\\s55...</td>\n",
       "      <td>AP</td>\n",
       "      <td>2544</td>\n",
       "      <td>3056</td>\n",
       "      <td>{XAMI_MIMIC_PATH}\\patient_18111516\\REFLACX\\P10...</td>\n",
       "      <td>...</td>\n",
       "      <td>0.0</td>\n",
       "      <td>0.0</td>\n",
       "      <td>0.0</td>\n",
       "      <td>0.0</td>\n",
       "      <td>0.0</td>\n",
       "      <td>0.0</td>\n",
       "      <td>0.0</td>\n",
       "      <td>0.0</td>\n",
       "      <td>0.0</td>\n",
       "      <td>val</td>\n",
       "    </tr>\n",
       "    <tr>\n",
       "      <th>2</th>\n",
       "      <td>P102R558314</td>\n",
       "      <td>34cedb74-d0996b40-6d218312-a9174bea-d48dc033</td>\n",
       "      <td>18111516</td>\n",
       "      <td>32067002</td>\n",
       "      <td>55032240</td>\n",
       "      <td>{XAMI_MIMIC_PATH}\\patient_18111516\\CXR-JPG\\s55...</td>\n",
       "      <td>AP</td>\n",
       "      <td>2544</td>\n",
       "      <td>3056</td>\n",
       "      <td>{XAMI_MIMIC_PATH}\\patient_18111516\\REFLACX\\P10...</td>\n",
       "      <td>...</td>\n",
       "      <td>0.0</td>\n",
       "      <td>0.0</td>\n",
       "      <td>0.0</td>\n",
       "      <td>0.0</td>\n",
       "      <td>0.0</td>\n",
       "      <td>0.0</td>\n",
       "      <td>0.0</td>\n",
       "      <td>0.0</td>\n",
       "      <td>0.0</td>\n",
       "      <td>train</td>\n",
       "    </tr>\n",
       "    <tr>\n",
       "      <th>3</th>\n",
       "      <td>P102R765317</td>\n",
       "      <td>34cedb74-d0996b40-6d218312-a9174bea-d48dc033</td>\n",
       "      <td>18111516</td>\n",
       "      <td>32067002</td>\n",
       "      <td>55032240</td>\n",
       "      <td>{XAMI_MIMIC_PATH}\\patient_18111516\\CXR-JPG\\s55...</td>\n",
       "      <td>AP</td>\n",
       "      <td>2544</td>\n",
       "      <td>3056</td>\n",
       "      <td>{XAMI_MIMIC_PATH}\\patient_18111516\\REFLACX\\P10...</td>\n",
       "      <td>...</td>\n",
       "      <td>0.0</td>\n",
       "      <td>0.0</td>\n",
       "      <td>0.0</td>\n",
       "      <td>0.0</td>\n",
       "      <td>0.0</td>\n",
       "      <td>0.0</td>\n",
       "      <td>1.0</td>\n",
       "      <td>0.0</td>\n",
       "      <td>0.0</td>\n",
       "      <td>train</td>\n",
       "    </tr>\n",
       "    <tr>\n",
       "      <th>4</th>\n",
       "      <td>P102R915878</td>\n",
       "      <td>34cedb74-d0996b40-6d218312-a9174bea-d48dc033</td>\n",
       "      <td>18111516</td>\n",
       "      <td>32067002</td>\n",
       "      <td>55032240</td>\n",
       "      <td>{XAMI_MIMIC_PATH}\\patient_18111516\\CXR-JPG\\s55...</td>\n",
       "      <td>AP</td>\n",
       "      <td>2544</td>\n",
       "      <td>3056</td>\n",
       "      <td>{XAMI_MIMIC_PATH}\\patient_18111516\\REFLACX\\P10...</td>\n",
       "      <td>...</td>\n",
       "      <td>0.0</td>\n",
       "      <td>0.0</td>\n",
       "      <td>0.0</td>\n",
       "      <td>0.0</td>\n",
       "      <td>0.0</td>\n",
       "      <td>0.0</td>\n",
       "      <td>0.0</td>\n",
       "      <td>0.0</td>\n",
       "      <td>0.0</td>\n",
       "      <td>train</td>\n",
       "    </tr>\n",
       "  </tbody>\n",
       "</table>\n",
       "<p>5 rows × 43 columns</p>\n",
       "</div>"
      ],
      "text/plain": [
       "            id                                      dicom_id  subject_id  \\\n",
       "0  P102R108387  34cedb74-d0996b40-6d218312-a9174bea-d48dc033    18111516   \n",
       "1  P102R379837  34cedb74-d0996b40-6d218312-a9174bea-d48dc033    18111516   \n",
       "2  P102R558314  34cedb74-d0996b40-6d218312-a9174bea-d48dc033    18111516   \n",
       "3  P102R765317  34cedb74-d0996b40-6d218312-a9174bea-d48dc033    18111516   \n",
       "4  P102R915878  34cedb74-d0996b40-6d218312-a9174bea-d48dc033    18111516   \n",
       "\n",
       "    stay_id  study_id                                         image_path  \\\n",
       "0  32067002  55032240  {XAMI_MIMIC_PATH}\\patient_18111516\\CXR-JPG\\s55...   \n",
       "1  32067002  55032240  {XAMI_MIMIC_PATH}\\patient_18111516\\CXR-JPG\\s55...   \n",
       "2  32067002  55032240  {XAMI_MIMIC_PATH}\\patient_18111516\\CXR-JPG\\s55...   \n",
       "3  32067002  55032240  {XAMI_MIMIC_PATH}\\patient_18111516\\CXR-JPG\\s55...   \n",
       "4  32067002  55032240  {XAMI_MIMIC_PATH}\\patient_18111516\\CXR-JPG\\s55...   \n",
       "\n",
       "  ViewPosition  image_size_x  image_size_y  \\\n",
       "0           AP          2544          3056   \n",
       "1           AP          2544          3056   \n",
       "2           AP          2544          3056   \n",
       "3           AP          2544          3056   \n",
       "4           AP          2544          3056   \n",
       "\n",
       "                      anomaly_location_ellipses_path  ...  \\\n",
       "0  {XAMI_MIMIC_PATH}\\patient_18111516\\REFLACX\\P10...  ...   \n",
       "1  {XAMI_MIMIC_PATH}\\patient_18111516\\REFLACX\\P10...  ...   \n",
       "2  {XAMI_MIMIC_PATH}\\patient_18111516\\REFLACX\\P10...  ...   \n",
       "3  {XAMI_MIMIC_PATH}\\patient_18111516\\REFLACX\\P10...  ...   \n",
       "4  {XAMI_MIMIC_PATH}\\patient_18111516\\REFLACX\\P10...  ...   \n",
       "\n",
       "  Abnormal mediastinal contour  Acute fracture Enlarged hilum  Hiatal hernia  \\\n",
       "0                          0.0             0.0            0.0            0.0   \n",
       "1                          0.0             0.0            0.0            0.0   \n",
       "2                          0.0             0.0            0.0            0.0   \n",
       "3                          0.0             0.0            0.0            0.0   \n",
       "4                          0.0             0.0            0.0            0.0   \n",
       "\n",
       "   High lung volume / emphysema  Interstitial lung disease  \\\n",
       "0                           0.0                        0.0   \n",
       "1                           0.0                        0.0   \n",
       "2                           0.0                        0.0   \n",
       "3                           0.0                        0.0   \n",
       "4                           0.0                        0.0   \n",
       "\n",
       "   Lung nodule or mass  Pleural abnormality  Fracture  split  \n",
       "0                  0.0                  0.0       0.0  train  \n",
       "1                  0.0                  0.0       0.0    val  \n",
       "2                  0.0                  0.0       0.0  train  \n",
       "3                  1.0                  0.0       0.0  train  \n",
       "4                  0.0                  0.0       0.0  train  \n",
       "\n",
       "[5 rows x 43 columns]"
      ]
     },
     "execution_count": 24,
     "metadata": {},
     "output_type": "execute_result"
    }
   ],
   "source": [
    "merged_df.head(5)"
   ]
  },
  {
   "cell_type": "code",
   "execution_count": 25,
   "metadata": {},
   "outputs": [
    {
     "data": {
      "text/plain": [
       "OrderedDict([('Fracture', 0),\n",
       "             ('Fibrosis', 1),\n",
       "             ('Pneumothorax', 2),\n",
       "             ('Wide mediastinum', 3),\n",
       "             ('Quality issue', 3),\n",
       "             ('Airway wall thickening', 4),\n",
       "             ('Acute fracture', 4),\n",
       "             ('Hiatal hernia', 7),\n",
       "             ('Interstitial lung disease', 11),\n",
       "             ('Enlarged hilum', 12),\n",
       "             ('High lung volume / emphysema', 19),\n",
       "             ('Abnormal mediastinal contour', 20),\n",
       "             ('Lung nodule or mass', 42),\n",
       "             ('Groundglass opacity', 61),\n",
       "             ('Pulmonary edema', 85),\n",
       "             ('Consolidation', 112),\n",
       "             ('Pleural abnormality', 138),\n",
       "             ('Atelectasis', 143),\n",
       "             ('Enlarged cardiac silhouette', 154),\n",
       "             ('Support devices', 189)])"
      ]
     },
     "execution_count": 25,
     "metadata": {},
     "output_type": "execute_result"
    }
   ],
   "source": [
    "from collections import OrderedDict\n",
    "\n",
    "count_map = dict((merged_df[labels_cols]>0).sum(axis=0))\n",
    "OrderedDict({k: v for k, v in sorted(count_map.items(), key=lambda item: item[1])})"
   ]
  },
  {
   "cell_type": "markdown",
   "metadata": {},
   "source": [
    "## Output the preprocessed data to `reflacx_with_clinical.csv`.\n",
    "We can export the preprocessed data to the root of local working, so other dataloaders can load them while training. "
   ]
  },
  {
   "cell_type": "code",
   "execution_count": 26,
   "metadata": {},
   "outputs": [],
   "source": [
    "merged_df = merged_df.reset_index()\n",
    "merged_df.to_csv(os.path.join(SPREADSHEET_FOLDER, \"reflacx_with_clinical.csv\"))"
   ]
  },
  {
   "cell_type": "markdown",
   "metadata": {},
   "source": [
    "# Create another Dataframe for unique `dicom_id`"
   ]
  },
  {
   "cell_type": "code",
   "execution_count": 27,
   "metadata": {},
   "outputs": [],
   "source": [
    "u_idxs = [merged_df.dicom_id.eq(u_id).idxmax() for u_id in merged_df.dicom_id.unique()]"
   ]
  },
  {
   "cell_type": "code",
   "execution_count": 28,
   "metadata": {},
   "outputs": [],
   "source": [
    "u_df = merged_df.loc[u_idxs]\n",
    "u_df['split'] = get_split_list(len(u_df), train_portion=0.7)"
   ]
  },
  {
   "cell_type": "markdown",
   "metadata": {},
   "source": [
    "## Remap the bounding bxoes and fixations to a single CXR image"
   ]
  },
  {
   "cell_type": "code",
   "execution_count": 29,
   "metadata": {},
   "outputs": [],
   "source": [
    "all_bbox_paths = []\n",
    "all_fixations_paths = []\n",
    "\n",
    "for idx, row in u_df.iterrows():\n",
    "    bbox_paths = list(merged_df[merged_df.dicom_id.eq(row['dicom_id'])]['anomaly_location_ellipses_path'])\n",
    "    fixatinos_paths = list(merged_df[merged_df.dicom_id.eq(row['dicom_id'])]['fixations_path'])\n",
    "    all_bbox_paths.append(json.dumps(bbox_paths))\n",
    "    all_fixations_paths.append(json.dumps(fixatinos_paths))\n",
    "\n",
    "u_df['bbox_paths'] = all_bbox_paths\n",
    "u_df['fixations_path'] = all_fixations_paths\n"
   ]
  },
  {
   "cell_type": "code",
   "execution_count": 30,
   "metadata": {},
   "outputs": [
    {
     "data": {
      "text/plain": [
       "OrderedDict([('Fibrosis', 0),\n",
       "             ('Fracture', 0),\n",
       "             ('Wide mediastinum', 0),\n",
       "             ('Airway wall thickening', 1),\n",
       "             ('Quality issue', 1),\n",
       "             ('Pneumothorax', 2),\n",
       "             ('Acute fracture', 4),\n",
       "             ('Hiatal hernia', 6),\n",
       "             ('Interstitial lung disease', 9),\n",
       "             ('Enlarged hilum', 12),\n",
       "             ('High lung volume / emphysema', 15),\n",
       "             ('Abnormal mediastinal contour', 17),\n",
       "             ('Lung nodule or mass', 35),\n",
       "             ('Groundglass opacity', 53),\n",
       "             ('Pulmonary edema', 71),\n",
       "             ('Consolidation', 101),\n",
       "             ('Atelectasis', 117),\n",
       "             ('Pleural abnormality', 117),\n",
       "             ('Enlarged cardiac silhouette', 127),\n",
       "             ('Support devices', 169)])"
      ]
     },
     "execution_count": 30,
     "metadata": {},
     "output_type": "execute_result"
    }
   ],
   "source": [
    "from collections import OrderedDict\n",
    "\n",
    "count_map = dict((u_df[labels_cols] >0 ).sum(axis=0))\n",
    "OrderedDict({k: v for k, v in sorted(count_map.items(), key=lambda item: item[1])})"
   ]
  },
  {
   "cell_type": "code",
   "execution_count": 31,
   "metadata": {},
   "outputs": [],
   "source": [
    "import matplotlib.pyplot as plt\n",
    "\n",
    "def sort_dict(d, desc=True):\n",
    "    return dict(sorted(d.items(), key=lambda item: item[1] * (1 if desc else -1) ))\n",
    "    \n",
    "def plot_dist(count_dict, fig_size =(20,10)):\n",
    "    plt.rcParams.update({'font.size': 20})\n",
    "    fig = plt.figure(figsize=fig_size)\n",
    "    keys_list = list(count_dict.keys())\n",
    "    plt.barh(keys_list, [ count_dict[k] for k in keys_list])"
   ]
  },
  {
   "cell_type": "code",
   "execution_count": 32,
   "metadata": {},
   "outputs": [
    {
     "data": {
      "image/png": "[encoded data removed]",
      "text/plain": [
       "<Figure size 1440x720 with 1 Axes>"
      ]
     },
     "metadata": {
      "needs_background": "light"
     },
     "output_type": "display_data"
    }
   ],
   "source": [
    "plot_dist(sort_dict(count_map))"
   ]
  },
  {
   "cell_type": "code",
   "execution_count": 33,
   "metadata": {},
   "outputs": [],
   "source": [
    "u_df = u_df.reset_index()\n",
    "u_df.to_csv(os.path.join(SPREADSHEET_FOLDER, 'reflacx_u_df.csv'))"
   ]
  }
 ],
 "metadata": {
  "interpreter": {
   "hash": "52a48fdedee40b77eb251917c5aa239bf02f1ab8c93cc13fe7347f570eadc6b9"
  },
  "kernelspec": {
   "display_name": "Python 3.9.7 ('pytorch')",
   "language": "python",
   "name": "python3"
  },
  "language_info": {
   "codemirror_mode": {
    "name": "ipython",
    "version": 3
   },
   "file_extension": ".py",
   "mimetype": "text/x-python",
   "name": "python",
   "nbconvert_exporter": "python",
   "pygments_lexer": "ipython3",
   "version": "3.9.7"
  },
  "orig_nbformat": 4
 },
 "nbformat": 4,
 "nbformat_minor": 2
}
