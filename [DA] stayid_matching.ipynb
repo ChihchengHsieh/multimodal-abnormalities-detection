{
 "cells": [
  {
   "cell_type": "code",
   "execution_count": 1,
   "metadata": {},
   "outputs": [],
   "source": [
    "import os, math, datetime\n",
    "\n",
    "import pandas as pd\n",
    "import numpy as np\n",
    "\n",
    "from tqdm import tqdm"
   ]
  },
  {
   "cell_type": "code",
   "execution_count": 2,
   "metadata": {},
   "outputs": [],
   "source": [
    "physio_file_path = \"E:\\\\physionet.org\\\\files\\\\\"\n",
    "\n",
    "def time_string_to_float(x):\n",
    "    return float('inf') if type(x) is float and math.isnan(x) else float(x.replace(\"-\", \"\").replace(\"/\", \"\").replace(\" \", \"\").replace(\":\", \"\"))\n",
    "\n",
    "def fill_time(time_flaot): \n",
    "    zero_in_front_times = 5 - int(np.log10(time_flaot))\n",
    "    return \"0\"*zero_in_front_times + str(time_flaot)\n",
    "\n",
    "def get_datetime_from_float(float_time):\n",
    "    str_time = str(int(float_time))\n",
    "    return datetime.datetime(\n",
    "        year=int(str_time[:4]),\n",
    "        month=int(str_time[4:6]),\n",
    "        day=int(str_time[6:8]),\n",
    "        hour=int(str_time[8:10]),\n",
    "        minute=int(str_time[8:10]),\n",
    "        second= int(str_time[12:14]),\n",
    "    )"
   ]
  },
  {
   "cell_type": "code",
   "execution_count": 3,
   "metadata": {},
   "outputs": [],
   "source": [
    "cxr_meta_df = pd.read_csv(os.path.join( physio_file_path, \"mimic-cxr-jpg\\\\2.0.0\\mimic-cxr-2.0.0-metadata.csv.gz\"))\n",
    "triage_df = pd.read_csv(os.path.join( physio_file_path, \"mimic-iv-ed\\\\2.0\\\\ed\\\\triage.csv.gz\"))\n",
    "ed_stay_df = pd.read_csv(os.path.join( physio_file_path, \"mimic-iv-ed\\\\2.0\\\\ed\\\\edstays.csv.gz\"))\n",
    "patient_df = pd.read_csv(os.path.join( physio_file_path, \"mimiciv\\\\2.0\\\\hosp\\\\patients.csv.gz\"))\n",
    "reflacx_df  = pd.concat([pd.read_csv(os.path.join(\n",
    "    physio_file_path, \"reflacx-xray-localization\\\\1.0.0\\\\main_data\", f\"metadata_phase_{i}.csv\")) for i in range(1, 4)])\n",
    "eye_gaze_df = pd.read_csv(os.path.join(physio_file_path, \"egd-cxr\\\\1.0.0\\\\master_sheet.csv\"))\n",
    "icu_df = pd.read_csv(os.path.join(physio_file_path, \"mimiciv\\\\2.0\\\\icu\\\\icustays.csv.gz\"))\n",
    "\n",
    "triage_patients = triage_df['subject_id'].unique()\n",
    "reflacx_patients = reflacx_df['subject_id'].unique()\n",
    "cxr_patients = cxr_meta_df['subject_id'].unique()\n",
    "mimic_patients = patient_df['subject_id'].unique()\n",
    "eye_gaze_patients = eye_gaze_df['patient_id'].unique()\n",
    "icu_patients = icu_df[\"subject_id\"].unique()\n"
   ]
  },
  {
   "cell_type": "code",
   "execution_count": 4,
   "metadata": {},
   "outputs": [],
   "source": [
    "all_dicom_id_in_reflacx = list(reflacx_df['dicom_id'])\n",
    "cxr_meta_df['in_reflacx'] = cxr_meta_df[\"dicom_id\"].isin(all_dicom_id_in_reflacx)"
   ]
  },
  {
   "cell_type": "code",
   "execution_count": 5,
   "metadata": {},
   "outputs": [],
   "source": [
    "cxr_meta_df['StudyDateTime']  = [float(str(d) + fill_time(t))\n",
    " for d, t in zip(cxr_meta_df['StudyDate'], cxr_meta_df['StudyTime'])]\n",
    "\n",
    "\n",
    "# cxr_meta_df['StudyDateTime']  = [float(str(d) + str(t))\n",
    "#  for d, t in zip(cxr_meta_df['StudyDate'], cxr_meta_df['StudyTime'])]\n",
    "\n",
    "# Initialise stay_id\n",
    "cxr_meta_df['stay_id'] = None\n",
    "\n",
    "\n",
    "\n",
    "ed_stay_df['intime_float'] = ed_stay_df.intime.apply(time_string_to_float)\n",
    "ed_stay_df['outtime_float'] = ed_stay_df.outtime.apply(time_string_to_float)"
   ]
  },
  {
   "cell_type": "code",
   "execution_count": 6,
   "metadata": {},
   "outputs": [
    {
     "name": "stderr",
     "output_type": "stream",
     "text": [
      "  0%|          | 1/377110 [00:00<16:43:38,  6.26it/s]C:\\Users\\mike8\\AppData\\Local\\Temp/ipykernel_30404/2248999545.py:41: SettingWithCopyWarning: \n",
      "A value is trying to be set on a copy of a slice from a DataFrame.\n",
      "Try using .loc[row_indexer,col_indexer] = value instead\n",
      "\n",
      "See the caveats in the documentation: https://pandas.pydata.org/pandas-docs/stable/user_guide/indexing.html#returning-a-view-versus-a-copy\n",
      "  patient_match[\"intime_obj\"] = patient_match.intime_float.apply(get_datetime_from_float)\n",
      "C:\\Users\\mike8\\AppData\\Local\\Temp/ipykernel_30404/2248999545.py:42: SettingWithCopyWarning: \n",
      "A value is trying to be set on a copy of a slice from a DataFrame.\n",
      "Try using .loc[row_indexer,col_indexer] = value instead\n",
      "\n",
      "See the caveats in the documentation: https://pandas.pydata.org/pandas-docs/stable/user_guide/indexing.html#returning-a-view-versus-a-copy\n",
      "  patient_match[\"outtime_obj\"] = patient_match.outtime_float.apply(get_datetime_from_float)\n",
      "C:\\Users\\mike8\\AppData\\Local\\Temp/ipykernel_30404/2248999545.py:45: SettingWithCopyWarning: \n",
      "A value is trying to be set on a copy of a slice from a DataFrame.\n",
      "Try using .loc[row_indexer,col_indexer] = value instead\n",
      "\n",
      "See the caveats in the documentation: https://pandas.pydata.org/pandas-docs/stable/user_guide/indexing.html#returning-a-view-versus-a-copy\n",
      "  patient_match[\"intime_diff\"] =  patient_match[\"intime_obj\"].apply(lambda x: abs((x- cxr_time).days))\n",
      "C:\\Users\\mike8\\AppData\\Local\\Temp/ipykernel_30404/2248999545.py:46: SettingWithCopyWarning: \n",
      "A value is trying to be set on a copy of a slice from a DataFrame.\n",
      "Try using .loc[row_indexer,col_indexer] = value instead\n",
      "\n",
      "See the caveats in the documentation: https://pandas.pydata.org/pandas-docs/stable/user_guide/indexing.html#returning-a-view-versus-a-copy\n",
      "  patient_match[\"outtime_diff\"] = patient_match['intime_obj'].apply(lambda x: abs((x- cxr_time).days))\n",
      "C:\\Users\\mike8\\AppData\\Local\\Temp/ipykernel_30404/2248999545.py:49: SettingWithCopyWarning: \n",
      "A value is trying to be set on a copy of a slice from a DataFrame.\n",
      "Try using .loc[row_indexer,col_indexer] = value instead\n",
      "\n",
      "See the caveats in the documentation: https://pandas.pydata.org/pandas-docs/stable/user_guide/indexing.html#returning-a-view-versus-a-copy\n",
      "  patient_match[\"min_diff\"] = patient_match[[\"intime_diff\", \"outtime_diff\"]].min(axis=1)\n",
      "c:\\Users\\mike8\\anaconda3\\envs\\pytorch\\lib\\site-packages\\pandas\\util\\_decorators.py:311: SettingWithCopyWarning: \n",
      "A value is trying to be set on a copy of a slice from a DataFrame\n",
      "\n",
      "See the caveats in the documentation: https://pandas.pydata.org/pandas-docs/stable/user_guide/indexing.html#returning-a-view-versus-a-copy\n",
      "  return func(*args, **kwargs)\n",
      "100%|██████████| 377110/377110 [13:42<00:00, 458.59it/s]\n"
     ]
    }
   ],
   "source": [
    "out_of_stay_range_but_only_have_one = []\n",
    "cxr_cannot_find_stay = []\n",
    "has_patient_match_only = [] # f\n",
    "has_multiple_match  =[]  # cases that have multiple match\n",
    "in_days = [] # in the limit of day range.\n",
    "\n",
    "with tqdm(total= len(cxr_meta_df)) as pbar:\n",
    "    for idx, cxr_meta_instance in cxr_meta_df.iterrows():\n",
    "        dicom_id = cxr_meta_instance['dicom_id']\n",
    "        \n",
    "        study_time = cxr_meta_instance[\"StudyDateTime\"]\n",
    "\n",
    "        patient_match = ed_stay_df[\n",
    "            (ed_stay_df.subject_id == cxr_meta_instance.subject_id)  \n",
    "        ]\n",
    "\n",
    "        # if (len(patient_match) == 1 ):\n",
    "        #     ed_stay_time_match = patient_match\n",
    "        # else:\n",
    "            # if (len(patient_match) > 0):\n",
    "        ed_stay_time_match = patient_match[\n",
    "            (patient_match.intime_float < study_time) &\n",
    "            (patient_match.outtime_float > study_time)\n",
    "        ]\n",
    "\n",
    "        if (len(ed_stay_time_match) == 1):\n",
    "            stay_id = ed_stay_time_match.iloc[0]['stay_id']\n",
    "            cxr_meta_df.at[idx,\"stay_id\"] = stay_id\n",
    "            # out_of_stay_range_but_only_have_one.append(cxr_meta_df)\n",
    "\n",
    "        elif (len(ed_stay_time_match) > 1):\n",
    "            # ed_stay_time_match\n",
    "            # raise StopIteration(f\"Has multiple match in {idx}\")\n",
    "            has_multiple_match.append(cxr_meta_instance)\n",
    "            #     ## we find the closest.\n",
    "\n",
    "        elif (len(ed_stay_time_match) == 0) and len(patient_match) > 0:\n",
    "            # raise StopIteration(f\"Has patient match only {idx}\")\n",
    "\n",
    "            cxr_time = get_datetime_from_float(cxr_meta_instance['StudyDateTime'])\n",
    "            patient_match[\"intime_obj\"] = patient_match.intime_float.apply(get_datetime_from_float)\n",
    "            patient_match[\"outtime_obj\"] = patient_match.outtime_float.apply(get_datetime_from_float)\n",
    "\n",
    "            # calculate the time diff here.\n",
    "            patient_match[\"intime_diff\"] =  patient_match[\"intime_obj\"].apply(lambda x: abs((x- cxr_time).days))\n",
    "            patient_match[\"outtime_diff\"] = patient_match['intime_obj'].apply(lambda x: abs((x- cxr_time).days))\n",
    "            \n",
    "            # get the closest \n",
    "            patient_match[\"min_diff\"] = patient_match[[\"intime_diff\", \"outtime_diff\"]].min(axis=1)\n",
    "\n",
    "            patient_match.sort_values(\"min_diff\", ascending=True, axis=0, inplace=True)\n",
    "\n",
    "            # check 1st instance and set limitation here:\n",
    "            if (patient_match.iloc[0]['min_diff'] <= 7):\n",
    "                in_days.append(cxr_meta_instance)\n",
    "                cxr_meta_df.at[idx,\"stay_id\"] = patient_match.iloc[0]['stay_id']\n",
    "\n",
    "            has_patient_match_only.append(cxr_meta_instance)\n",
    "        else:\n",
    "            # print(f\"Having problem with {dicom_id} CXR iamge, it has {len(ed_stay_time_match)} matches.\")\n",
    "\n",
    "            # raise StopIteration(f\"Can't find stay_id in #{idx} instance\")\n",
    "            cxr_cannot_find_stay.append(cxr_meta_instance)\n",
    "\n",
    "        pbar.update(1)"
   ]
  },
  {
   "cell_type": "code",
   "execution_count": 7,
   "metadata": {},
   "outputs": [
    {
     "name": "stdout",
     "output_type": "stream",
     "text": [
      "With the limitation of days, 83592 more stays have their stay_id identified.\n",
      "Still have 123453 CXRs without stay_id, which is  32.74% of the MIMIC-CXR dataset\n"
     ]
    },
    {
     "ename": "AttributeError",
     "evalue": "'DataFrame' object has no attribute 'in_reflacx'",
     "output_type": "error",
     "traceback": [
      "\u001b[1;31m---------------------------------------------------------------------------\u001b[0m",
      "\u001b[1;31mAttributeError\u001b[0m                            Traceback (most recent call last)",
      "\u001b[1;32m~\\AppData\\Local\\Temp/ipykernel_30404/3924478788.py\u001b[0m in \u001b[0;36m<module>\u001b[1;34m\u001b[0m\n\u001b[0;32m      1\u001b[0m \u001b[0mprint\u001b[0m\u001b[1;33m(\u001b[0m\u001b[1;34mf\"With the limitation of days, {len(in_days)} more stays have their stay_id identified.\"\u001b[0m\u001b[1;33m)\u001b[0m\u001b[1;33m\u001b[0m\u001b[1;33m\u001b[0m\u001b[0m\n\u001b[0;32m      2\u001b[0m \u001b[0mprint\u001b[0m\u001b[1;33m(\u001b[0m\u001b[1;34mf\"Still have {len(cxr_meta_df[cxr_meta_df.stay_id.isnull()])} CXRs without stay_id, which is  {(len(cxr_meta_df[cxr_meta_df.stay_id.isnull()])/ len(cxr_meta_df))*100:.2f}% of the MIMIC-CXR dataset\"\u001b[0m\u001b[1;33m)\u001b[0m\u001b[1;33m\u001b[0m\u001b[1;33m\u001b[0m\u001b[0m\n\u001b[1;32m----> 3\u001b[1;33m \u001b[0mprint\u001b[0m\u001b[1;33m(\u001b[0m\u001b[1;34mf\"In terms of REFLACX dataset, it has {len(cxr_meta_df[cxr_meta_df.in_reflacx & cxr_meta_df.stay_id.isnull()])} cases without stay_id, which is {len(cxr_meta_df[cxr_meta_df.in_reflacx & cxr_meta_df.stay_id.isnull()])/ len(cxr_meta_df[cxr_meta_df.in_reflacx])*100:.2f}% of REFLACX dataset.\"\u001b[0m\u001b[1;33m)\u001b[0m\u001b[1;33m\u001b[0m\u001b[1;33m\u001b[0m\u001b[0m\n\u001b[0m",
      "\u001b[1;32mc:\\Users\\mike8\\anaconda3\\envs\\pytorch\\lib\\site-packages\\pandas\\core\\generic.py\u001b[0m in \u001b[0;36m__getattr__\u001b[1;34m(self, name)\u001b[0m\n\u001b[0;32m   5485\u001b[0m         ):\n\u001b[0;32m   5486\u001b[0m             \u001b[1;32mreturn\u001b[0m \u001b[0mself\u001b[0m\u001b[1;33m[\u001b[0m\u001b[0mname\u001b[0m\u001b[1;33m]\u001b[0m\u001b[1;33m\u001b[0m\u001b[1;33m\u001b[0m\u001b[0m\n\u001b[1;32m-> 5487\u001b[1;33m         \u001b[1;32mreturn\u001b[0m \u001b[0mobject\u001b[0m\u001b[1;33m.\u001b[0m\u001b[0m__getattribute__\u001b[0m\u001b[1;33m(\u001b[0m\u001b[0mself\u001b[0m\u001b[1;33m,\u001b[0m \u001b[0mname\u001b[0m\u001b[1;33m)\u001b[0m\u001b[1;33m\u001b[0m\u001b[1;33m\u001b[0m\u001b[0m\n\u001b[0m\u001b[0;32m   5488\u001b[0m \u001b[1;33m\u001b[0m\u001b[0m\n\u001b[0;32m   5489\u001b[0m     \u001b[1;32mdef\u001b[0m \u001b[0m__setattr__\u001b[0m\u001b[1;33m(\u001b[0m\u001b[0mself\u001b[0m\u001b[1;33m,\u001b[0m \u001b[0mname\u001b[0m\u001b[1;33m:\u001b[0m \u001b[0mstr\u001b[0m\u001b[1;33m,\u001b[0m \u001b[0mvalue\u001b[0m\u001b[1;33m)\u001b[0m \u001b[1;33m->\u001b[0m \u001b[1;32mNone\u001b[0m\u001b[1;33m:\u001b[0m\u001b[1;33m\u001b[0m\u001b[1;33m\u001b[0m\u001b[0m\n",
      "\u001b[1;31mAttributeError\u001b[0m: 'DataFrame' object has no attribute 'in_reflacx'"
     ]
    }
   ],
   "source": [
    "print(f\"With the limitation of days, {len(in_days)} more stays have their stay_id identified.\")\n",
    "print(f\"Still have {len(cxr_meta_df[cxr_meta_df.stay_id.isnull()])} CXRs without stay_id, which is  {(len(cxr_meta_df[cxr_meta_df.stay_id.isnull()])/ len(cxr_meta_df))*100:.2f}% of the MIMIC-CXR dataset\")\n",
    "print(f\"In terms of REFLACX dataset, it has {len(cxr_meta_df[cxr_meta_df.in_reflacx & cxr_meta_df.stay_id.isnull()])} cases without stay_id, which is {len(cxr_meta_df[cxr_meta_df.in_reflacx & cxr_meta_df.stay_id.isnull()])/ len(cxr_meta_df[cxr_meta_df.in_reflacx])*100:.2f}% of REFLACX dataset.\")"
   ]
  },
  {
   "cell_type": "code",
   "execution_count": 9,
   "metadata": {},
   "outputs": [
    {
     "data": {
      "text/plain": [
       "Index(['dicom_id', 'subject_id', 'study_id',\n",
       "       'PerformedProcedureStepDescription', 'ViewPosition', 'Rows', 'Columns',\n",
       "       'StudyDate', 'StudyTime', 'ProcedureCodeSequence_CodeMeaning',\n",
       "       'ViewCodeSequence_CodeMeaning',\n",
       "       'PatientOrientationCodeSequence_CodeMeaning', 'StudyDateTime',\n",
       "       'stay_id'],\n",
       "      dtype='object')"
      ]
     },
     "execution_count": 9,
     "metadata": {},
     "output_type": "execute_result"
    }
   ],
   "source": [
    "cxr_meta_df.columns"
   ]
  },
  {
   "cell_type": "code",
   "execution_count": 8,
   "metadata": {},
   "outputs": [
    {
     "ename": "AttributeError",
     "evalue": "'DataFrame' object has no attribute 'in_reflacx'",
     "output_type": "error",
     "traceback": [
      "\u001b[1;31m---------------------------------------------------------------------------\u001b[0m",
      "\u001b[1;31mAttributeError\u001b[0m                            Traceback (most recent call last)",
      "\u001b[1;32m~\\AppData\\Local\\Temp/ipykernel_30404/1832572198.py\u001b[0m in \u001b[0;36m<module>\u001b[1;34m\u001b[0m\n\u001b[1;32m----> 1\u001b[1;33m \u001b[0mcxr_meta_df\u001b[0m\u001b[1;33m.\u001b[0m\u001b[0min_reflacx\u001b[0m\u001b[1;33m\u001b[0m\u001b[1;33m\u001b[0m\u001b[0m\n\u001b[0m",
      "\u001b[1;32mc:\\Users\\mike8\\anaconda3\\envs\\pytorch\\lib\\site-packages\\pandas\\core\\generic.py\u001b[0m in \u001b[0;36m__getattr__\u001b[1;34m(self, name)\u001b[0m\n\u001b[0;32m   5485\u001b[0m         ):\n\u001b[0;32m   5486\u001b[0m             \u001b[1;32mreturn\u001b[0m \u001b[0mself\u001b[0m\u001b[1;33m[\u001b[0m\u001b[0mname\u001b[0m\u001b[1;33m]\u001b[0m\u001b[1;33m\u001b[0m\u001b[1;33m\u001b[0m\u001b[0m\n\u001b[1;32m-> 5487\u001b[1;33m         \u001b[1;32mreturn\u001b[0m \u001b[0mobject\u001b[0m\u001b[1;33m.\u001b[0m\u001b[0m__getattribute__\u001b[0m\u001b[1;33m(\u001b[0m\u001b[0mself\u001b[0m\u001b[1;33m,\u001b[0m \u001b[0mname\u001b[0m\u001b[1;33m)\u001b[0m\u001b[1;33m\u001b[0m\u001b[1;33m\u001b[0m\u001b[0m\n\u001b[0m\u001b[0;32m   5488\u001b[0m \u001b[1;33m\u001b[0m\u001b[0m\n\u001b[0;32m   5489\u001b[0m     \u001b[1;32mdef\u001b[0m \u001b[0m__setattr__\u001b[0m\u001b[1;33m(\u001b[0m\u001b[0mself\u001b[0m\u001b[1;33m,\u001b[0m \u001b[0mname\u001b[0m\u001b[1;33m:\u001b[0m \u001b[0mstr\u001b[0m\u001b[1;33m,\u001b[0m \u001b[0mvalue\u001b[0m\u001b[1;33m)\u001b[0m \u001b[1;33m->\u001b[0m \u001b[1;32mNone\u001b[0m\u001b[1;33m:\u001b[0m\u001b[1;33m\u001b[0m\u001b[1;33m\u001b[0m\u001b[0m\n",
      "\u001b[1;31mAttributeError\u001b[0m: 'DataFrame' object has no attribute 'in_reflacx'"
     ]
    }
   ],
   "source": [
    "cxr_meta_df.in_reflacx"
   ]
  },
  {
   "cell_type": "code",
   "execution_count": null,
   "metadata": {},
   "outputs": [],
   "source": []
  },
  {
   "cell_type": "code",
   "execution_count": null,
   "metadata": {},
   "outputs": [],
   "source": []
  },
  {
   "cell_type": "code",
   "execution_count": null,
   "metadata": {},
   "outputs": [],
   "source": []
  },
  {
   "cell_type": "code",
   "execution_count": null,
   "metadata": {},
   "outputs": [],
   "source": []
  }
 ],
 "metadata": {
  "kernelspec": {
   "display_name": "Python 3.9.7 ('pytorch')",
   "language": "python",
   "name": "python3"
  },
  "language_info": {
   "codemirror_mode": {
    "name": "ipython",
    "version": 3
   },
   "file_extension": ".py",
   "mimetype": "text/x-python",
   "name": "python",
   "nbconvert_exporter": "python",
   "pygments_lexer": "ipython3",
   "version": "3.9.7"
  },
  "orig_nbformat": 4,
  "vscode": {
   "interpreter": {
    "hash": "52a48fdedee40b77eb251917c5aa239bf02f1ab8c93cc13fe7347f570eadc6b9"
   }
  }
 },
 "nbformat": 4,
 "nbformat_minor": 2
}
