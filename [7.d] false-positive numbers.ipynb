{
 "cells": [
  {
   "cell_type": "code",
   "execution_count": 1,
   "metadata": {},
   "outputs": [],
   "source": [
    "import os, gc, torch\n",
    "\n",
    "import numpy as np\n",
    "import pandas as pd\n",
    "# from models.load import TrainedModels\n",
    "\n",
    "from utils.eval import save_iou_results\n",
    "from utils.engine import xami_evaluate, get_iou_types\n",
    "from models.load import get_trained_model\n",
    "from utils.coco_eval import get_eval_params_dict\n",
    "from data.datasets import  OurRadiologsitsDataset, collate_fn\n",
    "from our_radiologist.load import get_anns\n",
    "from utils.coco_utils import get_cocos, get_coco_api_from_dataset\n",
    "from utils.eval import get_ap_ar, get_num_fps, get_num_fns, get_num_tps\n",
    "from utils.print import print_title\n",
    "from utils.init import reproducibility, clean_memory_get_device\n",
    "from data.load import get_datasets, get_dataloaders\n",
    "from data.constants import XAMI_MIMIC_PATH, DEFAULT_REFLACX_LABEL_COLS\n",
    "from utils.constants import full_iou_thrs, iou_thrs_5to95\n",
    "from data.load  import seed_worker, get_dataloader_g\n",
    "from tqdm import tqdm\n",
    "\n",
    "\n",
    "from data.transforms import get_transform\n",
    "from data.datasets import ReflacxDataset\n",
    "from torch.utils.data import DataLoader\n",
    "\n",
    "## Suppress the assignement warning from pandas.\n",
    "pd.options.mode.chained_assignment = None  # default='warn\n",
    "\n",
    "## Supress user warning\n",
    "import warnings\n",
    "warnings.filterwarnings(\"ignore\", category=UserWarning)\n",
    "\n",
    "%matplotlib inline"
   ]
  },
  {
   "cell_type": "code",
   "execution_count": 2,
   "metadata": {},
   "outputs": [
    {
     "name": "stdout",
     "output_type": "stream",
     "text": [
      "This notebook will running on device: [CUDA]\n"
     ]
    }
   ],
   "source": [
    "device = clean_memory_get_device()\n",
    "reproducibility()"
   ]
  },
  {
   "cell_type": "code",
   "execution_count": 3,
   "metadata": {},
   "outputs": [],
   "source": [
    "from enum import Enum\n",
    "\n",
    "class TrainedModels(Enum):\n",
    "    CXR_Clinial_fusion1_fusion2=\"val_ar_0_5436_ap_0_1911_test_ar_0_5476_ap_0_3168_epoch49_WithClincal_05-23-2022 12-06-22_CXR_Clinical_roi_heads_spatialisation\"\n",
    "    CXR_Clinical_fusion1 = \"val_ar_0_5476_ap_0_1984_test_ar_0_6038_ap_0_2757_epoch41_WithClincal_05-30-2022 08-01-54_CXR_Clinical_fusion1\"\n",
    "    CXR_Clinical_fusion2= \"val_ar_0_4369_ap_0_2098_test_ar_0_4940_ap_0_2218_epoch58_WithClincal_05-30-2022 13-58-43_CXR_Clinical_fusion2\"\n",
    "    CXR=\"val_ar_0_5659_ap_0_1741_test_ar_0_5390_ap_0_1961_epoch36_WithoutClincal_05-29-2022 12-29-51_CXR\""
   ]
  },
  {
   "cell_type": "code",
   "execution_count": 4,
   "metadata": {},
   "outputs": [],
   "source": [
    "naming_map = {\n",
    "    TrainedModels.CXR: \"Mask R-CNN (Baseline)\",\n",
    "    TrainedModels.CXR_Clinical_fusion1: \"MSF-Net (3D)\",\n",
    "    TrainedModels.CXR_Clinical_fusion2: \"MSF-Net (1D)\",\n",
    "    TrainedModels.CXR_Clinial_fusion1_fusion2: \"MDF-Net\"\n",
    "}\n"
   ]
  },
  {
   "cell_type": "code",
   "execution_count": 5,
   "metadata": {},
   "outputs": [],
   "source": [
    "normal_iou_thrs = iou_thrs_5to95\n",
    "all_range_iou_thrs = full_iou_thrs\n",
    "score_thrs = 0.1"
   ]
  },
  {
   "cell_type": "code",
   "execution_count": 6,
   "metadata": {},
   "outputs": [
    {
     "data": {
      "text/plain": [
       "['Enlarged cardiac silhouette',\n",
       " 'Atelectasis',\n",
       " 'Pleural abnormality',\n",
       " 'Consolidation',\n",
       " 'Pulmonary edema']"
      ]
     },
     "execution_count": 6,
     "metadata": {},
     "output_type": "execute_result"
    }
   ],
   "source": [
    "DEFAULT_REFLACX_LABEL_COLS"
   ]
  },
  {
   "cell_type": "code",
   "execution_count": 7,
   "metadata": {},
   "outputs": [],
   "source": [
    "disease = \"Pulmonary edema\""
   ]
  },
  {
   "cell_type": "code",
   "execution_count": 8,
   "metadata": {},
   "outputs": [],
   "source": [
    "num_fps = {}\n",
    "num_fns = {}\n",
    "num_tps = {}"
   ]
  },
  {
   "cell_type": "code",
   "execution_count": 9,
   "metadata": {},
   "outputs": [
    {
     "name": "stderr",
     "output_type": "stream",
     "text": [
      "  0%|          | 0/4 [00:00<?, ?it/s]"
     ]
    },
    {
     "name": "stdout",
     "output_type": "stream",
     "text": [
      "Load custom model\n",
      "Using pretrained backbone. mobilenet_v3\n",
      "Using pretrained backbone. mobilenet_v3\n",
      "Mask Hidden Layers 256\n",
      "Using SGD as optimizer with lr=0.001\n",
      "creating index...\n",
      "index created!\n",
      "creating index...\n",
      "index created!\n",
      "Evaluation:  [ 0/26]  eta: 0:01:26  loss: 0.7544 (0.7544)  loss_classifier: 0.0243 (0.0243)  loss_box_reg: 0.0139 (0.0139)  loss_mask: 0.6970 (0.6970)  loss_objectness: 0.0180 (0.0180)  loss_rpn_box_reg: 0.0012 (0.0012)  model_time: 2.2337 (2.2337)  evaluator_time: 0.2845 (0.2845)  time: 3.3245  data: 0.5346  max mem: 1060\n"
     ]
    },
    {
     "name": "stderr",
     "output_type": "stream",
     "text": [
      " 25%|██▌       | 1/4 [00:53<02:41, 53.93s/it]"
     ]
    },
    {
     "name": "stdout",
     "output_type": "stream",
     "text": [
      "Evaluation:  [25/26]  eta: 0:00:00  loss: 0.4686 (0.4277)  loss_classifier: 0.0155 (0.0194)  loss_box_reg: 0.0091 (0.0133)  loss_mask: 0.3755 (0.3700)  loss_objectness: 0.0176 (0.0222)  loss_rpn_box_reg: 0.0015 (0.0029)  model_time: 0.1157 (0.2011)  evaluator_time: 0.1753 (0.1844)  time: 0.8857  data: 0.4988  max mem: 1178\n",
      "Evaluation: Total time: 0:00:25 (0.9744 s / it)\n",
      "Averaged stats: loss: 0.4686 (0.4277)  loss_classifier: 0.0155 (0.0194)  loss_box_reg: 0.0091 (0.0133)  loss_mask: 0.3755 (0.3700)  loss_objectness: 0.0176 (0.0222)  loss_rpn_box_reg: 0.0015 (0.0029)  model_time: 0.1157 (0.2011)  evaluator_time: 0.1753 (0.1844)\n",
      "Accumulating evaluation results...\n",
      "DONE (t=0.00s).\n",
      "Accumulating evaluation results...\n",
      "DONE (t=0.00s).\n",
      "IoU metric: bbox\n",
      " Average Precision  (AP) @[ IoBB=0.50:0.95 | area=   all | maxDets=100 ] = -1.000\n",
      " Average Precision  (AP) @[ IoBB=0.50      | area=   all | maxDets= 10 ] = 0.193\n",
      " Average Precision  (AP) @[ IoBB=0.75      | area=   all | maxDets= 10 ] = 0.168\n",
      " Average Precision  (AP) @[ IoBB=0.50:0.95 | area= small | maxDets= 10 ] = -1.000\n",
      " Average Precision  (AP) @[ IoBB=0.50:0.95 | area=medium | maxDets= 10 ] = -1.000\n",
      " Average Precision  (AP) @[ IoBB=0.50:0.95 | area= large | maxDets= 10 ] = 0.155\n",
      " Average Recall     (AR) @[ IoBB=0.50:0.95 | area=   all | maxDets=  1 ] = 0.328\n",
      " Average Recall     (AR) @[ IoBB=0.50:0.95 | area=   all | maxDets= 10 ] = 0.461\n",
      " Average Recall     (AR) @[ IoBB=0.50:0.95 | area=   all | maxDets= 10 ] = 0.461\n",
      " Average Recall     (AR) @[ IoBB=0.50:0.95 | area= small | maxDets= 10 ] = -1.000\n",
      " Average Recall     (AR) @[ IoBB=0.50:0.95 | area=medium | maxDets= 10 ] = -1.000\n",
      " Average Recall     (AR) @[ IoBB=0.50:0.95 | area= large | maxDets= 10 ] = 0.461\n",
      "IoU metric: segm\n",
      " Average Precision  (AP) @[  IoU=0.50:0.95 | area=   all | maxDets=100 ] = -1.000\n",
      " Average Precision  (AP) @[  IoU=0.50      | area=   all | maxDets= 10 ] = 0.090\n",
      " Average Precision  (AP) @[  IoU=0.75      | area=   all | maxDets= 10 ] = 0.006\n",
      " Average Precision  (AP) @[  IoU=0.50:0.95 | area= small | maxDets= 10 ] = -1.000\n",
      " Average Precision  (AP) @[  IoU=0.50:0.95 | area=medium | maxDets= 10 ] = -1.000\n",
      " Average Precision  (AP) @[  IoU=0.50:0.95 | area= large | maxDets= 10 ] = 0.027\n",
      " Average Recall     (AR) @[  IoU=0.50:0.95 | area=   all | maxDets=  1 ] = 0.061\n",
      " Average Recall     (AR) @[  IoU=0.50:0.95 | area=   all | maxDets= 10 ] = 0.072\n",
      " Average Recall     (AR) @[  IoU=0.50:0.95 | area=   all | maxDets= 10 ] = 0.072\n",
      " Average Recall     (AR) @[  IoU=0.50:0.95 | area= small | maxDets= 10 ] = -1.000\n",
      " Average Recall     (AR) @[  IoU=0.50:0.95 | area=medium | maxDets= 10 ] = -1.000\n",
      " Average Recall     (AR) @[  IoU=0.50:0.95 | area= large | maxDets= 10 ] = 0.072\n",
      "Load custom model\n",
      "Using pretrained backbone. mobilenet_v3\n",
      "Mask Hidden Layers 256\n",
      "Using SGD as optimizer with lr=0.001\n",
      "creating index...\n",
      "index created!\n",
      "creating index...\n",
      "index created!\n",
      "Evaluation:  [ 0/26]  eta: 0:00:29  loss: 0.6064 (0.6064)  loss_classifier: 0.0181 (0.0181)  loss_box_reg: 0.0126 (0.0126)  loss_mask: 0.5633 (0.5633)  loss_objectness: 0.0113 (0.0113)  loss_rpn_box_reg: 0.0012 (0.0012)  model_time: 0.1551 (0.1551)  evaluator_time: 0.3001 (0.3001)  time: 1.1438  data: 0.6208  max mem: 1178\n"
     ]
    },
    {
     "name": "stderr",
     "output_type": "stream",
     "text": [
      " 50%|█████     | 2/4 [01:44<01:43, 51.73s/it]"
     ]
    },
    {
     "name": "stdout",
     "output_type": "stream",
     "text": [
      "Evaluation:  [25/26]  eta: 0:00:00  loss: 0.4028 (0.3135)  loss_classifier: 0.0092 (0.0129)  loss_box_reg: 0.0064 (0.0093)  loss_mask: 0.3421 (0.2649)  loss_objectness: 0.0160 (0.0233)  loss_rpn_box_reg: 0.0014 (0.0031)  model_time: 0.0867 (0.0829)  evaluator_time: 0.1450 (0.1332)  time: 0.8247  data: 0.5369  max mem: 1178\n",
      "Evaluation: Total time: 0:00:21 (0.8307 s / it)\n",
      "Averaged stats: loss: 0.4028 (0.3135)  loss_classifier: 0.0092 (0.0129)  loss_box_reg: 0.0064 (0.0093)  loss_mask: 0.3421 (0.2649)  loss_objectness: 0.0160 (0.0233)  loss_rpn_box_reg: 0.0014 (0.0031)  model_time: 0.0867 (0.0829)  evaluator_time: 0.1450 (0.1332)\n",
      "Accumulating evaluation results...\n",
      "DONE (t=0.00s).\n",
      "Accumulating evaluation results...\n",
      "DONE (t=0.00s).\n",
      "IoU metric: bbox\n",
      " Average Precision  (AP) @[ IoBB=0.50:0.95 | area=   all | maxDets=100 ] = -1.000\n",
      " Average Precision  (AP) @[ IoBB=0.50      | area=   all | maxDets= 10 ] = 0.098\n",
      " Average Precision  (AP) @[ IoBB=0.75      | area=   all | maxDets= 10 ] = 0.035\n",
      " Average Precision  (AP) @[ IoBB=0.50:0.95 | area= small | maxDets= 10 ] = -1.000\n",
      " Average Precision  (AP) @[ IoBB=0.50:0.95 | area=medium | maxDets= 10 ] = -1.000\n",
      " Average Precision  (AP) @[ IoBB=0.50:0.95 | area= large | maxDets= 10 ] = 0.060\n",
      " Average Recall     (AR) @[ IoBB=0.50:0.95 | area=   all | maxDets=  1 ] = 0.133\n",
      " Average Recall     (AR) @[ IoBB=0.50:0.95 | area=   all | maxDets= 10 ] = 0.172\n",
      " Average Recall     (AR) @[ IoBB=0.50:0.95 | area=   all | maxDets= 10 ] = 0.172\n",
      " Average Recall     (AR) @[ IoBB=0.50:0.95 | area= small | maxDets= 10 ] = -1.000\n",
      " Average Recall     (AR) @[ IoBB=0.50:0.95 | area=medium | maxDets= 10 ] = -1.000\n",
      " Average Recall     (AR) @[ IoBB=0.50:0.95 | area= large | maxDets= 10 ] = 0.172\n",
      "IoU metric: segm\n",
      " Average Precision  (AP) @[  IoU=0.50:0.95 | area=   all | maxDets=100 ] = -1.000\n",
      " Average Precision  (AP) @[  IoU=0.50      | area=   all | maxDets= 10 ] = 0.086\n",
      " Average Precision  (AP) @[  IoU=0.75      | area=   all | maxDets= 10 ] = 0.000\n",
      " Average Precision  (AP) @[  IoU=0.50:0.95 | area= small | maxDets= 10 ] = -1.000\n",
      " Average Precision  (AP) @[  IoU=0.50:0.95 | area=medium | maxDets= 10 ] = -1.000\n",
      " Average Precision  (AP) @[  IoU=0.50:0.95 | area= large | maxDets= 10 ] = 0.011\n",
      " Average Recall     (AR) @[  IoU=0.50:0.95 | area=   all | maxDets=  1 ] = 0.033\n",
      " Average Recall     (AR) @[  IoU=0.50:0.95 | area=   all | maxDets= 10 ] = 0.050\n",
      " Average Recall     (AR) @[  IoU=0.50:0.95 | area=   all | maxDets= 10 ] = 0.050\n",
      " Average Recall     (AR) @[  IoU=0.50:0.95 | area= small | maxDets= 10 ] = -1.000\n",
      " Average Recall     (AR) @[  IoU=0.50:0.95 | area=medium | maxDets= 10 ] = -1.000\n",
      " Average Recall     (AR) @[  IoU=0.50:0.95 | area= large | maxDets= 10 ] = 0.050\n",
      "Load custom model\n",
      "Using pretrained backbone. mobilenet_v3\n",
      "Using pretrained backbone. mobilenet_v3\n",
      "Using SGD as optimizer with lr=0.001\n",
      "creating index...\n",
      "index created!\n",
      "creating index...\n",
      "index created!\n",
      "Evaluation:  [ 0/26]  eta: 0:00:22  loss: 0.0614 (0.0614)  loss_classifier: 0.0293 (0.0293)  loss_box_reg: 0.0171 (0.0171)  loss_objectness: 0.0143 (0.0143)  loss_rpn_box_reg: 0.0006 (0.0006)  model_time: 0.0774 (0.0774)  evaluator_time: 0.0010 (0.0010)  time: 0.8493  data: 0.5463  max mem: 1178\n"
     ]
    },
    {
     "name": "stderr",
     "output_type": "stream",
     "text": [
      " 75%|███████▌  | 3/4 [02:27<00:47, 47.70s/it]"
     ]
    },
    {
     "name": "stdout",
     "output_type": "stream",
     "text": [
      "Evaluation:  [25/26]  eta: 0:00:00  loss: 0.0516 (0.0571)  loss_classifier: 0.0164 (0.0197)  loss_box_reg: 0.0113 (0.0139)  loss_objectness: 0.0154 (0.0206)  loss_rpn_box_reg: 0.0017 (0.0029)  model_time: 0.0692 (0.0691)  evaluator_time: 0.0010 (0.0008)  time: 0.6356  data: 0.5084  max mem: 1178\n",
      "Evaluation: Total time: 0:00:16 (0.6473 s / it)\n",
      "Averaged stats: loss: 0.0516 (0.0571)  loss_classifier: 0.0164 (0.0197)  loss_box_reg: 0.0113 (0.0139)  loss_objectness: 0.0154 (0.0206)  loss_rpn_box_reg: 0.0017 (0.0029)  model_time: 0.0692 (0.0691)  evaluator_time: 0.0010 (0.0008)\n",
      "Accumulating evaluation results...\n",
      "DONE (t=0.00s).\n",
      "IoU metric: bbox\n",
      " Average Precision  (AP) @[ IoBB=0.50:0.95 | area=   all | maxDets=100 ] = -1.000\n",
      " Average Precision  (AP) @[ IoBB=0.50      | area=   all | maxDets= 10 ] = 0.323\n",
      " Average Precision  (AP) @[ IoBB=0.75      | area=   all | maxDets= 10 ] = 0.138\n",
      " Average Precision  (AP) @[ IoBB=0.50:0.95 | area= small | maxDets= 10 ] = -1.000\n",
      " Average Precision  (AP) @[ IoBB=0.50:0.95 | area=medium | maxDets= 10 ] = -1.000\n",
      " Average Precision  (AP) @[ IoBB=0.50:0.95 | area= large | maxDets= 10 ] = 0.166\n",
      " Average Recall     (AR) @[ IoBB=0.50:0.95 | area=   all | maxDets=  1 ] = 0.267\n",
      " Average Recall     (AR) @[ IoBB=0.50:0.95 | area=   all | maxDets= 10 ] = 0.378\n",
      " Average Recall     (AR) @[ IoBB=0.50:0.95 | area=   all | maxDets= 10 ] = 0.378\n",
      " Average Recall     (AR) @[ IoBB=0.50:0.95 | area= small | maxDets= 10 ] = -1.000\n",
      " Average Recall     (AR) @[ IoBB=0.50:0.95 | area=medium | maxDets= 10 ] = -1.000\n",
      " Average Recall     (AR) @[ IoBB=0.50:0.95 | area= large | maxDets= 10 ] = 0.378\n",
      "Load custom model\n",
      "Using pretrained backbone. mobilenet_v3\n",
      "Mask Hidden Layers 256\n",
      "Using SGD as optimizer with lr=0.001\n",
      "creating index...\n",
      "index created!\n",
      "creating index...\n",
      "index created!\n",
      "Evaluation:  [ 0/26]  eta: 0:00:36  loss: 0.3442 (0.3442)  loss_classifier: 0.0515 (0.0515)  loss_box_reg: 0.0066 (0.0066)  loss_mask: 0.2645 (0.2645)  loss_objectness: 0.0203 (0.0203)  loss_rpn_box_reg: 0.0013 (0.0013)  model_time: 0.2152 (0.2152)  evaluator_time: 0.5327 (0.5327)  time: 1.4201  data: 0.6026  max mem: 1368\n"
     ]
    },
    {
     "name": "stderr",
     "output_type": "stream",
     "text": [
      "100%|██████████| 4/4 [03:20<00:00, 50.04s/it]"
     ]
    },
    {
     "name": "stdout",
     "output_type": "stream",
     "text": [
      "Evaluation:  [25/26]  eta: 0:00:00  loss: 0.4317 (0.3738)  loss_classifier: 0.0255 (0.0283)  loss_box_reg: 0.0093 (0.0165)  loss_mask: 0.3599 (0.3044)  loss_objectness: 0.0200 (0.0219)  loss_rpn_box_reg: 0.0014 (0.0028)  model_time: 0.1067 (0.1147)  evaluator_time: 0.2289 (0.2512)  time: 0.9625  data: 0.5241  max mem: 1368\n",
      "Evaluation: Total time: 0:00:25 (0.9839 s / it)\n",
      "Averaged stats: loss: 0.4317 (0.3738)  loss_classifier: 0.0255 (0.0283)  loss_box_reg: 0.0093 (0.0165)  loss_mask: 0.3599 (0.3044)  loss_objectness: 0.0200 (0.0219)  loss_rpn_box_reg: 0.0014 (0.0028)  model_time: 0.1067 (0.1147)  evaluator_time: 0.2289 (0.2512)\n",
      "Accumulating evaluation results...\n",
      "DONE (t=0.01s).\n",
      "Accumulating evaluation results...\n",
      "DONE (t=0.00s).\n",
      "IoU metric: bbox\n",
      " Average Precision  (AP) @[ IoBB=0.50:0.95 | area=   all | maxDets=100 ] = -1.000\n",
      " Average Precision  (AP) @[ IoBB=0.50      | area=   all | maxDets= 10 ] = 0.086\n",
      " Average Precision  (AP) @[ IoBB=0.75      | area=   all | maxDets= 10 ] = 0.049\n",
      " Average Precision  (AP) @[ IoBB=0.50:0.95 | area= small | maxDets= 10 ] = -1.000\n",
      " Average Precision  (AP) @[ IoBB=0.50:0.95 | area=medium | maxDets= 10 ] = -1.000\n",
      " Average Precision  (AP) @[ IoBB=0.50:0.95 | area= large | maxDets= 10 ] = 0.049\n",
      " Average Recall     (AR) @[ IoBB=0.50:0.95 | area=   all | maxDets=  1 ] = 0.272\n",
      " Average Recall     (AR) @[ IoBB=0.50:0.95 | area=   all | maxDets= 10 ] = 0.428\n",
      " Average Recall     (AR) @[ IoBB=0.50:0.95 | area=   all | maxDets= 10 ] = 0.428\n",
      " Average Recall     (AR) @[ IoBB=0.50:0.95 | area= small | maxDets= 10 ] = -1.000\n",
      " Average Recall     (AR) @[ IoBB=0.50:0.95 | area=medium | maxDets= 10 ] = -1.000\n",
      " Average Recall     (AR) @[ IoBB=0.50:0.95 | area= large | maxDets= 10 ] = 0.428\n",
      "IoU metric: segm\n",
      " Average Precision  (AP) @[  IoU=0.50:0.95 | area=   all | maxDets=100 ] = -1.000\n",
      " Average Precision  (AP) @[  IoU=0.50      | area=   all | maxDets= 10 ] = 0.031\n",
      " Average Precision  (AP) @[  IoU=0.75      | area=   all | maxDets= 10 ] = 0.000\n",
      " Average Precision  (AP) @[  IoU=0.50:0.95 | area= small | maxDets= 10 ] = -1.000\n",
      " Average Precision  (AP) @[  IoU=0.50:0.95 | area=medium | maxDets= 10 ] = -1.000\n",
      " Average Precision  (AP) @[  IoU=0.50:0.95 | area= large | maxDets= 10 ] = 0.007\n",
      " Average Recall     (AR) @[  IoU=0.50:0.95 | area=   all | maxDets=  1 ] = 0.072\n",
      " Average Recall     (AR) @[  IoU=0.50:0.95 | area=   all | maxDets= 10 ] = 0.078\n",
      " Average Recall     (AR) @[  IoU=0.50:0.95 | area=   all | maxDets= 10 ] = 0.078\n",
      " Average Recall     (AR) @[  IoU=0.50:0.95 | area= small | maxDets= 10 ] = -1.000\n",
      " Average Recall     (AR) @[  IoU=0.50:0.95 | area=medium | maxDets= 10 ] = -1.000\n",
      " Average Recall     (AR) @[  IoU=0.50:0.95 | area= large | maxDets= 10 ] = 0.078\n"
     ]
    },
    {
     "name": "stderr",
     "output_type": "stream",
     "text": [
      "\n"
     ]
    }
   ],
   "source": [
    "for select_model in tqdm([\n",
    "    TrainedModels.CXR_Clinical_fusion1,\n",
    "    TrainedModels.CXR_Clinical_fusion2,\n",
    "    TrainedModels.CXR_Clinial_fusion1_fusion2,\n",
    "    TrainedModels.CXR\n",
    "]):\n",
    "    model, train_info, _, _ = get_trained_model(\n",
    "            select_model,\n",
    "            DEFAULT_REFLACX_LABEL_COLS,\n",
    "            device,\n",
    "            rpn_nms_thresh=0.3,\n",
    "            box_detections_per_img=10,\n",
    "            box_nms_thresh=0.2,\n",
    "            rpn_score_thresh=0.0,\n",
    "            box_score_thresh=score_thrs,\n",
    "        )\n",
    "\n",
    "    model.eval()\n",
    "\n",
    "\n",
    "    iou_types = get_iou_types(model, train_info.model_setup)\n",
    "\n",
    "    model_setup = train_info.model_setup\n",
    "    dataset_params_dict = {\n",
    "        \"XAMI_MIMIC_PATH\": XAMI_MIMIC_PATH,\n",
    "        \"with_clinical\": model_setup.use_clinical,\n",
    "        \"dataset_mode\": model_setup.dataset_mode,\n",
    "        \"bbox_to_mask\": model_setup.use_mask,\n",
    "        \"normalise_clinical_num\": model_setup.normalise_clinical_num,\n",
    "        \"labels_cols\": DEFAULT_REFLACX_LABEL_COLS,\n",
    "    }\n",
    "\n",
    "    test_dataset = ReflacxDataset(\n",
    "        **dataset_params_dict, split_str=\"test\", transforms=get_transform(train=False),\n",
    "    )\n",
    "\n",
    "    test_dataloader = DataLoader(\n",
    "        test_dataset,\n",
    "        batch_size=4,\n",
    "        shuffle=True,\n",
    "        collate_fn=collate_fn,\n",
    "        worker_init_fn=seed_worker,\n",
    "        generator=get_dataloader_g(0),\n",
    "    )\n",
    "\n",
    "    test_coco = get_coco_api_from_dataset(test_dataloader.dataset)\n",
    "\n",
    "    normal_eval_params_dict = get_eval_params_dict(\n",
    "            test_dataset, iou_thrs=normal_iou_thrs,\n",
    "        )\n",
    "\n",
    "\n",
    "    ## performing cat_id filtering here.\n",
    "    cat_id =  test_dataset.disease_to_idx(disease) if disease else None\n",
    "\n",
    "    cat_ids = (\n",
    "        [\n",
    "            test_dataset.disease_to_idx(d)\n",
    "            for d in test_dataset.labels_cols\n",
    "        ]\n",
    "        if cat_id is None\n",
    "        else [cat_id]\n",
    "    )\n",
    "\n",
    "    if not (cat_ids is None):\n",
    "        normal_eval_params_dict[\"bbox\"].catIds = cat_ids\n",
    "        normal_eval_params_dict[\"segm\"].catIds = cat_ids\n",
    "        \n",
    "    test_evaluator, _ = xami_evaluate(\n",
    "                model,\n",
    "                test_dataloader,\n",
    "                device=device,\n",
    "                params_dict=normal_eval_params_dict,\n",
    "                coco=test_coco,\n",
    "                iou_types=iou_types,\n",
    "                # score_thres=score_thres,\n",
    "            )\n",
    "\n",
    "    num_fps[naming_map[select_model]]= get_num_fps(\n",
    "                test_evaluator, areaRng=\"all\", maxDets=10, iouThr=0.5,\n",
    "            )\n",
    "\n",
    "    num_fns[naming_map[select_model]]= get_num_fns(\n",
    "                test_evaluator, areaRng=\"all\", maxDets=10, iouThr=0.5,\n",
    "            )\n",
    "\n",
    "    num_tps[naming_map[select_model]]= get_num_tps(\n",
    "                test_evaluator, areaRng=\"all\", maxDets=10, iouThr=0.5,\n",
    "            )\n"
   ]
  },
  {
   "cell_type": "code",
   "execution_count": 10,
   "metadata": {},
   "outputs": [
    {
     "name": "stdout",
     "output_type": "stream",
     "text": [
      "Pulmonary edema\n"
     ]
    },
    {
     "data": {
      "text/html": [
       "<div>\n",
       "<style scoped>\n",
       "    .dataframe tbody tr th:only-of-type {\n",
       "        vertical-align: middle;\n",
       "    }\n",
       "\n",
       "    .dataframe tbody tr th {\n",
       "        vertical-align: top;\n",
       "    }\n",
       "\n",
       "    .dataframe thead th {\n",
       "        text-align: right;\n",
       "    }\n",
       "</style>\n",
       "<table border=\"1\" class=\"dataframe\">\n",
       "  <thead>\n",
       "    <tr style=\"text-align: right;\">\n",
       "      <th></th>\n",
       "      <th>#False Positives</th>\n",
       "      <th>#False Negatives</th>\n",
       "      <th>#True Positives</th>\n",
       "    </tr>\n",
       "  </thead>\n",
       "  <tbody>\n",
       "    <tr>\n",
       "      <th>CXR+Clinical (fusion1)</th>\n",
       "      <td>51</td>\n",
       "      <td>8</td>\n",
       "      <td>10</td>\n",
       "    </tr>\n",
       "    <tr>\n",
       "      <th>CXR+Clinical (fusion2)</th>\n",
       "      <td>23</td>\n",
       "      <td>13</td>\n",
       "      <td>5</td>\n",
       "    </tr>\n",
       "    <tr>\n",
       "      <th>CXR+Clinical (fusion1+2)</th>\n",
       "      <td>45</td>\n",
       "      <td>7</td>\n",
       "      <td>11</td>\n",
       "    </tr>\n",
       "    <tr>\n",
       "      <th>CXR (baseline)</th>\n",
       "      <td>75</td>\n",
       "      <td>7</td>\n",
       "      <td>11</td>\n",
       "    </tr>\n",
       "  </tbody>\n",
       "</table>\n",
       "</div>"
      ],
      "text/plain": [
       "                          #False Positives  #False Negatives  #True Positives\n",
       "CXR+Clinical (fusion1)                  51                 8               10\n",
       "CXR+Clinical (fusion2)                  23                13                5\n",
       "CXR+Clinical (fusion1+2)                45                 7               11\n",
       "CXR (baseline)                          75                 7               11"
      ]
     },
     "execution_count": 10,
     "metadata": {},
     "output_type": "execute_result"
    }
   ],
   "source": [
    "print(disease if disease else \"Overall\")\n",
    "pd.DataFrame({\n",
    "    \"#False Positives\": num_fps,\n",
    "    \"#False Negatives\": num_fns,\n",
    "    \"#True Positives\": num_tps,\n",
    "}).astype(int)"
   ]
  },
  {
   "cell_type": "code",
   "execution_count": null,
   "metadata": {},
   "outputs": [],
   "source": []
  },
  {
   "cell_type": "markdown",
   "metadata": {},
   "source": []
  }
 ],
 "metadata": {
  "kernelspec": {
   "display_name": "Python 3.9.7 ('pytorch')",
   "language": "python",
   "name": "python3"
  },
  "language_info": {
   "codemirror_mode": {
    "name": "ipython",
    "version": 3
   },
   "file_extension": ".py",
   "mimetype": "text/x-python",
   "name": "python",
   "nbconvert_exporter": "python",
   "pygments_lexer": "ipython3",
   "version": "3.9.7"
  },
  "orig_nbformat": 4,
  "vscode": {
   "interpreter": {
    "hash": "52a48fdedee40b77eb251917c5aa239bf02f1ab8c93cc13fe7347f570eadc6b9"
   }
  }
 },
 "nbformat": 4,
 "nbformat_minor": 2
}
